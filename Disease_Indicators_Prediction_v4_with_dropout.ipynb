{
 "cells": [
  {
   "cell_type": "markdown",
   "metadata": {
    "id": "jScRtiZxMfL9"
   },
   "source": [
    "# Disease Prediction\n",
    "\n"
   ]
  },
  {
   "cell_type": "markdown",
   "metadata": {
    "id": "eA0-wujXMwEE"
   },
   "source": [
    "## Setup and initialization"
   ]
  },
  {
   "cell_type": "code",
   "execution_count": 1,
   "metadata": {
    "colab": {
     "base_uri": "https://localhost:8080/"
    },
    "id": "14juYhy7Mp4O",
    "outputId": "0b8cb550-0e78-4ffd-9c2e-38e3504c473c"
   },
   "outputs": [
    {
     "name": "stdout",
     "output_type": "stream",
     "text": [
      "2.11.0\n"
     ]
    }
   ],
   "source": [
    "import tensorflow as tf\n",
    "\n",
    "from tensorflow.keras import layers\n",
    "from tensorflow.keras import regularizers\n",
    "from sklearn.model_selection import train_test_split\n",
    "\n",
    "print(tf.__version__)\n",
    "\n",
    "# let's set the random seed to make the results reproducible\n",
    "tf.random.set_seed(299)"
   ]
  },
  {
   "cell_type": "code",
   "execution_count": 2,
   "metadata": {
    "id": "z-8pEjoLrx8S"
   },
   "outputs": [],
   "source": [
    "#!pip install git+https://github.com/tensorflow/docs\n",
    "\n",
    "try:\n",
    "  import tensorflow_docs as tfdocs\n",
    "  import tensorflow_docs.modeling\n",
    "  import tensorflow_docs.plots\n",
    "except:\n",
    "  !pip install git+https://github.com/tensorflow/docs\n",
    "  import tensorflow_docs as tfdocs\n",
    "  import tensorflow_docs.modeling\n",
    "  import tensorflow_docs.plots\n",
    "  "
   ]
  },
  {
   "cell_type": "code",
   "execution_count": 3,
   "metadata": {
    "id": "6bYBQO6Hoogj"
   },
   "outputs": [],
   "source": [
    "from  IPython import display\n",
    "from matplotlib import pyplot as plt\n",
    "\n",
    "import numpy as np\n",
    "\n",
    "import pathlib\n",
    "import shutil\n",
    "import tempfile"
   ]
  },
  {
   "cell_type": "code",
   "execution_count": 4,
   "metadata": {
    "id": "FNIgOz_Poogj"
   },
   "outputs": [],
   "source": [
    "# currentdir\n",
    "import os\n",
    "\n",
    "logdir = os.path.join(os.getcwd(), \"tensorboard_logs\")\n",
    "shutil.rmtree(logdir, ignore_errors=True)"
   ]
  },
  {
   "cell_type": "markdown",
   "metadata": {
    "id": "wmYSJcWMSnZU"
   },
   "source": [
    "## 1. Dataset Preparation"
   ]
  },
  {
   "cell_type": "code",
   "execution_count": 5,
   "metadata": {
    "colab": {
     "base_uri": "https://localhost:8080/",
     "height": 381
    },
    "id": "Kx4tROB9MuM8",
    "outputId": "fdb273ee-f9aa-464f-a937-638a9d380823"
   },
   "outputs": [
    {
     "data": {
      "text/html": [
       "<div>\n",
       "<style scoped>\n",
       "    .dataframe tbody tr th:only-of-type {\n",
       "        vertical-align: middle;\n",
       "    }\n",
       "\n",
       "    .dataframe tbody tr th {\n",
       "        vertical-align: top;\n",
       "    }\n",
       "\n",
       "    .dataframe thead th {\n",
       "        text-align: right;\n",
       "    }\n",
       "</style>\n",
       "<table border=\"1\" class=\"dataframe\">\n",
       "  <thead>\n",
       "    <tr style=\"text-align: right;\">\n",
       "      <th></th>\n",
       "      <th>itching</th>\n",
       "      <th>skin_rash</th>\n",
       "      <th>nodal_skin_eruptions</th>\n",
       "      <th>continuous_sneezing</th>\n",
       "      <th>shivering</th>\n",
       "      <th>chills</th>\n",
       "      <th>joint_pain</th>\n",
       "      <th>stomach_pain</th>\n",
       "      <th>acidity</th>\n",
       "      <th>ulcers_on_tongue</th>\n",
       "      <th>...</th>\n",
       "      <th>scurring</th>\n",
       "      <th>skin_peeling</th>\n",
       "      <th>silver_like_dusting</th>\n",
       "      <th>small_dents_in_nails</th>\n",
       "      <th>inflammatory_nails</th>\n",
       "      <th>blister</th>\n",
       "      <th>red_sore_around_nose</th>\n",
       "      <th>yellow_crust_ooze</th>\n",
       "      <th>prognosis</th>\n",
       "      <th>Unnamed: 133</th>\n",
       "    </tr>\n",
       "  </thead>\n",
       "  <tbody>\n",
       "    <tr>\n",
       "      <th>0</th>\n",
       "      <td>1</td>\n",
       "      <td>1</td>\n",
       "      <td>1</td>\n",
       "      <td>0</td>\n",
       "      <td>0</td>\n",
       "      <td>0</td>\n",
       "      <td>0</td>\n",
       "      <td>0</td>\n",
       "      <td>0</td>\n",
       "      <td>0</td>\n",
       "      <td>...</td>\n",
       "      <td>0</td>\n",
       "      <td>0</td>\n",
       "      <td>0</td>\n",
       "      <td>0</td>\n",
       "      <td>0</td>\n",
       "      <td>0</td>\n",
       "      <td>0</td>\n",
       "      <td>0</td>\n",
       "      <td>Fungal infection</td>\n",
       "      <td>NaN</td>\n",
       "    </tr>\n",
       "    <tr>\n",
       "      <th>1</th>\n",
       "      <td>0</td>\n",
       "      <td>1</td>\n",
       "      <td>1</td>\n",
       "      <td>0</td>\n",
       "      <td>0</td>\n",
       "      <td>0</td>\n",
       "      <td>0</td>\n",
       "      <td>0</td>\n",
       "      <td>0</td>\n",
       "      <td>0</td>\n",
       "      <td>...</td>\n",
       "      <td>0</td>\n",
       "      <td>0</td>\n",
       "      <td>0</td>\n",
       "      <td>0</td>\n",
       "      <td>0</td>\n",
       "      <td>0</td>\n",
       "      <td>0</td>\n",
       "      <td>0</td>\n",
       "      <td>Fungal infection</td>\n",
       "      <td>NaN</td>\n",
       "    </tr>\n",
       "    <tr>\n",
       "      <th>2</th>\n",
       "      <td>1</td>\n",
       "      <td>0</td>\n",
       "      <td>1</td>\n",
       "      <td>0</td>\n",
       "      <td>0</td>\n",
       "      <td>0</td>\n",
       "      <td>0</td>\n",
       "      <td>0</td>\n",
       "      <td>0</td>\n",
       "      <td>0</td>\n",
       "      <td>...</td>\n",
       "      <td>0</td>\n",
       "      <td>0</td>\n",
       "      <td>0</td>\n",
       "      <td>0</td>\n",
       "      <td>0</td>\n",
       "      <td>0</td>\n",
       "      <td>0</td>\n",
       "      <td>0</td>\n",
       "      <td>Fungal infection</td>\n",
       "      <td>NaN</td>\n",
       "    </tr>\n",
       "    <tr>\n",
       "      <th>3</th>\n",
       "      <td>1</td>\n",
       "      <td>1</td>\n",
       "      <td>0</td>\n",
       "      <td>0</td>\n",
       "      <td>0</td>\n",
       "      <td>0</td>\n",
       "      <td>0</td>\n",
       "      <td>0</td>\n",
       "      <td>0</td>\n",
       "      <td>0</td>\n",
       "      <td>...</td>\n",
       "      <td>0</td>\n",
       "      <td>0</td>\n",
       "      <td>0</td>\n",
       "      <td>0</td>\n",
       "      <td>0</td>\n",
       "      <td>0</td>\n",
       "      <td>0</td>\n",
       "      <td>0</td>\n",
       "      <td>Fungal infection</td>\n",
       "      <td>NaN</td>\n",
       "    </tr>\n",
       "    <tr>\n",
       "      <th>4</th>\n",
       "      <td>1</td>\n",
       "      <td>1</td>\n",
       "      <td>1</td>\n",
       "      <td>0</td>\n",
       "      <td>0</td>\n",
       "      <td>0</td>\n",
       "      <td>0</td>\n",
       "      <td>0</td>\n",
       "      <td>0</td>\n",
       "      <td>0</td>\n",
       "      <td>...</td>\n",
       "      <td>0</td>\n",
       "      <td>0</td>\n",
       "      <td>0</td>\n",
       "      <td>0</td>\n",
       "      <td>0</td>\n",
       "      <td>0</td>\n",
       "      <td>0</td>\n",
       "      <td>0</td>\n",
       "      <td>Fungal infection</td>\n",
       "      <td>NaN</td>\n",
       "    </tr>\n",
       "  </tbody>\n",
       "</table>\n",
       "<p>5 rows × 134 columns</p>\n",
       "</div>"
      ],
      "text/plain": [
       "   itching  skin_rash  nodal_skin_eruptions  continuous_sneezing  shivering  \\\n",
       "0        1          1                     1                    0          0   \n",
       "1        0          1                     1                    0          0   \n",
       "2        1          0                     1                    0          0   \n",
       "3        1          1                     0                    0          0   \n",
       "4        1          1                     1                    0          0   \n",
       "\n",
       "   chills  joint_pain  stomach_pain  acidity  ulcers_on_tongue  ...  scurring  \\\n",
       "0       0           0             0        0                 0  ...         0   \n",
       "1       0           0             0        0                 0  ...         0   \n",
       "2       0           0             0        0                 0  ...         0   \n",
       "3       0           0             0        0                 0  ...         0   \n",
       "4       0           0             0        0                 0  ...         0   \n",
       "\n",
       "   skin_peeling  silver_like_dusting  small_dents_in_nails  \\\n",
       "0             0                    0                     0   \n",
       "1             0                    0                     0   \n",
       "2             0                    0                     0   \n",
       "3             0                    0                     0   \n",
       "4             0                    0                     0   \n",
       "\n",
       "   inflammatory_nails  blister  red_sore_around_nose  yellow_crust_ooze  \\\n",
       "0                   0        0                     0                  0   \n",
       "1                   0        0                     0                  0   \n",
       "2                   0        0                     0                  0   \n",
       "3                   0        0                     0                  0   \n",
       "4                   0        0                     0                  0   \n",
       "\n",
       "          prognosis  Unnamed: 133  \n",
       "0  Fungal infection           NaN  \n",
       "1  Fungal infection           NaN  \n",
       "2  Fungal infection           NaN  \n",
       "3  Fungal infection           NaN  \n",
       "4  Fungal infection           NaN  \n",
       "\n",
       "[5 rows x 134 columns]"
      ]
     },
     "execution_count": 5,
     "metadata": {},
     "output_type": "execute_result"
    }
   ],
   "source": [
    "import pandas as pd\n",
    "\n",
    "\n",
    "disease_training = pd.read_csv('https://raw.githubusercontent.com/whaldsz/deep-learning/main/Disease_Prediction/Training.csv')\n",
    "disease_testing = pd.read_csv('https://raw.githubusercontent.com/whaldsz/deep-learning/main/Disease_Prediction/Testing.csv')\n",
    "disease_training.head()"
   ]
  },
  {
   "cell_type": "code",
   "execution_count": 6,
   "metadata": {},
   "outputs": [
    {
     "name": "stdout",
     "output_type": "stream",
     "text": [
      "(4920, 134)\n",
      "(42, 133)\n"
     ]
    }
   ],
   "source": [
    "print(disease_training.shape)\n",
    "print(disease_testing.shape)"
   ]
  },
  {
   "cell_type": "markdown",
   "metadata": {
    "id": "JYkWJhNtXhp0"
   },
   "source": [
    "## 3 Remove last column"
   ]
  },
  {
   "cell_type": "code",
   "execution_count": 7,
   "metadata": {
    "id": "NZghc-CaSjkK"
   },
   "outputs": [
    {
     "data": {
      "text/plain": [
       "itching                    0\n",
       "skin_rash                  0\n",
       "nodal_skin_eruptions       0\n",
       "continuous_sneezing        0\n",
       "shivering                  0\n",
       "                        ... \n",
       "blister                    0\n",
       "red_sore_around_nose       0\n",
       "yellow_crust_ooze          0\n",
       "prognosis                  0\n",
       "Unnamed: 133            4920\n",
       "Length: 134, dtype: int64"
      ]
     },
     "execution_count": 7,
     "metadata": {},
     "output_type": "execute_result"
    }
   ],
   "source": [
    "disease_training.isna().sum()"
   ]
  },
  {
   "cell_type": "code",
   "execution_count": 8,
   "metadata": {
    "id": "TYpm082zTDYz"
   },
   "outputs": [
    {
     "data": {
      "text/plain": [
       "itching                 0\n",
       "skin_rash               0\n",
       "nodal_skin_eruptions    0\n",
       "continuous_sneezing     0\n",
       "shivering               0\n",
       "                       ..\n",
       "inflammatory_nails      0\n",
       "blister                 0\n",
       "red_sore_around_nose    0\n",
       "yellow_crust_ooze       0\n",
       "prognosis               0\n",
       "Length: 133, dtype: int64"
      ]
     },
     "execution_count": 8,
     "metadata": {},
     "output_type": "execute_result"
    }
   ],
   "source": [
    "disease_training.drop('Unnamed: 133', inplace=True, axis=1)\n",
    "\n",
    "disease_training.isna().sum()"
   ]
  },
  {
   "cell_type": "code",
   "execution_count": 9,
   "metadata": {
    "id": "hrU739NTTQHL"
   },
   "outputs": [],
   "source": [
    "#disease_training.head()"
   ]
  },
  {
   "cell_type": "markdown",
   "metadata": {
    "id": "Cg6O2vb5r_HE"
   },
   "source": [
    "## Convert category to numeric values"
   ]
  },
  {
   "cell_type": "code",
   "execution_count": 10,
   "metadata": {
    "id": "KWF_gDOVsDEB"
   },
   "outputs": [],
   "source": [
    "#get class labels\n",
    "\n",
    "class_names = np.unique(disease_training.prognosis)\n",
    "disease_training.prognosis = pd.Categorical(disease_training.prognosis)\n",
    "disease_testing.prognosis = pd.Categorical(disease_testing.prognosis)"
   ]
  },
  {
   "cell_type": "code",
   "execution_count": 11,
   "metadata": {
    "id": "47Kx89y1tlDs"
   },
   "outputs": [
    {
     "data": {
      "text/plain": [
       "array(['(vertigo) Paroymsal  Positional Vertigo', 'AIDS', 'Acne',\n",
       "       'Alcoholic hepatitis', 'Allergy', 'Arthritis', 'Bronchial Asthma',\n",
       "       'Cervical spondylosis', 'Chicken pox', 'Chronic cholestasis',\n",
       "       'Common Cold', 'Dengue', 'Diabetes ',\n",
       "       'Dimorphic hemmorhoids(piles)', 'Drug Reaction',\n",
       "       'Fungal infection', 'GERD', 'Gastroenteritis', 'Heart attack',\n",
       "       'Hepatitis B', 'Hepatitis C', 'Hepatitis D', 'Hepatitis E',\n",
       "       'Hypertension ', 'Hyperthyroidism', 'Hypoglycemia',\n",
       "       'Hypothyroidism', 'Impetigo', 'Jaundice', 'Malaria', 'Migraine',\n",
       "       'Osteoarthristis', 'Paralysis (brain hemorrhage)',\n",
       "       'Peptic ulcer diseae', 'Pneumonia', 'Psoriasis', 'Tuberculosis',\n",
       "       'Typhoid', 'Urinary tract infection', 'Varicose veins',\n",
       "       'hepatitis A'], dtype=object)"
      ]
     },
     "execution_count": 11,
     "metadata": {},
     "output_type": "execute_result"
    }
   ],
   "source": [
    "#disease_training.prognosis.cat.codes\n",
    "#disease_training\n",
    "#disease_testing.head()\n",
    "\n",
    "# list class names\n",
    "#class_names[:,None]\n",
    "class_names"
   ]
  },
  {
   "cell_type": "markdown",
   "metadata": {
    "id": "oV6x9-0IactI"
   },
   "source": [
    "## Separate Features and Label - Training"
   ]
  },
  {
   "cell_type": "markdown",
   "metadata": {
    "id": "hz5pI7qjHLlZ"
   },
   "source": [
    "### Training Set"
   ]
  },
  {
   "cell_type": "code",
   "execution_count": 12,
   "metadata": {
    "id": "Ats9rmYNaiES"
   },
   "outputs": [
    {
     "data": {
      "text/plain": [
       "array([ 0,  1,  2,  3,  4,  5,  6,  7,  8,  9, 10, 11, 12, 13, 14, 15, 16,\n",
       "       17, 18, 19, 20, 21, 22, 23, 24, 25, 26, 27, 28, 29, 30, 31, 32, 33,\n",
       "       34, 35, 36, 37, 38, 39, 40], dtype=int8)"
      ]
     },
     "execution_count": 12,
     "metadata": {},
     "output_type": "execute_result"
    }
   ],
   "source": [
    "X = disease_training.drop('prognosis', axis=1)\n",
    "y = disease_training.prognosis.cat.codes\n",
    "np.unique(y)"
   ]
  },
  {
   "cell_type": "markdown",
   "metadata": {
    "id": "YfkFrMKeHOtO"
   },
   "source": [
    "### Unseen Test Set"
   ]
  },
  {
   "cell_type": "code",
   "execution_count": 13,
   "metadata": {
    "id": "_32AZ6XnHTZc"
   },
   "outputs": [
    {
     "data": {
      "text/plain": [
       "array([0, 1], dtype=int64)"
      ]
     },
     "execution_count": 13,
     "metadata": {},
     "output_type": "execute_result"
    }
   ],
   "source": [
    "X_unseen = disease_testing.drop('prognosis', axis=1)\n",
    "y_unseen = disease_testing.prognosis.cat.codes\n",
    "np.unique(X_unseen)"
   ]
  },
  {
   "cell_type": "markdown",
   "metadata": {
    "id": "Nkk4a6TO3ExZ"
   },
   "source": [
    "## Split into Training & Validation Test"
   ]
  },
  {
   "cell_type": "code",
   "execution_count": 14,
   "metadata": {
    "id": "bYRL_KPNcDcr"
   },
   "outputs": [],
   "source": [
    "X_train, X_test, y_train, y_test = train_test_split(X, y, test_size=0.2, random_state=74)\n",
    "#print(X_train.shape)\n",
    "#print(y_train.shape)\n",
    "#print(X_test.shape)\n",
    "#print(y_test.shape)\n"
   ]
  },
  {
   "cell_type": "code",
   "execution_count": 15,
   "metadata": {
    "id": "GrD6Ftlu6hSk"
   },
   "outputs": [
    {
     "data": {
      "text/plain": [
       "((3936, 132), (984, 132))"
      ]
     },
     "execution_count": 15,
     "metadata": {},
     "output_type": "execute_result"
    }
   ],
   "source": [
    "X_train.shape, X_test.shape"
   ]
  },
  {
   "cell_type": "code",
   "execution_count": 16,
   "metadata": {
    "id": "q9H6DlOGoogs"
   },
   "outputs": [
    {
     "data": {
      "text/plain": [
       "132"
      ]
     },
     "execution_count": 16,
     "metadata": {},
     "output_type": "execute_result"
    }
   ],
   "source": [
    "# Number of features\n",
    "FEATURES = 132\n",
    "FEATURES"
   ]
  },
  {
   "cell_type": "markdown",
   "metadata": {
    "id": "cqzUER9BjKE2"
   },
   "source": [
    "## 2. Model Training"
   ]
  },
  {
   "cell_type": "markdown",
   "metadata": {
    "id": "y4ecoazvoogt"
   },
   "source": [
    "### Training configuration"
   ]
  },
  {
   "cell_type": "code",
   "execution_count": 17,
   "metadata": {
    "id": "EEQeBn4loogt"
   },
   "outputs": [
    {
     "data": {
      "text/plain": [
       "[132, 787.2, 3148.8, 100, 50, 62.0]"
      ]
     },
     "execution_count": 17,
     "metadata": {},
     "output_type": "execute_result"
    }
   ],
   "source": [
    "FEATURES=X_train.shape[1]\n",
    "N_VALIDATION = X_train.shape[0] *.2 #int(1e3)\n",
    "N_TRAIN = X_train.shape[0]*.8 #int(1e4)\n",
    "BUFFER_SIZE = int(100)\n",
    "BATCH_SIZE = 50\n",
    "STEPS_PER_EPOCH = N_TRAIN//BATCH_SIZE\n",
    "\n",
    "[FEATURES, N_VALIDATION, N_TRAIN, BUFFER_SIZE, BATCH_SIZE, STEPS_PER_EPOCH]"
   ]
  },
  {
   "cell_type": "markdown",
   "metadata": {
    "id": "fVAIi_Azoogt"
   },
   "source": [
    "### Create Model"
   ]
  },
  {
   "cell_type": "markdown",
   "metadata": {
    "id": "aSiaCCIMFAzn"
   },
   "source": [
    "### Find the ideal learning rate"
   ]
  },
  {
   "cell_type": "code",
   "execution_count": 18,
   "metadata": {
    "id": "l-SVriZKoogu"
   },
   "outputs": [],
   "source": [
    "lr_schedule = tf.keras.optimizers.schedules.InverseTimeDecay(\n",
    "  0.001,\n",
    "  decay_steps=STEPS_PER_EPOCH*100,\n",
    "  decay_rate=1,\n",
    "  staircase=False)\n",
    "\n",
    "def get_optimizer():\n",
    "  return tf.keras.optimizers.Adam(lr_schedule)"
   ]
  },
  {
   "cell_type": "code",
   "execution_count": 19,
   "metadata": {
    "id": "A6-hY9GRoogu"
   },
   "outputs": [
    {
     "data": {
      "image/png": "[encoded data removed]",
      "text/plain": [
       "<Figure size 600x400 with 1 Axes>"
      ]
     },
     "metadata": {},
     "output_type": "display_data"
    }
   ],
   "source": [
    "step = np.linspace(0,100000)\n",
    "lr = lr_schedule(step)\n",
    "plt.figure(figsize = (6,4))\n",
    "plt.plot(step/STEPS_PER_EPOCH, lr)\n",
    "plt.ylim([0,max(plt.ylim())])\n",
    "plt.xlabel('Epoch')\n",
    "_ = plt.ylabel('Learning Rate')"
   ]
  },
  {
   "cell_type": "code",
   "execution_count": 20,
   "metadata": {
    "id": "XvMlla5mxKVX"
   },
   "outputs": [],
   "source": [
    "\n",
    "#metrics = [\n",
    "#    tfma.metrics.ExampleCount(name='example_count'),\n",
    "#    tf.keras.metrics.SparseCategoricalCrossentropy(\n",
    "#        name='sparse_categorical_crossentropy'),\n",
    "#    tf.keras.metrics.SparseCategoricalAccuracy(name='accuracy'),\n",
    "#    tf.keras.metrics.Precision(name='precision', top_k=1),\n",
    "#    tf.keras.metrics.Precision(name='precision', top_k=3),\n",
    "#    tf.keras.metrics.Recall(name='recall', top_k=1),\n",
    "#    tf.keras.metrics.Recall(name='recall', top_k=3),\n",
    "#    tfma.metrics.MultiClassConfusionMatrixPlot(\n",
    "#        name='multi_class_confusion_matrix_plot'),\n",
    "#]\n",
    "\n",
    "METRICS = 'accuracy'\n",
    "LOSS = tf.keras.losses.SparseCategoricalCrossentropy()"
   ]
  },
  {
   "cell_type": "markdown",
   "metadata": {
    "id": "TOADNrUzoogv"
   },
   "source": [
    "### Settings for automation"
   ]
  },
  {
   "cell_type": "code",
   "execution_count": 21,
   "metadata": {
    "id": "ssXag77Woogv"
   },
   "outputs": [],
   "source": [
    "def get_callbacks(name):\n",
    "  return [\n",
    "    tfdocs.modeling.EpochDots(),\n",
    "    tf.keras.callbacks.EarlyStopping(monitor='acc', patience=100),\n",
    "    tf.keras.callbacks.TensorBoard(os.path.join(logdir,name)),\n",
    "  ]"
   ]
  },
  {
   "cell_type": "code",
   "execution_count": 22,
   "metadata": {
    "id": "zu3LUWmuoogw"
   },
   "outputs": [],
   "source": [
    "def compile_and_fit(model, name, loss=None, optimizer=None, metrics = None, max_epochs=10000):\n",
    "  if optimizer is None:\n",
    "    optimizer = get_optimizer()\n",
    "\n",
    "  if loss is None:\n",
    "    loss = LOSS\n",
    "  if metrics is None:\n",
    "    metrics = [METRICS]\n",
    "\n",
    "  model.compile(\n",
    "      optimizer=optimizer,\n",
    "      loss=loss,\n",
    "      metrics=metrics\n",
    "  )\n",
    "\n",
    "  model.summary()\n",
    "\n",
    "  history = model.fit(\n",
    "    X_train,\n",
    "    y_train,\n",
    "    steps_per_epoch = STEPS_PER_EPOCH,\n",
    "    epochs=max_epochs,\n",
    "    validation_split=0.1,\n",
    "    #validation_data=[X_test, y_test],\n",
    "    callbacks=get_callbacks(name),\n",
    "    verbose=0)\n",
    "  return history"
   ]
  },
  {
   "cell_type": "markdown",
   "metadata": {
    "id": "mBr_8aBuoogw"
   },
   "source": [
    "### Models"
   ]
  },
  {
   "cell_type": "code",
   "execution_count": 23,
   "metadata": {
    "id": "nrJxzBr8oogw"
   },
   "outputs": [],
   "source": [
    "size_histories = {}"
   ]
  },
  {
   "cell_type": "markdown",
   "metadata": {
    "id": "5rKawa53oogw"
   },
   "source": [
    "#### Model 1\n",
    "\n",
    "Simple model with 3 layers"
   ]
  },
  {
   "cell_type": "code",
   "execution_count": 24,
   "metadata": {
    "id": "rYf8vdzhoogw"
   },
   "outputs": [],
   "source": [
    "model1 = tf.keras.Sequential([\n",
    "    layers.Dense(4, activation='elu', input_shape=(FEATURES,)),\n",
    "    layers.Dropout(0.2),\n",
    "    layers.Dense(41, activation=tf.keras.activations.softmax)\n",
    "])"
   ]
  },
  {
   "cell_type": "code",
   "execution_count": 25,
   "metadata": {
    "id": "vY6IX1NHoogx"
   },
   "outputs": [
    {
     "name": "stdout",
     "output_type": "stream",
     "text": [
      "Model: \"sequential\"\n",
      "_________________________________________________________________\n",
      " Layer (type)                Output Shape              Param #   \n",
      "=================================================================\n",
      " dense (Dense)               (None, 4)                 532       \n",
      "                                                                 \n",
      " dropout (Dropout)           (None, 4)                 0         \n",
      "                                                                 \n",
      " dense_1 (Dense)             (None, 41)                205       \n",
      "                                                                 \n",
      "=================================================================\n",
      "Total params: 737\n",
      "Trainable params: 737\n",
      "Non-trainable params: 0\n",
      "_________________________________________________________________\n",
      "\n",
      "Epoch: 0, acc:0.0686,  loss:3.6529,  val_acc:0.1853,  val_loss:3.5670,  \n",
      "....................................................................................................\n",
      "Epoch: 100, acc:0.6717,  loss:1.1085,  val_acc:0.9492,  val_loss:0.5517,  \n",
      "....................................................................................................\n",
      "Epoch: 200, acc:0.7030,  loss:0.9848,  val_acc:0.9645,  val_loss:0.3959,  \n",
      "....................................................................................................\n",
      "Epoch: 300, acc:0.7137,  loss:0.9045,  val_acc:0.9619,  val_loss:0.3374,  \n",
      "........."
     ]
    }
   ],
   "source": [
    "model1_history = compile_and_fit(\n",
    "    model1, \n",
    "    'models/model1',\n",
    "    loss=LOSS,\n",
    "    metrics=['acc']\n",
    ")"
   ]
  },
  {
   "cell_type": "code",
   "execution_count": 26,
   "metadata": {
    "id": "COSrt_JUK1nH"
   },
   "outputs": [],
   "source": [
    "\n",
    "size_histories['model1'] = model1_history"
   ]
  },
  {
   "cell_type": "code",
   "execution_count": 27,
   "metadata": {
    "id": "Q9d9wzCVt9wG"
   },
   "outputs": [
    {
     "data": {
      "text/plain": [
       "Text(0.5, 0, 'Epochs [Log Scale]')"
      ]
     },
     "execution_count": 27,
     "metadata": {},
     "output_type": "execute_result"
    },
    {
     "data": {
      "image/png": "[encoded data removed]",
      "text/plain": [
       "<Figure size 640x480 with 1 Axes>"
      ]
     },
     "metadata": {},
     "output_type": "display_data"
    }
   ],
   "source": [
    "plotter = tfdocs.plots.HistoryPlotter(metric = 'acc', smoothing_std=10)\n",
    "plotter.plot(size_histories)\n",
    "a = plt.xscale('log')\n",
    "\n",
    "plt.xlim([.01, max(plt.xlim())])\n",
    "plt.ylim([.01, max(plt.ylim())])\n",
    "plt.xlabel(\"Epochs [Log Scale]\")"
   ]
  },
  {
   "cell_type": "code",
   "execution_count": 28,
   "metadata": {
    "id": "9EeQNCWeMJLb"
   },
   "outputs": [
    {
     "name": "stdout",
     "output_type": "stream",
     "text": [
      "31/31 [==============================] - 0s 3ms/step - loss: 0.3083 - acc: 0.9644\n",
      "Model Loss (Test Set) : 0.3082999289035797\n",
      "Model Accuracy (Test Set): 0.9644308686256409\n"
     ]
    }
   ],
   "source": [
    "loss, acc = model1.evaluate(X_test, y_test)\n",
    "print(f\"Model Loss (Test Set) : {loss}\")\n",
    "print(f\"Model Accuracy (Test Set): {acc}\")"
   ]
  },
  {
   "cell_type": "markdown",
   "metadata": {
    "id": "T7Z73fwZoogx"
   },
   "source": [
    "#### Model 2"
   ]
  },
  {
   "cell_type": "code",
   "execution_count": 29,
   "metadata": {
    "id": "tj5DCE-Ooogx"
   },
   "outputs": [],
   "source": [
    "model2 = tf.keras.Sequential([\n",
    "    layers.Dense(4, activation='elu', input_shape=(FEATURES,)),\n",
    "    layers.Dense(4, activation='elu', input_shape=(FEATURES,)),\n",
    "    layers.Dropout(0.2),\n",
    "    layers.Dense(41, activation=tf.keras.activations.softmax)\n",
    "])"
   ]
  },
  {
   "cell_type": "code",
   "execution_count": 30,
   "metadata": {
    "id": "09Vn6Fd8K-2I"
   },
   "outputs": [
    {
     "name": "stdout",
     "output_type": "stream",
     "text": [
      "Model: \"sequential_1\"\n",
      "_________________________________________________________________\n",
      " Layer (type)                Output Shape              Param #   \n",
      "=================================================================\n",
      " dense_2 (Dense)             (None, 4)                 532       \n",
      "                                                                 \n",
      " dense_3 (Dense)             (None, 4)                 20        \n",
      "                                                                 \n",
      " dropout_1 (Dropout)         (None, 4)                 0         \n",
      "                                                                 \n",
      " dense_4 (Dense)             (None, 41)                205       \n",
      "                                                                 \n",
      "=================================================================\n",
      "Total params: 757\n",
      "Trainable params: 757\n",
      "Non-trainable params: 0\n",
      "_________________________________________________________________\n",
      "\n",
      "Epoch: 0, acc:0.0474,  loss:3.6822,  val_acc:0.1168,  val_loss:3.6118,  \n",
      "....................................................................................................\n",
      "Epoch: 100, acc:0.6787,  loss:1.1289,  val_acc:0.9416,  val_loss:0.5399,  \n",
      "....................................................................................................\n",
      "Epoch: 200, acc:0.6982,  loss:1.0214,  val_acc:0.9670,  val_loss:0.4103,  \n",
      "....................................................................................................\n",
      "Epoch: 300, acc:0.7123,  loss:0.9496,  val_acc:0.9721,  val_loss:0.3516,  \n",
      "....................................................................................................\n",
      "Epoch: 400, acc:0.7264,  loss:0.8990,  val_acc:0.9721,  val_loss:0.2955,  \n",
      "....................................................................................................\n",
      "Epoch: 500, acc:0.7101,  loss:0.9284,  val_acc:0.9721,  val_loss:0.2693,  \n",
      ".................................."
     ]
    }
   ],
   "source": [
    "model2_history = compile_and_fit(\n",
    "    model2, \n",
    "    'models/model2',\n",
    "    loss=LOSS,\n",
    "    metrics=['acc']\n",
    ")"
   ]
  },
  {
   "cell_type": "code",
   "execution_count": 31,
   "metadata": {
    "id": "LJjQWrWsLDdP"
   },
   "outputs": [],
   "source": [
    "size_histories['model2'] = model2_history"
   ]
  },
  {
   "cell_type": "code",
   "execution_count": 32,
   "metadata": {
    "id": "VEh647TQCbiU"
   },
   "outputs": [
    {
     "data": {
      "text/plain": [
       "Text(0.5, 0, 'Epochs [Log Scale]')"
      ]
     },
     "execution_count": 32,
     "metadata": {},
     "output_type": "execute_result"
    },
    {
     "data": {
      "image/png": "[encoded data removed]",
      "text/plain": [
       "<Figure size 640x480 with 1 Axes>"
      ]
     },
     "metadata": {},
     "output_type": "display_data"
    }
   ],
   "source": [
    "plotter = tfdocs.plots.HistoryPlotter(metric = 'acc', smoothing_std=10)\n",
    "plotter.plot(size_histories)\n",
    "a = plt.xscale('log')\n",
    "\n",
    "plt.xlim([.01, max(plt.xlim())])\n",
    "plt.ylim([.01, max(plt.ylim())])\n",
    "plt.xlabel(\"Epochs [Log Scale]\")"
   ]
  },
  {
   "cell_type": "markdown",
   "metadata": {
    "id": "tNGhoPaToogx"
   },
   "source": [
    "#### Model 3"
   ]
  },
  {
   "cell_type": "code",
   "execution_count": 33,
   "metadata": {
    "id": "4gb2L_buEFjn"
   },
   "outputs": [],
   "source": [
    "model3 = tf.keras.Sequential([\n",
    "    layers.Dense(64, activation='elu', input_shape=(FEATURES,)),\n",
    "    layers.Dense(64, activation='elu', input_shape=(FEATURES,)),\n",
    "    layers.Dropout(0.2),\n",
    "    layers.Dense(64, activation='elu', input_shape=(FEATURES,)),\n",
    "    layers.Dense(41, activation=tf.keras.activations.softmax)\n",
    "])"
   ]
  },
  {
   "cell_type": "code",
   "execution_count": 34,
   "metadata": {
    "id": "qeTwK5OPEG7L"
   },
   "outputs": [
    {
     "name": "stdout",
     "output_type": "stream",
     "text": [
      "Model: \"sequential_2\"\n",
      "_________________________________________________________________\n",
      " Layer (type)                Output Shape              Param #   \n",
      "=================================================================\n",
      " dense_5 (Dense)             (None, 64)                8512      \n",
      "                                                                 \n",
      " dense_6 (Dense)             (None, 64)                4160      \n",
      "                                                                 \n",
      " dropout_2 (Dropout)         (None, 64)                0         \n",
      "                                                                 \n",
      " dense_7 (Dense)             (None, 64)                4160      \n",
      "                                                                 \n",
      " dense_8 (Dense)             (None, 41)                2665      \n",
      "                                                                 \n",
      "=================================================================\n",
      "Total params: 19,497\n",
      "Trainable params: 19,497\n",
      "Non-trainable params: 0\n",
      "_________________________________________________________________\n",
      "\n",
      "Epoch: 0, acc:0.6417,  loss:2.5418,  val_acc:0.9416,  val_loss:1.1021,  \n",
      "....................................................................................................\n",
      "Epoch: 100, acc:1.0000,  loss:0.0000,  val_acc:1.0000,  val_loss:0.0000,  \n",
      "....."
     ]
    }
   ],
   "source": [
    "model3_history = compile_and_fit(\n",
    "    model3, \n",
    "    'models/model3',\n",
    "    loss=LOSS,\n",
    "    metrics=['acc']\n",
    ")"
   ]
  },
  {
   "cell_type": "code",
   "execution_count": 35,
   "metadata": {
    "id": "VBvPvQdjKhCk"
   },
   "outputs": [],
   "source": [
    "\n",
    "size_histories['model3'] = model3_history"
   ]
  },
  {
   "cell_type": "code",
   "execution_count": 36,
   "metadata": {
    "id": "rG0Ih0YyINsq"
   },
   "outputs": [
    {
     "data": {
      "text/plain": [
       "Text(0.5, 0, 'Epochs [Log Scale]')"
      ]
     },
     "execution_count": 36,
     "metadata": {},
     "output_type": "execute_result"
    },
    {
     "data": {
      "image/png": "[encoded data removed]",
      "text/plain": [
       "<Figure size 640x480 with 1 Axes>"
      ]
     },
     "metadata": {},
     "output_type": "display_data"
    }
   ],
   "source": [
    "plotter = tfdocs.plots.HistoryPlotter(metric = 'acc', smoothing_std=10)\n",
    "plotter.plot(size_histories)\n",
    "a = plt.xscale('log')\n",
    "\n",
    "plt.xlim([.01, max(plt.xlim())])\n",
    "plt.ylim([.01, max(plt.ylim())])\n",
    "plt.xlabel(\"Epochs [Log Scale]\")"
   ]
  },
  {
   "cell_type": "markdown",
   "metadata": {
    "id": "s_wLljy8oogx"
   },
   "source": [
    "#### Model 4"
   ]
  },
  {
   "cell_type": "code",
   "execution_count": 37,
   "metadata": {
    "id": "w8BlH74rIZQ9"
   },
   "outputs": [],
   "source": [
    "model4 = tf.keras.Sequential([\n",
    "    layers.Dense(512, activation='elu', input_shape=(FEATURES,)),\n",
    "    layers.Dense(512, activation='elu', input_shape=(FEATURES,)),\n",
    "    layers.Dropout(0.2),\n",
    "    layers.Dense(512, activation='elu', input_shape=(FEATURES,)),\n",
    "    layers.Dense(512, activation='elu', input_shape=(FEATURES,)),\n",
    "    layers.Dense(41, activation=tf.keras.activations.softmax)\n",
    "])\n"
   ]
  },
  {
   "cell_type": "code",
   "execution_count": 38,
   "metadata": {
    "id": "KahdLp5HId5_"
   },
   "outputs": [
    {
     "name": "stdout",
     "output_type": "stream",
     "text": [
      "Model: \"sequential_3\"\n",
      "_________________________________________________________________\n",
      " Layer (type)                Output Shape              Param #   \n",
      "=================================================================\n",
      " dense_9 (Dense)             (None, 512)               68096     \n",
      "                                                                 \n",
      " dense_10 (Dense)            (None, 512)               262656    \n",
      "                                                                 \n",
      " dropout_3 (Dropout)         (None, 512)               0         \n",
      "                                                                 \n",
      " dense_11 (Dense)            (None, 512)               262656    \n",
      "                                                                 \n",
      " dense_12 (Dense)            (None, 512)               262656    \n",
      "                                                                 \n",
      " dense_13 (Dense)            (None, 41)                21033     \n",
      "                                                                 \n",
      "=================================================================\n",
      "Total params: 877,097\n",
      "Trainable params: 877,097\n",
      "Non-trainable params: 0\n",
      "_________________________________________________________________\n",
      "\n",
      "Epoch: 0, acc:0.9514,  loss:0.3424,  val_acc:1.0000,  val_loss:0.0005,  \n",
      "....................................................................................................\n",
      "Epoch: 100, acc:1.0000,  loss:0.0000,  val_acc:1.0000,  val_loss:0.0000,  \n",
      ".."
     ]
    }
   ],
   "source": [
    "model4_history = compile_and_fit(\n",
    "    model4, \n",
    "    'models/model4',\n",
    "    loss=LOSS,\n",
    "    metrics=['acc']\n",
    ")\n"
   ]
  },
  {
   "cell_type": "code",
   "execution_count": 39,
   "metadata": {
    "id": "uGxJmLWtKk5a"
   },
   "outputs": [],
   "source": [
    "\n",
    "size_histories['model4'] = model4_history"
   ]
  },
  {
   "cell_type": "code",
   "execution_count": 40,
   "metadata": {
    "id": "A5yIUDcJIhsz"
   },
   "outputs": [
    {
     "data": {
      "text/plain": [
       "Text(0.5, 0, 'Epochs [Log Scale]')"
      ]
     },
     "execution_count": 40,
     "metadata": {},
     "output_type": "execute_result"
    },
    {
     "data": {
      "image/png": "[encoded data removed]",
      "text/plain": [
       "<Figure size 640x480 with 1 Axes>"
      ]
     },
     "metadata": {},
     "output_type": "display_data"
    }
   ],
   "source": [
    "plotter = tfdocs.plots.HistoryPlotter(metric = 'acc', smoothing_std=10)\n",
    "plotter.plot(size_histories)\n",
    "a = plt.xscale('log')\n",
    "\n",
    "plt.xlim([.01, max(plt.xlim())])\n",
    "plt.ylim([.01, max(plt.ylim())])\n",
    "plt.xlabel(\"Epochs [Log Scale]\")"
   ]
  },
  {
   "cell_type": "markdown",
   "metadata": {
    "id": "o5m2qW-Toogy"
   },
   "source": [
    "#### Model 5"
   ]
  },
  {
   "cell_type": "code",
   "execution_count": 41,
   "metadata": {},
   "outputs": [],
   "source": [
    "model5 = tf.keras.Sequential([\n",
    "    layers.Dense(1024, activation='elu', input_shape=(FEATURES,)),\n",
    "    layers.Dense(1024, activation='elu', input_shape=(FEATURES,)),\n",
    "    layers.Dense(1024, activation='elu', input_shape=(FEATURES,)),\n",
    "    layers.Dropout(0.2),\n",
    "    layers.Dense(1024, activation='elu', input_shape=(FEATURES,)),\n",
    "    layers.Dense(1024, activation='elu', input_shape=(FEATURES,)),\n",
    "    layers.Dense(41, activation=tf.keras.activations.softmax)\n",
    "])"
   ]
  },
  {
   "cell_type": "code",
   "execution_count": 42,
   "metadata": {},
   "outputs": [
    {
     "name": "stdout",
     "output_type": "stream",
     "text": [
      "Model: \"sequential_4\"\n",
      "_________________________________________________________________\n",
      " Layer (type)                Output Shape              Param #   \n",
      "=================================================================\n",
      " dense_14 (Dense)            (None, 1024)              136192    \n",
      "                                                                 \n",
      " dense_15 (Dense)            (None, 1024)              1049600   \n",
      "                                                                 \n",
      " dense_16 (Dense)            (None, 1024)              1049600   \n",
      "                                                                 \n",
      " dropout_4 (Dropout)         (None, 1024)              0         \n",
      "                                                                 \n",
      " dense_17 (Dense)            (None, 1024)              1049600   \n",
      "                                                                 \n",
      " dense_18 (Dense)            (None, 1024)              1049600   \n",
      "                                                                 \n",
      " dense_19 (Dense)            (None, 41)                42025     \n",
      "                                                                 \n",
      "=================================================================\n",
      "Total params: 4,376,617\n",
      "Trainable params: 4,376,617\n",
      "Non-trainable params: 0\n",
      "_________________________________________________________________\n",
      "\n",
      "Epoch: 0, acc:0.9548,  loss:0.2681,  val_acc:0.9162,  val_loss:0.6525,  \n",
      "....................................................................................................\n",
      "Epoch: 100, acc:1.0000,  loss:0.0000,  val_acc:1.0000,  val_loss:0.0000,  \n",
      "......................."
     ]
    }
   ],
   "source": [
    "model5_history = compile_and_fit(\n",
    "    model5, \n",
    "    'models/model5',\n",
    "    loss=LOSS,\n",
    "    metrics=['acc']\n",
    ")"
   ]
  },
  {
   "cell_type": "code",
   "execution_count": 43,
   "metadata": {},
   "outputs": [],
   "source": [
    "\n",
    "size_histories['model5'] = model5_history"
   ]
  },
  {
   "cell_type": "code",
   "execution_count": 44,
   "metadata": {},
   "outputs": [
    {
     "data": {
      "text/plain": [
       "Text(0.5, 0, 'Epochs [Log Scale]')"
      ]
     },
     "execution_count": 44,
     "metadata": {},
     "output_type": "execute_result"
    },
    {
     "data": {
      "image/png": "[encoded data removed]",
      "text/plain": [
       "<Figure size 640x480 with 1 Axes>"
      ]
     },
     "metadata": {},
     "output_type": "display_data"
    }
   ],
   "source": [
    "plotter = tfdocs.plots.HistoryPlotter(metric = 'acc', smoothing_std=10)\n",
    "plotter.plot(size_histories)\n",
    "a = plt.xscale('log')\n",
    "\n",
    "plt.xlim([.01, max(plt.xlim())])\n",
    "plt.ylim([.01, max(plt.ylim())])\n",
    "plt.xlabel(\"Epochs [Log Scale]\")"
   ]
  },
  {
   "cell_type": "markdown",
   "metadata": {
    "id": "jYdbNB_tGtak"
   },
   "source": [
    "### 3. Evaluate Model"
   ]
  },
  {
   "cell_type": "markdown",
   "metadata": {
    "id": "D-HLBIrDIi8E"
   },
   "source": [
    "#### Evaluate with test data"
   ]
  },
  {
   "cell_type": "code",
   "execution_count": 45,
   "metadata": {
    "id": "pvcKrMrFGtuW"
   },
   "outputs": [
    {
     "name": "stdout",
     "output_type": "stream",
     "text": [
      "31/31 [==============================] - 0s 3ms/step - loss: 0.3083 - acc: 0.9644\n",
      "31/31 [==============================] - 0s 3ms/step - loss: 0.2766 - acc: 0.9726\n",
      "31/31 [==============================] - 0s 3ms/step - loss: 2.5915e-06 - acc: 1.0000\n",
      "31/31 [==============================] - 0s 6ms/step - loss: 5.3959e-07 - acc: 1.0000\n",
      "31/31 [==============================] - 1s 17ms/step - loss: 0.0000e+00 - acc: 1.0000\n",
      "Evaluation with Test Data\n"
     ]
    },
    {
     "data": {
      "text/html": [
       "<div>\n",
       "<style scoped>\n",
       "    .dataframe tbody tr th:only-of-type {\n",
       "        vertical-align: middle;\n",
       "    }\n",
       "\n",
       "    .dataframe tbody tr th {\n",
       "        vertical-align: top;\n",
       "    }\n",
       "\n",
       "    .dataframe thead th {\n",
       "        text-align: right;\n",
       "    }\n",
       "</style>\n",
       "<table border=\"1\" class=\"dataframe\">\n",
       "  <thead>\n",
       "    <tr style=\"text-align: right;\">\n",
       "      <th></th>\n",
       "      <th>Model 1</th>\n",
       "      <th>Model 2</th>\n",
       "      <th>Model 3</th>\n",
       "      <th>Model 4</th>\n",
       "      <th>Model 5</th>\n",
       "    </tr>\n",
       "  </thead>\n",
       "  <tbody>\n",
       "    <tr>\n",
       "      <th>loss</th>\n",
       "      <td>0.308300</td>\n",
       "      <td>0.276639</td>\n",
       "      <td>0.000003</td>\n",
       "      <td>5.395908e-07</td>\n",
       "      <td>0.0</td>\n",
       "    </tr>\n",
       "    <tr>\n",
       "      <th>accuracy</th>\n",
       "      <td>0.964431</td>\n",
       "      <td>0.972561</td>\n",
       "      <td>1.000000</td>\n",
       "      <td>1.000000e+00</td>\n",
       "      <td>1.0</td>\n",
       "    </tr>\n",
       "  </tbody>\n",
       "</table>\n",
       "</div>"
      ],
      "text/plain": [
       "           Model 1   Model 2   Model 3       Model 4  Model 5\n",
       "loss      0.308300  0.276639  0.000003  5.395908e-07      0.0\n",
       "accuracy  0.964431  0.972561  1.000000  1.000000e+00      1.0"
      ]
     },
     "execution_count": 45,
     "metadata": {},
     "output_type": "execute_result"
    }
   ],
   "source": [
    "loss1, acc1 = model1.evaluate(X_test, y_test)\n",
    "loss2, acc2 = model2.evaluate(X_test, y_test)\n",
    "loss3, acc3 = model3.evaluate(X_test, y_test)\n",
    "loss4, acc4 = model4.evaluate(X_test, y_test)\n",
    "loss5, acc5 = model5.evaluate(X_test, y_test)\n",
    "\n",
    "print(\"Evaluation with Test Data\")\n",
    "pd.DataFrame({\"Model 1\": [loss1, acc1], \"Model 2\": [loss2, acc2], \"Model 3\": [loss3, acc3], \"Model 4\": [loss4, acc4], \"Model 5\": [loss5, acc5]}, index=['loss', 'accuracy'])\n"
   ]
  },
  {
   "cell_type": "markdown",
   "metadata": {
    "id": "FyqLRD8tIqaO"
   },
   "source": [
    "#### Evaluate with unseen data (Loss vs Accuracy)"
   ]
  },
  {
   "cell_type": "code",
   "execution_count": 46,
   "metadata": {
    "id": "5berObg_IsXF"
   },
   "outputs": [
    {
     "name": "stdout",
     "output_type": "stream",
     "text": [
      "2/2 [==============================] - 0s 9ms/step - loss: 0.3899 - acc: 0.9524\n",
      "2/2 [==============================] - 0s 9ms/step - loss: 2.2525 - acc: 0.9524\n",
      "2/2 [==============================] - 0s 6ms/step - loss: 0.0801 - acc: 0.9762\n",
      "2/2 [==============================] - 0s 8ms/step - loss: 0.0148 - acc: 1.0000\n",
      "2/2 [==============================] - 0s 11ms/step - loss: 18.2351 - acc: 0.9762\n",
      "Evaluation with Unseen Data\n"
     ]
    },
    {
     "data": {
      "text/html": [
       "<div>\n",
       "<style scoped>\n",
       "    .dataframe tbody tr th:only-of-type {\n",
       "        vertical-align: middle;\n",
       "    }\n",
       "\n",
       "    .dataframe tbody tr th {\n",
       "        vertical-align: top;\n",
       "    }\n",
       "\n",
       "    .dataframe thead th {\n",
       "        text-align: right;\n",
       "    }\n",
       "</style>\n",
       "<table border=\"1\" class=\"dataframe\">\n",
       "  <thead>\n",
       "    <tr style=\"text-align: right;\">\n",
       "      <th></th>\n",
       "      <th>Model 1</th>\n",
       "      <th>Model 2</th>\n",
       "      <th>Model 3</th>\n",
       "      <th>Model 4</th>\n",
       "      <th>Model 5</th>\n",
       "    </tr>\n",
       "  </thead>\n",
       "  <tbody>\n",
       "    <tr>\n",
       "      <th>loss</th>\n",
       "      <td>0.389888</td>\n",
       "      <td>2.252529</td>\n",
       "      <td>0.08009</td>\n",
       "      <td>0.01479</td>\n",
       "      <td>18.235062</td>\n",
       "    </tr>\n",
       "    <tr>\n",
       "      <th>accuracy</th>\n",
       "      <td>0.952381</td>\n",
       "      <td>0.952381</td>\n",
       "      <td>0.97619</td>\n",
       "      <td>1.00000</td>\n",
       "      <td>0.976190</td>\n",
       "    </tr>\n",
       "  </tbody>\n",
       "</table>\n",
       "</div>"
      ],
      "text/plain": [
       "           Model 1   Model 2  Model 3  Model 4    Model 5\n",
       "loss      0.389888  2.252529  0.08009  0.01479  18.235062\n",
       "accuracy  0.952381  0.952381  0.97619  1.00000   0.976190"
      ]
     },
     "execution_count": 46,
     "metadata": {},
     "output_type": "execute_result"
    }
   ],
   "source": [
    "\n",
    "loss1, acc1 = model1.evaluate(X_unseen, y_unseen)\n",
    "loss2, acc2 = model2.evaluate(X_unseen, y_unseen)\n",
    "loss3, acc3 = model3.evaluate(X_unseen, y_unseen)\n",
    "loss4, acc4 = model4.evaluate(X_unseen, y_unseen)\n",
    "loss5, acc5 = model5.evaluate(X_unseen, y_unseen)\n",
    "print(\"Evaluation with Unseen Data\")\n",
    "\n",
    "pd.DataFrame({\"Model 1\": [loss1, acc1], \"Model 2\": [loss2, acc2], \"Model 3\": [loss3, acc3], \"Model 4\": [loss4, acc4], \"Model 5\": [loss5, acc5]}, index=['loss', 'accuracy'])\n"
   ]
  },
  {
   "cell_type": "markdown",
   "metadata": {
    "id": "ltyV6aoxFPVI"
   },
   "source": [
    "## 3. "
   ]
  },
  {
   "cell_type": "markdown",
   "metadata": {
    "id": "uT95QTFQFZdy"
   },
   "source": [
    "#### Test Set"
   ]
  },
  {
   "cell_type": "code",
   "execution_count": 47,
   "metadata": {
    "id": "4LASSB5oFR86"
   },
   "outputs": [
    {
     "name": "stdout",
     "output_type": "stream",
     "text": [
      "31/31 [==============================] - 0s 2ms/step\n",
      "31/31 [==============================] - 0s 2ms/step\n",
      "31/31 [==============================] - 0s 3ms/step\n",
      "31/31 [==============================] - 0s 5ms/step\n",
      "31/31 [==============================] - 1s 12ms/step\n"
     ]
    }
   ],
   "source": [
    "def test_prediction(model, X, y):\n",
    "    predictions = model.predict(X)\n",
    "    predicted=tf.argmax(predictions, axis=1)\n",
    "    #result= pd.DataFrame({'Test':y, 'Predicted':predicted})\n",
    "    return predicted\n",
    "\n",
    "predicted11 = test_prediction(model1, X_test, y_test)\n",
    "predicted12 = test_prediction(model2, X_test, y_test)\n",
    "predicted13 = test_prediction(model3, X_test, y_test)\n",
    "predicted14 = test_prediction(model4, X_test, y_test)\n",
    "predicted15 = test_prediction(model5, X_test, y_test)"
   ]
  },
  {
   "cell_type": "code",
   "execution_count": 48,
   "metadata": {},
   "outputs": [
    {
     "data": {
      "text/html": [
       "<div>\n",
       "<style scoped>\n",
       "    .dataframe tbody tr th:only-of-type {\n",
       "        vertical-align: middle;\n",
       "    }\n",
       "\n",
       "    .dataframe tbody tr th {\n",
       "        vertical-align: top;\n",
       "    }\n",
       "\n",
       "    .dataframe thead th {\n",
       "        text-align: right;\n",
       "    }\n",
       "</style>\n",
       "<table border=\"1\" class=\"dataframe\">\n",
       "  <thead>\n",
       "    <tr style=\"text-align: right;\">\n",
       "      <th></th>\n",
       "      <th>Expected</th>\n",
       "      <th>Model 1</th>\n",
       "      <th>Model 2</th>\n",
       "      <th>Model 3</th>\n",
       "      <th>Model 4</th>\n",
       "      <th>Model 5</th>\n",
       "    </tr>\n",
       "  </thead>\n",
       "  <tbody>\n",
       "    <tr>\n",
       "      <th>4007</th>\n",
       "      <td>39</td>\n",
       "      <td>39</td>\n",
       "      <td>39</td>\n",
       "      <td>39</td>\n",
       "      <td>39</td>\n",
       "      <td>39</td>\n",
       "    </tr>\n",
       "    <tr>\n",
       "      <th>1938</th>\n",
       "      <td>18</td>\n",
       "      <td>18</td>\n",
       "      <td>18</td>\n",
       "      <td>18</td>\n",
       "      <td>18</td>\n",
       "      <td>18</td>\n",
       "    </tr>\n",
       "    <tr>\n",
       "      <th>4462</th>\n",
       "      <td>31</td>\n",
       "      <td>31</td>\n",
       "      <td>31</td>\n",
       "      <td>31</td>\n",
       "      <td>31</td>\n",
       "      <td>31</td>\n",
       "    </tr>\n",
       "    <tr>\n",
       "      <th>3227</th>\n",
       "      <td>18</td>\n",
       "      <td>18</td>\n",
       "      <td>18</td>\n",
       "      <td>18</td>\n",
       "      <td>18</td>\n",
       "      <td>18</td>\n",
       "    </tr>\n",
       "    <tr>\n",
       "      <th>3889</th>\n",
       "      <td>5</td>\n",
       "      <td>5</td>\n",
       "      <td>5</td>\n",
       "      <td>5</td>\n",
       "      <td>5</td>\n",
       "      <td>5</td>\n",
       "    </tr>\n",
       "    <tr>\n",
       "      <th>...</th>\n",
       "      <td>...</td>\n",
       "      <td>...</td>\n",
       "      <td>...</td>\n",
       "      <td>...</td>\n",
       "      <td>...</td>\n",
       "      <td>...</td>\n",
       "    </tr>\n",
       "    <tr>\n",
       "      <th>111</th>\n",
       "      <td>30</td>\n",
       "      <td>30</td>\n",
       "      <td>30</td>\n",
       "      <td>30</td>\n",
       "      <td>30</td>\n",
       "      <td>30</td>\n",
       "    </tr>\n",
       "    <tr>\n",
       "      <th>3741</th>\n",
       "      <td>23</td>\n",
       "      <td>23</td>\n",
       "      <td>23</td>\n",
       "      <td>23</td>\n",
       "      <td>23</td>\n",
       "      <td>23</td>\n",
       "    </tr>\n",
       "    <tr>\n",
       "      <th>3280</th>\n",
       "      <td>15</td>\n",
       "      <td>15</td>\n",
       "      <td>15</td>\n",
       "      <td>15</td>\n",
       "      <td>15</td>\n",
       "      <td>15</td>\n",
       "    </tr>\n",
       "    <tr>\n",
       "      <th>3687</th>\n",
       "      <td>38</td>\n",
       "      <td>38</td>\n",
       "      <td>38</td>\n",
       "      <td>38</td>\n",
       "      <td>38</td>\n",
       "      <td>38</td>\n",
       "    </tr>\n",
       "    <tr>\n",
       "      <th>656</th>\n",
       "      <td>3</td>\n",
       "      <td>3</td>\n",
       "      <td>3</td>\n",
       "      <td>3</td>\n",
       "      <td>3</td>\n",
       "      <td>3</td>\n",
       "    </tr>\n",
       "  </tbody>\n",
       "</table>\n",
       "<p>984 rows × 6 columns</p>\n",
       "</div>"
      ],
      "text/plain": [
       "      Expected  Model 1  Model 2  Model 3  Model 4  Model 5\n",
       "4007        39       39       39       39       39       39\n",
       "1938        18       18       18       18       18       18\n",
       "4462        31       31       31       31       31       31\n",
       "3227        18       18       18       18       18       18\n",
       "3889         5        5        5        5        5        5\n",
       "...        ...      ...      ...      ...      ...      ...\n",
       "111         30       30       30       30       30       30\n",
       "3741        23       23       23       23       23       23\n",
       "3280        15       15       15       15       15       15\n",
       "3687        38       38       38       38       38       38\n",
       "656          3        3        3        3        3        3\n",
       "\n",
       "[984 rows x 6 columns]"
      ]
     },
     "execution_count": 48,
     "metadata": {},
     "output_type": "execute_result"
    }
   ],
   "source": [
    "# display result\n",
    "pd.DataFrame({\"Expected\": y_test, \"Model 1\": predicted11, \"Model 2\": predicted12, \"Model 3\": predicted13, \"Model 4\": predicted14, \"Model 5\": predicted15})\n"
   ]
  },
  {
   "cell_type": "markdown",
   "metadata": {
    "id": "TzrwsdBoISwK"
   },
   "source": [
    "#### Unseen Test Data"
   ]
  },
  {
   "cell_type": "code",
   "execution_count": 49,
   "metadata": {
    "id": "L_WPT2W_IUMl"
   },
   "outputs": [
    {
     "name": "stdout",
     "output_type": "stream",
     "text": [
      "2/2 [==============================] - 0s 3ms/step\n",
      "2/2 [==============================] - 0s 5ms/step\n",
      "2/2 [==============================] - 0s 6ms/step\n",
      "2/2 [==============================] - 0s 6ms/step\n",
      "2/2 [==============================] - 0s 8ms/step\n"
     ]
    }
   ],
   "source": [
    "predicted21 = class_names[test_prediction(model1, X_unseen, y_unseen)]\n",
    "predicted22 = class_names[test_prediction(model2, X_unseen, y_unseen)]\n",
    "predicted23 = class_names[test_prediction(model3, X_unseen, y_unseen)]\n",
    "predicted24 = class_names[test_prediction(model4, X_unseen, y_unseen)]\n",
    "predicted25 = class_names[test_prediction(model5, X_unseen, y_unseen)]\n",
    "\n",
    "\n"
   ]
  },
  {
   "cell_type": "code",
   "execution_count": 50,
   "metadata": {},
   "outputs": [
    {
     "data": {
      "text/html": [
       "<div>\n",
       "<style scoped>\n",
       "    .dataframe tbody tr th:only-of-type {\n",
       "        vertical-align: middle;\n",
       "    }\n",
       "\n",
       "    .dataframe tbody tr th {\n",
       "        vertical-align: top;\n",
       "    }\n",
       "\n",
       "    .dataframe thead th {\n",
       "        text-align: right;\n",
       "    }\n",
       "</style>\n",
       "<table border=\"1\" class=\"dataframe\">\n",
       "  <thead>\n",
       "    <tr style=\"text-align: right;\">\n",
       "      <th></th>\n",
       "      <th>Expected</th>\n",
       "      <th>Model 1</th>\n",
       "      <th>Model 2</th>\n",
       "      <th>Model 3</th>\n",
       "      <th>Model 4</th>\n",
       "      <th>Model 5</th>\n",
       "    </tr>\n",
       "  </thead>\n",
       "  <tbody>\n",
       "    <tr>\n",
       "      <th>0</th>\n",
       "      <td>Fungal infection</td>\n",
       "      <td>Fungal infection</td>\n",
       "      <td>Fungal infection</td>\n",
       "      <td>Fungal infection</td>\n",
       "      <td>Fungal infection</td>\n",
       "      <td>Fungal infection</td>\n",
       "    </tr>\n",
       "    <tr>\n",
       "      <th>1</th>\n",
       "      <td>Allergy</td>\n",
       "      <td>Allergy</td>\n",
       "      <td>Allergy</td>\n",
       "      <td>Allergy</td>\n",
       "      <td>Allergy</td>\n",
       "      <td>Allergy</td>\n",
       "    </tr>\n",
       "    <tr>\n",
       "      <th>2</th>\n",
       "      <td>GERD</td>\n",
       "      <td>GERD</td>\n",
       "      <td>GERD</td>\n",
       "      <td>GERD</td>\n",
       "      <td>GERD</td>\n",
       "      <td>GERD</td>\n",
       "    </tr>\n",
       "    <tr>\n",
       "      <th>3</th>\n",
       "      <td>Chronic cholestasis</td>\n",
       "      <td>Chronic cholestasis</td>\n",
       "      <td>Chronic cholestasis</td>\n",
       "      <td>Chronic cholestasis</td>\n",
       "      <td>Chronic cholestasis</td>\n",
       "      <td>Chronic cholestasis</td>\n",
       "    </tr>\n",
       "    <tr>\n",
       "      <th>4</th>\n",
       "      <td>Drug Reaction</td>\n",
       "      <td>Drug Reaction</td>\n",
       "      <td>Drug Reaction</td>\n",
       "      <td>Drug Reaction</td>\n",
       "      <td>Drug Reaction</td>\n",
       "      <td>Drug Reaction</td>\n",
       "    </tr>\n",
       "    <tr>\n",
       "      <th>5</th>\n",
       "      <td>Peptic ulcer diseae</td>\n",
       "      <td>Peptic ulcer diseae</td>\n",
       "      <td>Peptic ulcer diseae</td>\n",
       "      <td>Peptic ulcer diseae</td>\n",
       "      <td>Peptic ulcer diseae</td>\n",
       "      <td>Peptic ulcer diseae</td>\n",
       "    </tr>\n",
       "    <tr>\n",
       "      <th>6</th>\n",
       "      <td>AIDS</td>\n",
       "      <td>AIDS</td>\n",
       "      <td>AIDS</td>\n",
       "      <td>AIDS</td>\n",
       "      <td>AIDS</td>\n",
       "      <td>AIDS</td>\n",
       "    </tr>\n",
       "    <tr>\n",
       "      <th>7</th>\n",
       "      <td>Diabetes</td>\n",
       "      <td>Diabetes</td>\n",
       "      <td>Paralysis (brain hemorrhage)</td>\n",
       "      <td>Diabetes</td>\n",
       "      <td>Diabetes</td>\n",
       "      <td>Diabetes</td>\n",
       "    </tr>\n",
       "    <tr>\n",
       "      <th>8</th>\n",
       "      <td>Gastroenteritis</td>\n",
       "      <td>Gastroenteritis</td>\n",
       "      <td>Gastroenteritis</td>\n",
       "      <td>Gastroenteritis</td>\n",
       "      <td>Gastroenteritis</td>\n",
       "      <td>Gastroenteritis</td>\n",
       "    </tr>\n",
       "    <tr>\n",
       "      <th>9</th>\n",
       "      <td>Bronchial Asthma</td>\n",
       "      <td>Bronchial Asthma</td>\n",
       "      <td>Bronchial Asthma</td>\n",
       "      <td>Bronchial Asthma</td>\n",
       "      <td>Bronchial Asthma</td>\n",
       "      <td>Bronchial Asthma</td>\n",
       "    </tr>\n",
       "    <tr>\n",
       "      <th>10</th>\n",
       "      <td>Hypertension</td>\n",
       "      <td>Hypertension</td>\n",
       "      <td>Hypertension</td>\n",
       "      <td>Hypertension</td>\n",
       "      <td>Hypertension</td>\n",
       "      <td>Hypertension</td>\n",
       "    </tr>\n",
       "    <tr>\n",
       "      <th>11</th>\n",
       "      <td>Migraine</td>\n",
       "      <td>Migraine</td>\n",
       "      <td>Migraine</td>\n",
       "      <td>Migraine</td>\n",
       "      <td>Migraine</td>\n",
       "      <td>Migraine</td>\n",
       "    </tr>\n",
       "    <tr>\n",
       "      <th>12</th>\n",
       "      <td>Cervical spondylosis</td>\n",
       "      <td>Cervical spondylosis</td>\n",
       "      <td>Cervical spondylosis</td>\n",
       "      <td>Cervical spondylosis</td>\n",
       "      <td>Cervical spondylosis</td>\n",
       "      <td>Cervical spondylosis</td>\n",
       "    </tr>\n",
       "    <tr>\n",
       "      <th>13</th>\n",
       "      <td>Paralysis (brain hemorrhage)</td>\n",
       "      <td>Paralysis (brain hemorrhage)</td>\n",
       "      <td>Paralysis (brain hemorrhage)</td>\n",
       "      <td>Paralysis (brain hemorrhage)</td>\n",
       "      <td>Paralysis (brain hemorrhage)</td>\n",
       "      <td>Paralysis (brain hemorrhage)</td>\n",
       "    </tr>\n",
       "    <tr>\n",
       "      <th>14</th>\n",
       "      <td>Jaundice</td>\n",
       "      <td>Jaundice</td>\n",
       "      <td>Jaundice</td>\n",
       "      <td>Jaundice</td>\n",
       "      <td>Jaundice</td>\n",
       "      <td>Jaundice</td>\n",
       "    </tr>\n",
       "    <tr>\n",
       "      <th>15</th>\n",
       "      <td>Malaria</td>\n",
       "      <td>Malaria</td>\n",
       "      <td>Malaria</td>\n",
       "      <td>Malaria</td>\n",
       "      <td>Malaria</td>\n",
       "      <td>Malaria</td>\n",
       "    </tr>\n",
       "    <tr>\n",
       "      <th>16</th>\n",
       "      <td>Chicken pox</td>\n",
       "      <td>Chicken pox</td>\n",
       "      <td>Chicken pox</td>\n",
       "      <td>Chicken pox</td>\n",
       "      <td>Chicken pox</td>\n",
       "      <td>Chicken pox</td>\n",
       "    </tr>\n",
       "    <tr>\n",
       "      <th>17</th>\n",
       "      <td>Dengue</td>\n",
       "      <td>Dengue</td>\n",
       "      <td>Dengue</td>\n",
       "      <td>Dengue</td>\n",
       "      <td>Dengue</td>\n",
       "      <td>Dengue</td>\n",
       "    </tr>\n",
       "    <tr>\n",
       "      <th>18</th>\n",
       "      <td>Typhoid</td>\n",
       "      <td>Typhoid</td>\n",
       "      <td>Typhoid</td>\n",
       "      <td>Typhoid</td>\n",
       "      <td>Typhoid</td>\n",
       "      <td>Typhoid</td>\n",
       "    </tr>\n",
       "    <tr>\n",
       "      <th>19</th>\n",
       "      <td>hepatitis A</td>\n",
       "      <td>hepatitis A</td>\n",
       "      <td>hepatitis A</td>\n",
       "      <td>hepatitis A</td>\n",
       "      <td>hepatitis A</td>\n",
       "      <td>hepatitis A</td>\n",
       "    </tr>\n",
       "    <tr>\n",
       "      <th>20</th>\n",
       "      <td>Hepatitis B</td>\n",
       "      <td>Hepatitis B</td>\n",
       "      <td>Hepatitis B</td>\n",
       "      <td>Hepatitis B</td>\n",
       "      <td>Hepatitis B</td>\n",
       "      <td>Hepatitis B</td>\n",
       "    </tr>\n",
       "    <tr>\n",
       "      <th>21</th>\n",
       "      <td>Hepatitis C</td>\n",
       "      <td>Hepatitis C</td>\n",
       "      <td>Hepatitis C</td>\n",
       "      <td>Hepatitis C</td>\n",
       "      <td>Hepatitis C</td>\n",
       "      <td>Hepatitis C</td>\n",
       "    </tr>\n",
       "    <tr>\n",
       "      <th>22</th>\n",
       "      <td>Hepatitis D</td>\n",
       "      <td>Hepatitis D</td>\n",
       "      <td>Hepatitis D</td>\n",
       "      <td>Hepatitis D</td>\n",
       "      <td>Hepatitis D</td>\n",
       "      <td>Hepatitis D</td>\n",
       "    </tr>\n",
       "    <tr>\n",
       "      <th>23</th>\n",
       "      <td>Hepatitis E</td>\n",
       "      <td>Hepatitis E</td>\n",
       "      <td>Hepatitis E</td>\n",
       "      <td>Hepatitis E</td>\n",
       "      <td>Hepatitis E</td>\n",
       "      <td>Hepatitis E</td>\n",
       "    </tr>\n",
       "    <tr>\n",
       "      <th>24</th>\n",
       "      <td>Alcoholic hepatitis</td>\n",
       "      <td>Alcoholic hepatitis</td>\n",
       "      <td>Alcoholic hepatitis</td>\n",
       "      <td>Alcoholic hepatitis</td>\n",
       "      <td>Alcoholic hepatitis</td>\n",
       "      <td>Alcoholic hepatitis</td>\n",
       "    </tr>\n",
       "    <tr>\n",
       "      <th>25</th>\n",
       "      <td>Tuberculosis</td>\n",
       "      <td>Tuberculosis</td>\n",
       "      <td>Tuberculosis</td>\n",
       "      <td>Tuberculosis</td>\n",
       "      <td>Tuberculosis</td>\n",
       "      <td>Tuberculosis</td>\n",
       "    </tr>\n",
       "    <tr>\n",
       "      <th>26</th>\n",
       "      <td>Common Cold</td>\n",
       "      <td>Common Cold</td>\n",
       "      <td>Common Cold</td>\n",
       "      <td>Common Cold</td>\n",
       "      <td>Common Cold</td>\n",
       "      <td>Common Cold</td>\n",
       "    </tr>\n",
       "    <tr>\n",
       "      <th>27</th>\n",
       "      <td>Pneumonia</td>\n",
       "      <td>Pneumonia</td>\n",
       "      <td>Pneumonia</td>\n",
       "      <td>Pneumonia</td>\n",
       "      <td>Pneumonia</td>\n",
       "      <td>Pneumonia</td>\n",
       "    </tr>\n",
       "    <tr>\n",
       "      <th>28</th>\n",
       "      <td>Dimorphic hemmorhoids(piles)</td>\n",
       "      <td>Dimorphic hemmorhoids(piles)</td>\n",
       "      <td>Dimorphic hemmorhoids(piles)</td>\n",
       "      <td>Dimorphic hemmorhoids(piles)</td>\n",
       "      <td>Dimorphic hemmorhoids(piles)</td>\n",
       "      <td>Dimorphic hemmorhoids(piles)</td>\n",
       "    </tr>\n",
       "    <tr>\n",
       "      <th>29</th>\n",
       "      <td>Heart attack</td>\n",
       "      <td>Heart attack</td>\n",
       "      <td>Heart attack</td>\n",
       "      <td>Heart attack</td>\n",
       "      <td>Heart attack</td>\n",
       "      <td>Heart attack</td>\n",
       "    </tr>\n",
       "    <tr>\n",
       "      <th>30</th>\n",
       "      <td>Varicose veins</td>\n",
       "      <td>Varicose veins</td>\n",
       "      <td>Varicose veins</td>\n",
       "      <td>Varicose veins</td>\n",
       "      <td>Varicose veins</td>\n",
       "      <td>Varicose veins</td>\n",
       "    </tr>\n",
       "    <tr>\n",
       "      <th>31</th>\n",
       "      <td>Hypothyroidism</td>\n",
       "      <td>Gastroenteritis</td>\n",
       "      <td>Hypothyroidism</td>\n",
       "      <td>Hypothyroidism</td>\n",
       "      <td>Hypothyroidism</td>\n",
       "      <td>Hypothyroidism</td>\n",
       "    </tr>\n",
       "    <tr>\n",
       "      <th>32</th>\n",
       "      <td>Hyperthyroidism</td>\n",
       "      <td>Hyperthyroidism</td>\n",
       "      <td>Hyperthyroidism</td>\n",
       "      <td>Hyperthyroidism</td>\n",
       "      <td>Hyperthyroidism</td>\n",
       "      <td>Hyperthyroidism</td>\n",
       "    </tr>\n",
       "    <tr>\n",
       "      <th>33</th>\n",
       "      <td>Hypoglycemia</td>\n",
       "      <td>Hypoglycemia</td>\n",
       "      <td>Hypoglycemia</td>\n",
       "      <td>Hypoglycemia</td>\n",
       "      <td>Hypoglycemia</td>\n",
       "      <td>Hypoglycemia</td>\n",
       "    </tr>\n",
       "    <tr>\n",
       "      <th>34</th>\n",
       "      <td>Osteoarthristis</td>\n",
       "      <td>Osteoarthristis</td>\n",
       "      <td>Osteoarthristis</td>\n",
       "      <td>Osteoarthristis</td>\n",
       "      <td>Osteoarthristis</td>\n",
       "      <td>Osteoarthristis</td>\n",
       "    </tr>\n",
       "    <tr>\n",
       "      <th>35</th>\n",
       "      <td>Arthritis</td>\n",
       "      <td>Arthritis</td>\n",
       "      <td>Arthritis</td>\n",
       "      <td>Arthritis</td>\n",
       "      <td>Arthritis</td>\n",
       "      <td>Arthritis</td>\n",
       "    </tr>\n",
       "    <tr>\n",
       "      <th>36</th>\n",
       "      <td>(vertigo) Paroymsal  Positional Vertigo</td>\n",
       "      <td>(vertigo) Paroymsal  Positional Vertigo</td>\n",
       "      <td>(vertigo) Paroymsal  Positional Vertigo</td>\n",
       "      <td>(vertigo) Paroymsal  Positional Vertigo</td>\n",
       "      <td>(vertigo) Paroymsal  Positional Vertigo</td>\n",
       "      <td>(vertigo) Paroymsal  Positional Vertigo</td>\n",
       "    </tr>\n",
       "    <tr>\n",
       "      <th>37</th>\n",
       "      <td>Acne</td>\n",
       "      <td>Acne</td>\n",
       "      <td>Acne</td>\n",
       "      <td>Acne</td>\n",
       "      <td>Acne</td>\n",
       "      <td>Acne</td>\n",
       "    </tr>\n",
       "    <tr>\n",
       "      <th>38</th>\n",
       "      <td>Urinary tract infection</td>\n",
       "      <td>Urinary tract infection</td>\n",
       "      <td>Urinary tract infection</td>\n",
       "      <td>Urinary tract infection</td>\n",
       "      <td>Urinary tract infection</td>\n",
       "      <td>Urinary tract infection</td>\n",
       "    </tr>\n",
       "    <tr>\n",
       "      <th>39</th>\n",
       "      <td>Psoriasis</td>\n",
       "      <td>Psoriasis</td>\n",
       "      <td>Psoriasis</td>\n",
       "      <td>Psoriasis</td>\n",
       "      <td>Psoriasis</td>\n",
       "      <td>Psoriasis</td>\n",
       "    </tr>\n",
       "    <tr>\n",
       "      <th>40</th>\n",
       "      <td>Impetigo</td>\n",
       "      <td>Impetigo</td>\n",
       "      <td>Impetigo</td>\n",
       "      <td>Impetigo</td>\n",
       "      <td>Impetigo</td>\n",
       "      <td>Impetigo</td>\n",
       "    </tr>\n",
       "    <tr>\n",
       "      <th>41</th>\n",
       "      <td>Fungal infection</td>\n",
       "      <td>Arthritis</td>\n",
       "      <td>Hyperthyroidism</td>\n",
       "      <td>Drug Reaction</td>\n",
       "      <td>Fungal infection</td>\n",
       "      <td>Dengue</td>\n",
       "    </tr>\n",
       "  </tbody>\n",
       "</table>\n",
       "</div>"
      ],
      "text/plain": [
       "                                   Expected  \\\n",
       "0                          Fungal infection   \n",
       "1                                   Allergy   \n",
       "2                                      GERD   \n",
       "3                       Chronic cholestasis   \n",
       "4                             Drug Reaction   \n",
       "5                       Peptic ulcer diseae   \n",
       "6                                      AIDS   \n",
       "7                                 Diabetes    \n",
       "8                           Gastroenteritis   \n",
       "9                          Bronchial Asthma   \n",
       "10                            Hypertension    \n",
       "11                                 Migraine   \n",
       "12                     Cervical spondylosis   \n",
       "13             Paralysis (brain hemorrhage)   \n",
       "14                                 Jaundice   \n",
       "15                                  Malaria   \n",
       "16                              Chicken pox   \n",
       "17                                   Dengue   \n",
       "18                                  Typhoid   \n",
       "19                              hepatitis A   \n",
       "20                              Hepatitis B   \n",
       "21                              Hepatitis C   \n",
       "22                              Hepatitis D   \n",
       "23                              Hepatitis E   \n",
       "24                      Alcoholic hepatitis   \n",
       "25                             Tuberculosis   \n",
       "26                              Common Cold   \n",
       "27                                Pneumonia   \n",
       "28             Dimorphic hemmorhoids(piles)   \n",
       "29                             Heart attack   \n",
       "30                           Varicose veins   \n",
       "31                           Hypothyroidism   \n",
       "32                          Hyperthyroidism   \n",
       "33                             Hypoglycemia   \n",
       "34                          Osteoarthristis   \n",
       "35                                Arthritis   \n",
       "36  (vertigo) Paroymsal  Positional Vertigo   \n",
       "37                                     Acne   \n",
       "38                  Urinary tract infection   \n",
       "39                                Psoriasis   \n",
       "40                                 Impetigo   \n",
       "41                         Fungal infection   \n",
       "\n",
       "                                    Model 1  \\\n",
       "0                          Fungal infection   \n",
       "1                                   Allergy   \n",
       "2                                      GERD   \n",
       "3                       Chronic cholestasis   \n",
       "4                             Drug Reaction   \n",
       "5                       Peptic ulcer diseae   \n",
       "6                                      AIDS   \n",
       "7                                 Diabetes    \n",
       "8                           Gastroenteritis   \n",
       "9                          Bronchial Asthma   \n",
       "10                            Hypertension    \n",
       "11                                 Migraine   \n",
       "12                     Cervical spondylosis   \n",
       "13             Paralysis (brain hemorrhage)   \n",
       "14                                 Jaundice   \n",
       "15                                  Malaria   \n",
       "16                              Chicken pox   \n",
       "17                                   Dengue   \n",
       "18                                  Typhoid   \n",
       "19                              hepatitis A   \n",
       "20                              Hepatitis B   \n",
       "21                              Hepatitis C   \n",
       "22                              Hepatitis D   \n",
       "23                              Hepatitis E   \n",
       "24                      Alcoholic hepatitis   \n",
       "25                             Tuberculosis   \n",
       "26                              Common Cold   \n",
       "27                                Pneumonia   \n",
       "28             Dimorphic hemmorhoids(piles)   \n",
       "29                             Heart attack   \n",
       "30                           Varicose veins   \n",
       "31                          Gastroenteritis   \n",
       "32                          Hyperthyroidism   \n",
       "33                             Hypoglycemia   \n",
       "34                          Osteoarthristis   \n",
       "35                                Arthritis   \n",
       "36  (vertigo) Paroymsal  Positional Vertigo   \n",
       "37                                     Acne   \n",
       "38                  Urinary tract infection   \n",
       "39                                Psoriasis   \n",
       "40                                 Impetigo   \n",
       "41                                Arthritis   \n",
       "\n",
       "                                    Model 2  \\\n",
       "0                          Fungal infection   \n",
       "1                                   Allergy   \n",
       "2                                      GERD   \n",
       "3                       Chronic cholestasis   \n",
       "4                             Drug Reaction   \n",
       "5                       Peptic ulcer diseae   \n",
       "6                                      AIDS   \n",
       "7              Paralysis (brain hemorrhage)   \n",
       "8                           Gastroenteritis   \n",
       "9                          Bronchial Asthma   \n",
       "10                            Hypertension    \n",
       "11                                 Migraine   \n",
       "12                     Cervical spondylosis   \n",
       "13             Paralysis (brain hemorrhage)   \n",
       "14                                 Jaundice   \n",
       "15                                  Malaria   \n",
       "16                              Chicken pox   \n",
       "17                                   Dengue   \n",
       "18                                  Typhoid   \n",
       "19                              hepatitis A   \n",
       "20                              Hepatitis B   \n",
       "21                              Hepatitis C   \n",
       "22                              Hepatitis D   \n",
       "23                              Hepatitis E   \n",
       "24                      Alcoholic hepatitis   \n",
       "25                             Tuberculosis   \n",
       "26                              Common Cold   \n",
       "27                                Pneumonia   \n",
       "28             Dimorphic hemmorhoids(piles)   \n",
       "29                             Heart attack   \n",
       "30                           Varicose veins   \n",
       "31                           Hypothyroidism   \n",
       "32                          Hyperthyroidism   \n",
       "33                             Hypoglycemia   \n",
       "34                          Osteoarthristis   \n",
       "35                                Arthritis   \n",
       "36  (vertigo) Paroymsal  Positional Vertigo   \n",
       "37                                     Acne   \n",
       "38                  Urinary tract infection   \n",
       "39                                Psoriasis   \n",
       "40                                 Impetigo   \n",
       "41                          Hyperthyroidism   \n",
       "\n",
       "                                    Model 3  \\\n",
       "0                          Fungal infection   \n",
       "1                                   Allergy   \n",
       "2                                      GERD   \n",
       "3                       Chronic cholestasis   \n",
       "4                             Drug Reaction   \n",
       "5                       Peptic ulcer diseae   \n",
       "6                                      AIDS   \n",
       "7                                 Diabetes    \n",
       "8                           Gastroenteritis   \n",
       "9                          Bronchial Asthma   \n",
       "10                            Hypertension    \n",
       "11                                 Migraine   \n",
       "12                     Cervical spondylosis   \n",
       "13             Paralysis (brain hemorrhage)   \n",
       "14                                 Jaundice   \n",
       "15                                  Malaria   \n",
       "16                              Chicken pox   \n",
       "17                                   Dengue   \n",
       "18                                  Typhoid   \n",
       "19                              hepatitis A   \n",
       "20                              Hepatitis B   \n",
       "21                              Hepatitis C   \n",
       "22                              Hepatitis D   \n",
       "23                              Hepatitis E   \n",
       "24                      Alcoholic hepatitis   \n",
       "25                             Tuberculosis   \n",
       "26                              Common Cold   \n",
       "27                                Pneumonia   \n",
       "28             Dimorphic hemmorhoids(piles)   \n",
       "29                             Heart attack   \n",
       "30                           Varicose veins   \n",
       "31                           Hypothyroidism   \n",
       "32                          Hyperthyroidism   \n",
       "33                             Hypoglycemia   \n",
       "34                          Osteoarthristis   \n",
       "35                                Arthritis   \n",
       "36  (vertigo) Paroymsal  Positional Vertigo   \n",
       "37                                     Acne   \n",
       "38                  Urinary tract infection   \n",
       "39                                Psoriasis   \n",
       "40                                 Impetigo   \n",
       "41                            Drug Reaction   \n",
       "\n",
       "                                    Model 4  \\\n",
       "0                          Fungal infection   \n",
       "1                                   Allergy   \n",
       "2                                      GERD   \n",
       "3                       Chronic cholestasis   \n",
       "4                             Drug Reaction   \n",
       "5                       Peptic ulcer diseae   \n",
       "6                                      AIDS   \n",
       "7                                 Diabetes    \n",
       "8                           Gastroenteritis   \n",
       "9                          Bronchial Asthma   \n",
       "10                            Hypertension    \n",
       "11                                 Migraine   \n",
       "12                     Cervical spondylosis   \n",
       "13             Paralysis (brain hemorrhage)   \n",
       "14                                 Jaundice   \n",
       "15                                  Malaria   \n",
       "16                              Chicken pox   \n",
       "17                                   Dengue   \n",
       "18                                  Typhoid   \n",
       "19                              hepatitis A   \n",
       "20                              Hepatitis B   \n",
       "21                              Hepatitis C   \n",
       "22                              Hepatitis D   \n",
       "23                              Hepatitis E   \n",
       "24                      Alcoholic hepatitis   \n",
       "25                             Tuberculosis   \n",
       "26                              Common Cold   \n",
       "27                                Pneumonia   \n",
       "28             Dimorphic hemmorhoids(piles)   \n",
       "29                             Heart attack   \n",
       "30                           Varicose veins   \n",
       "31                           Hypothyroidism   \n",
       "32                          Hyperthyroidism   \n",
       "33                             Hypoglycemia   \n",
       "34                          Osteoarthristis   \n",
       "35                                Arthritis   \n",
       "36  (vertigo) Paroymsal  Positional Vertigo   \n",
       "37                                     Acne   \n",
       "38                  Urinary tract infection   \n",
       "39                                Psoriasis   \n",
       "40                                 Impetigo   \n",
       "41                         Fungal infection   \n",
       "\n",
       "                                    Model 5  \n",
       "0                          Fungal infection  \n",
       "1                                   Allergy  \n",
       "2                                      GERD  \n",
       "3                       Chronic cholestasis  \n",
       "4                             Drug Reaction  \n",
       "5                       Peptic ulcer diseae  \n",
       "6                                      AIDS  \n",
       "7                                 Diabetes   \n",
       "8                           Gastroenteritis  \n",
       "9                          Bronchial Asthma  \n",
       "10                            Hypertension   \n",
       "11                                 Migraine  \n",
       "12                     Cervical spondylosis  \n",
       "13             Paralysis (brain hemorrhage)  \n",
       "14                                 Jaundice  \n",
       "15                                  Malaria  \n",
       "16                              Chicken pox  \n",
       "17                                   Dengue  \n",
       "18                                  Typhoid  \n",
       "19                              hepatitis A  \n",
       "20                              Hepatitis B  \n",
       "21                              Hepatitis C  \n",
       "22                              Hepatitis D  \n",
       "23                              Hepatitis E  \n",
       "24                      Alcoholic hepatitis  \n",
       "25                             Tuberculosis  \n",
       "26                              Common Cold  \n",
       "27                                Pneumonia  \n",
       "28             Dimorphic hemmorhoids(piles)  \n",
       "29                             Heart attack  \n",
       "30                           Varicose veins  \n",
       "31                           Hypothyroidism  \n",
       "32                          Hyperthyroidism  \n",
       "33                             Hypoglycemia  \n",
       "34                          Osteoarthristis  \n",
       "35                                Arthritis  \n",
       "36  (vertigo) Paroymsal  Positional Vertigo  \n",
       "37                                     Acne  \n",
       "38                  Urinary tract infection  \n",
       "39                                Psoriasis  \n",
       "40                                 Impetigo  \n",
       "41                                   Dengue  "
      ]
     },
     "execution_count": 50,
     "metadata": {},
     "output_type": "execute_result"
    }
   ],
   "source": [
    "# display result\n",
    "pd.DataFrame({\"Expected\": class_names[y_unseen], \"Model 1\": predicted21, \"Model 2\": predicted22, \"Model 3\": predicted23, \"Model 4\": predicted24, \"Model 5\": predicted25})\n"
   ]
  },
  {
   "cell_type": "markdown",
   "metadata": {
    "id": "T9ZkcLmlFcri"
   },
   "source": [
    "### Confusion Matrix"
   ]
  },
  {
   "cell_type": "code",
   "execution_count": 51,
   "metadata": {
    "id": "pexBax2-oog0"
   },
   "outputs": [
    {
     "name": "stderr",
     "output_type": "stream",
     "text": [
      "C:\\Users\\whald\\anaconda3\\lib\\site-packages\\tensorflow_addons\\utils\\ensure_tf_install.py:53: UserWarning: Tensorflow Addons supports using Python ops for all Tensorflow versions above or equal to 2.8.0 and strictly below 2.11.0 (nightly versions are not supported). \n",
      " The versions of TensorFlow you are currently using is 2.11.0 and is not supported. \n",
      "Some things might work, some things might not.\n",
      "If you were to encounter a bug, do not file an issue.\n",
      "If you want to make sure you're using a tested and supported configuration, either change the TensorFlow version or the TensorFlow Addons's version. \n",
      "You can find the compatibility matrix in TensorFlow Addon's readme:\n",
      "https://github.com/tensorflow/addons\n",
      "  warnings.warn(\n"
     ]
    }
   ],
   "source": [
    "#!pip install tensorflow_addons\n",
    "#!pip install git+https://github.com/tensorflow/docs\n",
    "\n",
    "import tensorflow_addons as tfa\n",
    "from sklearn.metrics import plot_confusion_matrix\n",
    "from sklearn.metrics import confusion_matrix, ConfusionMatrixDisplay\n",
    "import matplotlib.pyplot as plt"
   ]
  },
  {
   "cell_type": "markdown",
   "metadata": {
    "id": "0yr6BA4xAK6M"
   },
   "source": [
    "#### Accuracy Score"
   ]
  },
  {
   "cell_type": "code",
   "execution_count": 52,
   "metadata": {
    "id": "hx4seQN5_zzS"
   },
   "outputs": [],
   "source": [
    "from sklearn.metrics import accuracy_score\n",
    "\n",
    "acc_score11 = accuracy_score(y_test, predicted11)\n",
    "acc_score12 = accuracy_score(y_test, predicted12)\n",
    "acc_score13 = accuracy_score(y_test, predicted13)\n",
    "acc_score14 = accuracy_score(y_test, predicted14)\n",
    "acc_score15 = accuracy_score(y_test, predicted15)\n",
    "\n",
    "acc_score21 = accuracy_score(y_unseen, predicted21)\n",
    "acc_score22 = accuracy_score(y_unseen, predicted22)\n",
    "acc_score23 = accuracy_score(y_unseen, predicted23)\n",
    "acc_score24 = accuracy_score(y_unseen, predicted24)\n",
    "acc_score25 = accuracy_score(y_unseen, predicted25)"
   ]
  },
  {
   "cell_type": "code",
   "execution_count": 53,
   "metadata": {},
   "outputs": [
    {
     "name": "stdout",
     "output_type": "stream",
     "text": [
      "Accuracy Score - Test Data\n"
     ]
    },
    {
     "data": {
      "text/html": [
       "<div>\n",
       "<style scoped>\n",
       "    .dataframe tbody tr th:only-of-type {\n",
       "        vertical-align: middle;\n",
       "    }\n",
       "\n",
       "    .dataframe tbody tr th {\n",
       "        vertical-align: top;\n",
       "    }\n",
       "\n",
       "    .dataframe thead th {\n",
       "        text-align: right;\n",
       "    }\n",
       "</style>\n",
       "<table border=\"1\" class=\"dataframe\">\n",
       "  <thead>\n",
       "    <tr style=\"text-align: right;\">\n",
       "      <th></th>\n",
       "      <th>Data</th>\n",
       "      <th>Model 1</th>\n",
       "      <th>Model 2</th>\n",
       "      <th>Model 3</th>\n",
       "      <th>Model 4</th>\n",
       "      <th>Model 5</th>\n",
       "    </tr>\n",
       "  </thead>\n",
       "  <tbody>\n",
       "    <tr>\n",
       "      <th>0</th>\n",
       "      <td>Test</td>\n",
       "      <td>0.964431</td>\n",
       "      <td>0.972561</td>\n",
       "      <td>1.0</td>\n",
       "      <td>1.0</td>\n",
       "      <td>1.0</td>\n",
       "    </tr>\n",
       "    <tr>\n",
       "      <th>1</th>\n",
       "      <td>Unseen</td>\n",
       "      <td>0.000000</td>\n",
       "      <td>0.000000</td>\n",
       "      <td>0.0</td>\n",
       "      <td>0.0</td>\n",
       "      <td>0.0</td>\n",
       "    </tr>\n",
       "  </tbody>\n",
       "</table>\n",
       "</div>"
      ],
      "text/plain": [
       "     Data   Model 1   Model 2  Model 3  Model 4  Model 5\n",
       "0    Test  0.964431  0.972561      1.0      1.0      1.0\n",
       "1  Unseen  0.000000  0.000000      0.0      0.0      0.0"
      ]
     },
     "execution_count": 53,
     "metadata": {},
     "output_type": "execute_result"
    }
   ],
   "source": [
    "# display accuracy score\n",
    "print(\"Accuracy Score - Test Data\")\n",
    "df = pd.DataFrame(columns=['Data', 'Model 1', 'Model 2', 'Model 3', 'Model 4', 'Model 5'])\n",
    "df.loc[0] = ['Test', acc_score11, acc_score12, acc_score13, acc_score14, acc_score15]\n",
    "df.loc[1] = ['Unseen', acc_score21, acc_score22, acc_score23, acc_score24, acc_score25]\n",
    "df"
   ]
  },
  {
   "cell_type": "markdown",
   "metadata": {
    "id": "sv0QfhFQAFAH"
   },
   "source": [
    "Multilabel confusion matrix"
   ]
  },
  {
   "cell_type": "code",
   "execution_count": 54,
   "metadata": {
    "id": "JgQ1rFBI_6QL"
   },
   "outputs": [
    {
     "data": {
      "text/plain": [
       "array([[21,  0,  0, ...,  0,  0,  0],\n",
       "       [ 0, 23,  0, ...,  0,  0,  0],\n",
       "       [ 0,  0, 25, ...,  0,  0,  0],\n",
       "       ...,\n",
       "       [ 0,  0,  0, ..., 19,  0,  0],\n",
       "       [ 0,  0,  0, ...,  0, 27,  0],\n",
       "       [ 0,  0,  0, ...,  0,  0, 18]], dtype=int64)"
      ]
     },
     "execution_count": 54,
     "metadata": {},
     "output_type": "execute_result"
    }
   ],
   "source": [
    "from sklearn.metrics import confusion_matrix\n",
    "confusion_matrix(y_test, predicted11)\n",
    "confusion_matrix(y_test, predicted12)"
   ]
  },
  {
   "cell_type": "code",
   "execution_count": 55,
   "metadata": {},
   "outputs": [
    {
     "data": {
      "text/plain": [
       "(42, 132)"
      ]
     },
     "execution_count": 55,
     "metadata": {},
     "output_type": "execute_result"
    }
   ],
   "source": [
    "X_unseen.shape"
   ]
  },
  {
   "cell_type": "code",
   "execution_count": 56,
   "metadata": {
    "id": "a7e5qYuCBRSo"
   },
   "outputs": [
    {
     "name": "stdout",
     "output_type": "stream",
     "text": [
      "Model 1:\n",
      "2/2 [==============================] - 0s 6ms/step\n"
     ]
    },
    {
     "data": {
      "text/plain": [
       "<AxesSubplot:>"
      ]
     },
     "execution_count": 56,
     "metadata": {},
     "output_type": "execute_result"
    },
    {
     "data": {
      "image/png": "[encoded data removed]",
      "text/plain": [
       "<Figure size 640x480 with 2 Axes>"
      ]
     },
     "metadata": {},
     "output_type": "display_data"
    }
   ],
   "source": [
    "from sklearn.metrics import classification_report\n",
    "import seaborn as sns\n",
    "\n",
    "print(\"Model 1:\")\n",
    "p = model4.predict(X_unseen)\n",
    "clf_report  = classification_report(y_unseen, tf.argmax(p, axis=1),target_names=class_names, output_dict=True)\n",
    "\n",
    "sns.heatmap(pd.DataFrame(clf_report).iloc[:-1, :].T, annot=True)\n"
   ]
  },
  {
   "cell_type": "code",
   "execution_count": 57,
   "metadata": {},
   "outputs": [],
   "source": [
    "#### Print confusion matrix"
   ]
  },
  {
   "cell_type": "code",
   "execution_count": 58,
   "metadata": {
    "id": "XS8XdW-WcZj4"
   },
   "outputs": [
    {
     "data": {
      "image/png": "[encoded data removed]",
      "text/plain": [
       "<Figure size 900x900 with 2 Axes>"
      ]
     },
     "metadata": {},
     "output_type": "display_data"
    }
   ],
   "source": [
    "figsize=[12,12]\n",
    "cm = confusion_matrix(y_test, predicted11) \n",
    "cm_display = ConfusionMatrixDisplay(cm).plot(ax=plt.subplots(figsize=figsize, dpi=75)[1])\n"
   ]
  },
  {
   "cell_type": "code",
   "execution_count": 59,
   "metadata": {},
   "outputs": [],
   "source": [
    "#fig, axn = plt.subplots(3,3, sharex=True, sharey=True,figsize=(12,12))\n",
    "\n",
    "#for i, ax in enumerate(axn.flat):\n",
    "#    k = list(cf_matrix)[i]\n",
    "#    sns.heatmap(cf_matrix[k], ax=ax,cbar=i==4)\n",
    "#    ax.set_title(k,fontsize=8)\n"
   ]
  },
  {
   "cell_type": "code",
   "execution_count": null,
   "metadata": {},
   "outputs": [],
   "source": []
  }
 ],
 "metadata": {
  "colab": {
   "collapsed_sections": [
    "o5m2qW-Toogy"
   ],
   "include_colab_link": true,
   "provenance": []
  },
  "kernelspec": {
   "display_name": "Python 3 (ipykernel)",
   "language": "python",
   "name": "python3"
  },
  "language_info": {
   "codemirror_mode": {
    "name": "ipython",
    "version": 3
   },
   "file_extension": ".py",
   "mimetype": "text/x-python",
   "name": "python",
   "nbconvert_exporter": "python",
   "pygments_lexer": "ipython3",
   "version": "3.9.13"
  }
 },
 "nbformat": 4,
 "nbformat_minor": 4
}
