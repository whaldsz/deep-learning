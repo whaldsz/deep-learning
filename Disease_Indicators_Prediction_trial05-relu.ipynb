{
 "cells": [
  {
   "cell_type": "markdown",
   "metadata": {
    "id": "jScRtiZxMfL9"
   },
   "source": [
    "# Disease Prediction\n",
    "\n"
   ]
  },
  {
   "cell_type": "markdown",
   "metadata": {
    "id": "eA0-wujXMwEE"
   },
   "source": [
    "## Setup and initialization"
   ]
  },
  {
   "cell_type": "code",
   "execution_count": 66,
   "metadata": {
    "colab": {
     "base_uri": "https://localhost:8080/"
    },
    "id": "GKIH3kttpcM2",
    "outputId": "b49c1b3c-826d-4116-824f-1c78375e84e3"
   },
   "outputs": [],
   "source": [
    "#from google.colab import drive\n",
    "#drive.mount('/content/drive')"
   ]
  },
  {
   "cell_type": "code",
   "execution_count": 67,
   "metadata": {
    "colab": {
     "base_uri": "https://localhost:8080/"
    },
    "id": "14juYhy7Mp4O",
    "outputId": "0b8cb550-0e78-4ffd-9c2e-38e3504c473c"
   },
   "outputs": [
    {
     "name": "stdout",
     "output_type": "stream",
     "text": [
      "2.10.0\n"
     ]
    }
   ],
   "source": [
    "import random\n",
    "import numpy as np\n",
    "import tensorflow as tf\n",
    "\n",
    "from tensorflow.keras import layers\n",
    "from tensorflow.keras import regularizers\n",
    "from sklearn.model_selection import train_test_split\n",
    "\n",
    "print(tf.__version__)\n",
    "\n",
    "seed = 299;\n",
    "# let's set the random seed to make the results reproducible\n",
    "\n",
    "#random.seed(seed)\n",
    "#np.random.seed(seed)\n",
    "#tf.random.set_seed(seed)\n",
    "tf.keras.utils.set_random_seed(seed)  # sets seeds for base-python, numpy and tf\n",
    "tf.config.experimental.enable_op_determinism()"
   ]
  },
  {
   "cell_type": "code",
   "execution_count": 68,
   "metadata": {
    "id": "z-8pEjoLrx8S"
   },
   "outputs": [],
   "source": [
    "#!pip install git+https://github.com/tensorflow/docs\n",
    "\n",
    "try:\n",
    "  import tensorflow_docs as tfdocs\n",
    "  import tensorflow_docs.modeling\n",
    "  import tensorflow_docs.plots\n",
    "except:\n",
    "  !pip install git+https://github.com/tensorflow/docs\n",
    "  import tensorflow_docs as tfdocs\n",
    "  import tensorflow_docs.modeling\n",
    "  import tensorflow_docs.plots\n",
    "  "
   ]
  },
  {
   "cell_type": "code",
   "execution_count": 69,
   "metadata": {
    "id": "6bYBQO6Hoogj"
   },
   "outputs": [],
   "source": [
    "from  IPython import display\n",
    "from matplotlib import pyplot as plt\n",
    "\n",
    "import numpy as np\n",
    "\n",
    "import pathlib\n",
    "import shutil\n",
    "import tempfile\n",
    "import datetime"
   ]
  },
  {
   "cell_type": "code",
   "execution_count": 70,
   "metadata": {
    "id": "FNIgOz_Poogj"
   },
   "outputs": [],
   "source": [
    "# currentdir\n",
    "import os\n",
    "\n",
    "logdir = \"logs/fit/\" + datetime.datetime.now().strftime(\"%Y%m%d-%H%M%S\")\n",
    "modelDir = \"models\"\n",
    "shutil.rmtree(logdir, ignore_errors=True)"
   ]
  },
  {
   "cell_type": "markdown",
   "metadata": {
    "id": "wmYSJcWMSnZU"
   },
   "source": [
    "## 1. Dataset Preparation"
   ]
  },
  {
   "cell_type": "code",
   "execution_count": 71,
   "metadata": {
    "colab": {
     "base_uri": "https://localhost:8080/",
     "height": 381
    },
    "id": "Kx4tROB9MuM8",
    "outputId": "fdb273ee-f9aa-464f-a937-638a9d380823"
   },
   "outputs": [
    {
     "data": {
      "text/html": [
       "<div>\n",
       "<style scoped>\n",
       "    .dataframe tbody tr th:only-of-type {\n",
       "        vertical-align: middle;\n",
       "    }\n",
       "\n",
       "    .dataframe tbody tr th {\n",
       "        vertical-align: top;\n",
       "    }\n",
       "\n",
       "    .dataframe thead th {\n",
       "        text-align: right;\n",
       "    }\n",
       "</style>\n",
       "<table border=\"1\" class=\"dataframe\">\n",
       "  <thead>\n",
       "    <tr style=\"text-align: right;\">\n",
       "      <th></th>\n",
       "      <th>itching</th>\n",
       "      <th>skin_rash</th>\n",
       "      <th>nodal_skin_eruptions</th>\n",
       "      <th>continuous_sneezing</th>\n",
       "      <th>shivering</th>\n",
       "      <th>chills</th>\n",
       "      <th>joint_pain</th>\n",
       "      <th>stomach_pain</th>\n",
       "      <th>acidity</th>\n",
       "      <th>ulcers_on_tongue</th>\n",
       "      <th>...</th>\n",
       "      <th>scurring</th>\n",
       "      <th>skin_peeling</th>\n",
       "      <th>silver_like_dusting</th>\n",
       "      <th>small_dents_in_nails</th>\n",
       "      <th>inflammatory_nails</th>\n",
       "      <th>blister</th>\n",
       "      <th>red_sore_around_nose</th>\n",
       "      <th>yellow_crust_ooze</th>\n",
       "      <th>prognosis</th>\n",
       "      <th>Unnamed: 133</th>\n",
       "    </tr>\n",
       "  </thead>\n",
       "  <tbody>\n",
       "    <tr>\n",
       "      <th>0</th>\n",
       "      <td>1</td>\n",
       "      <td>1</td>\n",
       "      <td>1</td>\n",
       "      <td>0</td>\n",
       "      <td>0</td>\n",
       "      <td>0</td>\n",
       "      <td>0</td>\n",
       "      <td>0</td>\n",
       "      <td>0</td>\n",
       "      <td>0</td>\n",
       "      <td>...</td>\n",
       "      <td>0</td>\n",
       "      <td>0</td>\n",
       "      <td>0</td>\n",
       "      <td>0</td>\n",
       "      <td>0</td>\n",
       "      <td>0</td>\n",
       "      <td>0</td>\n",
       "      <td>0</td>\n",
       "      <td>Fungal infection</td>\n",
       "      <td>NaN</td>\n",
       "    </tr>\n",
       "    <tr>\n",
       "      <th>1</th>\n",
       "      <td>0</td>\n",
       "      <td>1</td>\n",
       "      <td>1</td>\n",
       "      <td>0</td>\n",
       "      <td>0</td>\n",
       "      <td>0</td>\n",
       "      <td>0</td>\n",
       "      <td>0</td>\n",
       "      <td>0</td>\n",
       "      <td>0</td>\n",
       "      <td>...</td>\n",
       "      <td>0</td>\n",
       "      <td>0</td>\n",
       "      <td>0</td>\n",
       "      <td>0</td>\n",
       "      <td>0</td>\n",
       "      <td>0</td>\n",
       "      <td>0</td>\n",
       "      <td>0</td>\n",
       "      <td>Fungal infection</td>\n",
       "      <td>NaN</td>\n",
       "    </tr>\n",
       "    <tr>\n",
       "      <th>2</th>\n",
       "      <td>1</td>\n",
       "      <td>0</td>\n",
       "      <td>1</td>\n",
       "      <td>0</td>\n",
       "      <td>0</td>\n",
       "      <td>0</td>\n",
       "      <td>0</td>\n",
       "      <td>0</td>\n",
       "      <td>0</td>\n",
       "      <td>0</td>\n",
       "      <td>...</td>\n",
       "      <td>0</td>\n",
       "      <td>0</td>\n",
       "      <td>0</td>\n",
       "      <td>0</td>\n",
       "      <td>0</td>\n",
       "      <td>0</td>\n",
       "      <td>0</td>\n",
       "      <td>0</td>\n",
       "      <td>Fungal infection</td>\n",
       "      <td>NaN</td>\n",
       "    </tr>\n",
       "    <tr>\n",
       "      <th>3</th>\n",
       "      <td>1</td>\n",
       "      <td>1</td>\n",
       "      <td>0</td>\n",
       "      <td>0</td>\n",
       "      <td>0</td>\n",
       "      <td>0</td>\n",
       "      <td>0</td>\n",
       "      <td>0</td>\n",
       "      <td>0</td>\n",
       "      <td>0</td>\n",
       "      <td>...</td>\n",
       "      <td>0</td>\n",
       "      <td>0</td>\n",
       "      <td>0</td>\n",
       "      <td>0</td>\n",
       "      <td>0</td>\n",
       "      <td>0</td>\n",
       "      <td>0</td>\n",
       "      <td>0</td>\n",
       "      <td>Fungal infection</td>\n",
       "      <td>NaN</td>\n",
       "    </tr>\n",
       "    <tr>\n",
       "      <th>4</th>\n",
       "      <td>1</td>\n",
       "      <td>1</td>\n",
       "      <td>1</td>\n",
       "      <td>0</td>\n",
       "      <td>0</td>\n",
       "      <td>0</td>\n",
       "      <td>0</td>\n",
       "      <td>0</td>\n",
       "      <td>0</td>\n",
       "      <td>0</td>\n",
       "      <td>...</td>\n",
       "      <td>0</td>\n",
       "      <td>0</td>\n",
       "      <td>0</td>\n",
       "      <td>0</td>\n",
       "      <td>0</td>\n",
       "      <td>0</td>\n",
       "      <td>0</td>\n",
       "      <td>0</td>\n",
       "      <td>Fungal infection</td>\n",
       "      <td>NaN</td>\n",
       "    </tr>\n",
       "  </tbody>\n",
       "</table>\n",
       "<p>5 rows × 134 columns</p>\n",
       "</div>"
      ],
      "text/plain": [
       "   itching  skin_rash  nodal_skin_eruptions  continuous_sneezing  shivering  \\\n",
       "0        1          1                     1                    0          0   \n",
       "1        0          1                     1                    0          0   \n",
       "2        1          0                     1                    0          0   \n",
       "3        1          1                     0                    0          0   \n",
       "4        1          1                     1                    0          0   \n",
       "\n",
       "   chills  joint_pain  stomach_pain  acidity  ulcers_on_tongue  ...  scurring  \\\n",
       "0       0           0             0        0                 0  ...         0   \n",
       "1       0           0             0        0                 0  ...         0   \n",
       "2       0           0             0        0                 0  ...         0   \n",
       "3       0           0             0        0                 0  ...         0   \n",
       "4       0           0             0        0                 0  ...         0   \n",
       "\n",
       "   skin_peeling  silver_like_dusting  small_dents_in_nails  \\\n",
       "0             0                    0                     0   \n",
       "1             0                    0                     0   \n",
       "2             0                    0                     0   \n",
       "3             0                    0                     0   \n",
       "4             0                    0                     0   \n",
       "\n",
       "   inflammatory_nails  blister  red_sore_around_nose  yellow_crust_ooze  \\\n",
       "0                   0        0                     0                  0   \n",
       "1                   0        0                     0                  0   \n",
       "2                   0        0                     0                  0   \n",
       "3                   0        0                     0                  0   \n",
       "4                   0        0                     0                  0   \n",
       "\n",
       "          prognosis  Unnamed: 133  \n",
       "0  Fungal infection           NaN  \n",
       "1  Fungal infection           NaN  \n",
       "2  Fungal infection           NaN  \n",
       "3  Fungal infection           NaN  \n",
       "4  Fungal infection           NaN  \n",
       "\n",
       "[5 rows x 134 columns]"
      ]
     },
     "execution_count": 71,
     "metadata": {},
     "output_type": "execute_result"
    }
   ],
   "source": [
    "import pandas as pd\n",
    "\n",
    "\n",
    "disease_training = pd.read_csv('https://raw.githubusercontent.com/whaldsz/deep-learning/main/Disease_Prediction/Training.csv')\n",
    "disease_testing = pd.read_csv('https://raw.githubusercontent.com/whaldsz/deep-learning/main/Disease_Prediction/Testing.csv')\n",
    "disease_training.head()"
   ]
  },
  {
   "cell_type": "code",
   "execution_count": 72,
   "metadata": {},
   "outputs": [
    {
     "name": "stdout",
     "output_type": "stream",
     "text": [
      "(4920, 134)\n",
      "(42, 133)\n"
     ]
    }
   ],
   "source": [
    "print(disease_training.shape)\n",
    "print(disease_testing.shape)"
   ]
  },
  {
   "cell_type": "markdown",
   "metadata": {
    "id": "JYkWJhNtXhp0"
   },
   "source": [
    "## 3 Remove last column"
   ]
  },
  {
   "cell_type": "code",
   "execution_count": 73,
   "metadata": {
    "id": "NZghc-CaSjkK"
   },
   "outputs": [
    {
     "data": {
      "text/plain": [
       "itching                    0\n",
       "skin_rash                  0\n",
       "nodal_skin_eruptions       0\n",
       "continuous_sneezing        0\n",
       "shivering                  0\n",
       "                        ... \n",
       "blister                    0\n",
       "red_sore_around_nose       0\n",
       "yellow_crust_ooze          0\n",
       "prognosis                  0\n",
       "Unnamed: 133            4920\n",
       "Length: 134, dtype: int64"
      ]
     },
     "execution_count": 73,
     "metadata": {},
     "output_type": "execute_result"
    }
   ],
   "source": [
    "disease_training.isna().sum()"
   ]
  },
  {
   "cell_type": "code",
   "execution_count": 74,
   "metadata": {
    "id": "TYpm082zTDYz"
   },
   "outputs": [
    {
     "data": {
      "text/plain": [
       "itching                 0\n",
       "skin_rash               0\n",
       "nodal_skin_eruptions    0\n",
       "continuous_sneezing     0\n",
       "shivering               0\n",
       "                       ..\n",
       "inflammatory_nails      0\n",
       "blister                 0\n",
       "red_sore_around_nose    0\n",
       "yellow_crust_ooze       0\n",
       "prognosis               0\n",
       "Length: 133, dtype: int64"
      ]
     },
     "execution_count": 74,
     "metadata": {},
     "output_type": "execute_result"
    }
   ],
   "source": [
    "disease_training.drop('Unnamed: 133', inplace=True, axis=1)\n",
    "\n",
    "disease_training.isna().sum()"
   ]
  },
  {
   "cell_type": "code",
   "execution_count": 75,
   "metadata": {
    "id": "hrU739NTTQHL"
   },
   "outputs": [],
   "source": [
    "#disease_training.head()"
   ]
  },
  {
   "cell_type": "markdown",
   "metadata": {
    "id": "Cg6O2vb5r_HE"
   },
   "source": [
    "## Convert category to numeric values"
   ]
  },
  {
   "cell_type": "code",
   "execution_count": 76,
   "metadata": {
    "id": "KWF_gDOVsDEB"
   },
   "outputs": [],
   "source": [
    "#get class labels\n",
    "\n",
    "class_names = np.unique(disease_training.prognosis)\n",
    "disease_training.prognosis = pd.Categorical(disease_training.prognosis)\n",
    "disease_testing.prognosis = pd.Categorical(disease_testing.prognosis)"
   ]
  },
  {
   "cell_type": "code",
   "execution_count": 77,
   "metadata": {
    "id": "47Kx89y1tlDs"
   },
   "outputs": [
    {
     "data": {
      "text/plain": [
       "array([['(vertigo) Paroymsal  Positional Vertigo'],\n",
       "       ['AIDS'],\n",
       "       ['Acne'],\n",
       "       ['Alcoholic hepatitis'],\n",
       "       ['Allergy'],\n",
       "       ['Arthritis'],\n",
       "       ['Bronchial Asthma'],\n",
       "       ['Cervical spondylosis'],\n",
       "       ['Chicken pox'],\n",
       "       ['Chronic cholestasis'],\n",
       "       ['Common Cold'],\n",
       "       ['Dengue'],\n",
       "       ['Diabetes '],\n",
       "       ['Dimorphic hemmorhoids(piles)'],\n",
       "       ['Drug Reaction'],\n",
       "       ['Fungal infection'],\n",
       "       ['GERD'],\n",
       "       ['Gastroenteritis'],\n",
       "       ['Heart attack'],\n",
       "       ['Hepatitis B'],\n",
       "       ['Hepatitis C'],\n",
       "       ['Hepatitis D'],\n",
       "       ['Hepatitis E'],\n",
       "       ['Hypertension '],\n",
       "       ['Hyperthyroidism'],\n",
       "       ['Hypoglycemia'],\n",
       "       ['Hypothyroidism'],\n",
       "       ['Impetigo'],\n",
       "       ['Jaundice'],\n",
       "       ['Malaria'],\n",
       "       ['Migraine'],\n",
       "       ['Osteoarthristis'],\n",
       "       ['Paralysis (brain hemorrhage)'],\n",
       "       ['Peptic ulcer diseae'],\n",
       "       ['Pneumonia'],\n",
       "       ['Psoriasis'],\n",
       "       ['Tuberculosis'],\n",
       "       ['Typhoid'],\n",
       "       ['Urinary tract infection'],\n",
       "       ['Varicose veins'],\n",
       "       ['hepatitis A']], dtype=object)"
      ]
     },
     "execution_count": 77,
     "metadata": {},
     "output_type": "execute_result"
    }
   ],
   "source": [
    "#disease_training.prognosis.cat.codes\n",
    "#disease_training\n",
    "#disease_testing.head()\n",
    "\n",
    "# list class names\n",
    "class_names[:,None]"
   ]
  },
  {
   "cell_type": "markdown",
   "metadata": {
    "id": "oV6x9-0IactI"
   },
   "source": [
    "## Separate Features and Label - Training"
   ]
  },
  {
   "cell_type": "markdown",
   "metadata": {
    "id": "hz5pI7qjHLlZ"
   },
   "source": [
    "### Training Set"
   ]
  },
  {
   "cell_type": "code",
   "execution_count": 78,
   "metadata": {
    "id": "Ats9rmYNaiES"
   },
   "outputs": [
    {
     "data": {
      "text/plain": [
       "array([ 0,  1,  2,  3,  4,  5,  6,  7,  8,  9, 10, 11, 12, 13, 14, 15, 16,\n",
       "       17, 18, 19, 20, 21, 22, 23, 24, 25, 26, 27, 28, 29, 30, 31, 32, 33,\n",
       "       34, 35, 36, 37, 38, 39, 40], dtype=int8)"
      ]
     },
     "execution_count": 78,
     "metadata": {},
     "output_type": "execute_result"
    }
   ],
   "source": [
    "X = disease_training.drop('prognosis', axis=1)\n",
    "y = disease_training.prognosis.cat.codes\n",
    "np.unique(y)"
   ]
  },
  {
   "cell_type": "markdown",
   "metadata": {
    "id": "YfkFrMKeHOtO"
   },
   "source": [
    "### Unseen Test Set"
   ]
  },
  {
   "cell_type": "code",
   "execution_count": 79,
   "metadata": {
    "id": "_32AZ6XnHTZc"
   },
   "outputs": [
    {
     "data": {
      "text/plain": [
       "array([0, 1], dtype=int64)"
      ]
     },
     "execution_count": 79,
     "metadata": {},
     "output_type": "execute_result"
    }
   ],
   "source": [
    "X_unseen = disease_testing.drop('prognosis', axis=1)\n",
    "y_unseen = disease_testing.prognosis.cat.codes\n",
    "np.unique(X_unseen)"
   ]
  },
  {
   "cell_type": "markdown",
   "metadata": {
    "id": "Nkk4a6TO3ExZ"
   },
   "source": [
    "## Split into Training & Validation Test"
   ]
  },
  {
   "cell_type": "code",
   "execution_count": 80,
   "metadata": {
    "id": "bYRL_KPNcDcr"
   },
   "outputs": [],
   "source": [
    "X_train, X_test, y_train, y_test = train_test_split(X, y, test_size=0.2, random_state=74)\n",
    "#print(X_train.shape)\n",
    "#print(y_train.shape)\n",
    "#print(X_test.shape)\n",
    "#print(y_test.shape)\n"
   ]
  },
  {
   "cell_type": "code",
   "execution_count": 81,
   "metadata": {
    "id": "GrD6Ftlu6hSk"
   },
   "outputs": [
    {
     "data": {
      "text/plain": [
       "((3936, 132), (984, 132))"
      ]
     },
     "execution_count": 81,
     "metadata": {},
     "output_type": "execute_result"
    }
   ],
   "source": [
    "X_train.shape, X_test.shape"
   ]
  },
  {
   "cell_type": "code",
   "execution_count": 82,
   "metadata": {
    "id": "q9H6DlOGoogs"
   },
   "outputs": [
    {
     "data": {
      "text/plain": [
       "132"
      ]
     },
     "execution_count": 82,
     "metadata": {},
     "output_type": "execute_result"
    }
   ],
   "source": [
    "# Number of features\n",
    "FEATURES = 132\n",
    "FEATURES"
   ]
  },
  {
   "cell_type": "markdown",
   "metadata": {
    "id": "cqzUER9BjKE2"
   },
   "source": [
    "## 2. Model Training"
   ]
  },
  {
   "cell_type": "markdown",
   "metadata": {
    "id": "y4ecoazvoogt"
   },
   "source": [
    "### Training configuration"
   ]
  },
  {
   "cell_type": "code",
   "execution_count": 83,
   "metadata": {
    "id": "EEQeBn4loogt"
   },
   "outputs": [
    {
     "data": {
      "text/plain": [
       "[132, 787.2, 3148.8, 100, 50, 62.0]"
      ]
     },
     "execution_count": 83,
     "metadata": {},
     "output_type": "execute_result"
    }
   ],
   "source": [
    "FEATURES=X_train.shape[1]\n",
    "N_VALIDATION = X_train.shape[0] *.2 #int(1e3)\n",
    "N_TRAIN = X_train.shape[0]*.8 #int(1e4)\n",
    "BUFFER_SIZE = int(100)\n",
    "BATCH_SIZE = 50\n",
    "STEPS_PER_EPOCH = N_TRAIN//BATCH_SIZE\n",
    "\n",
    "[FEATURES, N_VALIDATION, N_TRAIN, BUFFER_SIZE, BATCH_SIZE, STEPS_PER_EPOCH]"
   ]
  },
  {
   "cell_type": "markdown",
   "metadata": {
    "id": "fVAIi_Azoogt"
   },
   "source": [
    "### Create Model"
   ]
  },
  {
   "cell_type": "markdown",
   "metadata": {
    "id": "aSiaCCIMFAzn"
   },
   "source": [
    "### Find the ideal learning rate"
   ]
  },
  {
   "cell_type": "code",
   "execution_count": 84,
   "metadata": {
    "id": "l-SVriZKoogu"
   },
   "outputs": [],
   "source": [
    "lr_schedule = tf.keras.optimizers.schedules.InverseTimeDecay(\n",
    "  0.001,\n",
    "  decay_steps=STEPS_PER_EPOCH*100,\n",
    "  decay_rate=1,\n",
    "  staircase=False)\n",
    "\n",
    "def get_optimizer():\n",
    "  return tf.keras.optimizers.Adam(lr_schedule)"
   ]
  },
  {
   "cell_type": "code",
   "execution_count": 85,
   "metadata": {
    "id": "A6-hY9GRoogu"
   },
   "outputs": [
    {
     "data": {
      "image/png": "[encoded data removed]",
      "text/plain": [
       "<Figure size 600x400 with 1 Axes>"
      ]
     },
     "metadata": {},
     "output_type": "display_data"
    }
   ],
   "source": [
    "step = np.linspace(0,100000)\n",
    "lr = lr_schedule(step)\n",
    "plt.figure(figsize = (6,4))\n",
    "plt.plot(step/STEPS_PER_EPOCH, lr,linestyle='solid')\n",
    "plt.ylim([0,max(plt.ylim())])\n",
    "plt.xlabel('Epoch')\n",
    "_ = plt.ylabel('Learning Rate')"
   ]
  },
  {
   "cell_type": "code",
   "execution_count": 86,
   "metadata": {
    "id": "XvMlla5mxKVX"
   },
   "outputs": [],
   "source": [
    "\n",
    "#metrics = [\n",
    "#    tfma.metrics.ExampleCount(name='example_count'),\n",
    "#    tf.keras.metrics.SparseCategoricalCrossentropy(\n",
    "#        name='sparse_categorical_crossentropy'),\n",
    "#    tf.keras.metrics.SparseCategoricalAccuracy(name='accuracy'),\n",
    "#    tf.keras.metrics.Precision(name='precision', top_k=1),\n",
    "#    tf.keras.metrics.Precision(name='precision', top_k=3),\n",
    "#    tf.keras.metrics.Recall(name='recall', top_k=1),\n",
    "#    tf.keras.metrics.Recall(name='recall', top_k=3),\n",
    "#    tfma.metrics.MultiClassConfusionMatrixPlot(\n",
    "#        name='multi_class_confusion_matrix_plot'),\n",
    "#]\n",
    "\n",
    "METRICS = 'accuracy'\n",
    "LOSS = tf.keras.losses.SparseCategoricalCrossentropy()"
   ]
  },
  {
   "cell_type": "markdown",
   "metadata": {
    "id": "TOADNrUzoogv"
   },
   "source": [
    "### Settings for automation"
   ]
  },
  {
   "cell_type": "code",
   "execution_count": 87,
   "metadata": {
    "id": "ssXag77Woogv"
   },
   "outputs": [],
   "source": [
    "def get_callbacks(name):\n",
    "  return [\n",
    "    tfdocs.modeling.EpochDots(),\n",
    "    tf.keras.callbacks.EarlyStopping(monitor='acc', patience=100),\n",
    "    tf.keras.callbacks.TensorBoard(logdir),\n",
    "  ]"
   ]
  },
  {
   "cell_type": "code",
   "execution_count": 88,
   "metadata": {
    "id": "zu3LUWmuoogw"
   },
   "outputs": [],
   "source": [
    "def compile_and_fit(model, name, loss=None, optimizer=None, metrics = None, max_epochs=10000):\n",
    "  if optimizer is None:\n",
    "    optimizer = get_optimizer()\n",
    "\n",
    "  if loss is None:\n",
    "    loss = LOSS\n",
    "  if metrics is None:\n",
    "    metrics = [METRICS]\n",
    "\n",
    "  model.compile(\n",
    "      optimizer=optimizer,\n",
    "      loss=loss,\n",
    "      metrics=metrics\n",
    "  )\n",
    "\n",
    "  model.summary()\n",
    "\n",
    "  history = model.fit(\n",
    "    X_train,\n",
    "    y_train,\n",
    "    steps_per_epoch = STEPS_PER_EPOCH,\n",
    "    epochs=max_epochs,\n",
    "    validation_split=0.1,\n",
    "    #validation_data=[X_test, y_test],\n",
    "    callbacks=get_callbacks(name),\n",
    "    verbose=0)\n",
    "  return history"
   ]
  },
  {
   "cell_type": "markdown",
   "metadata": {
    "id": "mBr_8aBuoogw"
   },
   "source": [
    "### Models"
   ]
  },
  {
   "cell_type": "code",
   "execution_count": 89,
   "metadata": {
    "id": "nrJxzBr8oogw"
   },
   "outputs": [],
   "source": [
    "size_histories = {}\n",
    "\n",
    "#Model 1\n",
    "model1 = tf.keras.Sequential([\n",
    "    layers.Dense(64, activation='elu', input_shape=(FEATURES,)),\n",
    "    layers.Dense(41, activation=tf.keras.activations.softmax)\n",
    "])\n",
    "\n",
    "#Model 2\n",
    "model2 = tf.keras.Sequential([\n",
    "    layers.Dense(128, activation='elu', input_shape=(FEATURES,)),\n",
    "    layers.Dense(256, activation='elu', input_shape=(FEATURES,)),\n",
    "    layers.Dense(41, activation=tf.keras.activations.softmax)\n",
    "])\n",
    "\n",
    "#Model 3\n",
    "model3 = tf.keras.Sequential([\n",
    "    layers.Dense(128, activation='elu', input_shape=(FEATURES,)),\n",
    "    layers.Dense(128, activation='elu', input_shape=(FEATURES,)),\n",
    "    layers.Dense(256, activation='elu', input_shape=(FEATURES,)),\n",
    "    layers.Dense(41, activation=tf.keras.activations.softmax)\n",
    "])\n",
    "\n",
    "#Model 4\n",
    "model4 = tf.keras.Sequential([\n",
    "    layers.Dense(128, activation='elu', input_shape=(FEATURES,)),\n",
    "    layers.Dense(128, activation='elu', input_shape=(FEATURES,)),\n",
    "    layers.Dense(128, activation='elu', input_shape=(FEATURES,)),\n",
    "    layers.Dense(256, activation='elu', input_shape=(FEATURES,)),\n",
    "    layers.Dense(41, activation=tf.keras.activations.softmax)\n",
    "])\n",
    "\n",
    "\n",
    "#Model 5\n",
    "model5 = tf.keras.Sequential([\n",
    "    layers.Dense(64, activation='elu', input_shape=(FEATURES,)),\n",
    "    layers.Dense(64, activation='elu', input_shape=(FEATURES,)),\n",
    "    layers.Dense(64, activation='elu', input_shape=(FEATURES,)),\n",
    "    layers.Dense(64, activation='elu', input_shape=(FEATURES,)),\n",
    "    layers.Dense(256, activation='elu', input_shape=(FEATURES,)),\n",
    "    layers.Dense(41, activation=tf.keras.activations.softmax)\n",
    "])"
   ]
  },
  {
   "cell_type": "markdown",
   "metadata": {
    "id": "5rKawa53oogw",
    "tags": []
   },
   "source": [
    "#### Model 1\n",
    "\n",
    "Simple model with 3 layers"
   ]
  },
  {
   "cell_type": "code",
   "execution_count": 90,
   "metadata": {
    "id": "vY6IX1NHoogx"
   },
   "outputs": [
    {
     "name": "stdout",
     "output_type": "stream",
     "text": [
      "Model: \"sequential_5\"\n",
      "_________________________________________________________________\n",
      " Layer (type)                Output Shape              Param #   \n",
      "=================================================================\n",
      " dense_20 (Dense)            (None, 64)                8512      \n",
      "                                                                 \n",
      " dense_21 (Dense)            (None, 41)                2665      \n",
      "                                                                 \n",
      "=================================================================\n",
      "Total params: 11,177\n",
      "Trainable params: 11,177\n",
      "Non-trainable params: 0\n",
      "_________________________________________________________________\n",
      "\n",
      "Epoch: 0, acc:0.6084,  loss:2.8969,  val_acc:0.9112,  val_loss:1.9963,  \n",
      "....................................................................................................\n",
      "Epoch: 100, acc:1.0000,  loss:0.0001,  val_acc:1.0000,  val_loss:0.0002,  \n",
      "...."
     ]
    }
   ],
   "source": [
    "model1_history = compile_and_fit(\n",
    "    model1, \n",
    "    'models/model1',\n",
    "    loss=LOSS,\n",
    "    metrics=['acc']\n",
    ")"
   ]
  },
  {
   "cell_type": "code",
   "execution_count": 91,
   "metadata": {
    "id": "COSrt_JUK1nH"
   },
   "outputs": [],
   "source": [
    "\n",
    "size_histories['model1'] = model1_history"
   ]
  },
  {
   "cell_type": "code",
   "execution_count": 92,
   "metadata": {
    "id": "Q9d9wzCVt9wG"
   },
   "outputs": [
    {
     "data": {
      "text/plain": [
       "Text(0.5, 0, 'Epochs [Log Scale]')"
      ]
     },
     "execution_count": 92,
     "metadata": {},
     "output_type": "execute_result"
    },
    {
     "data": {
      "image/png": "[encoded data removed]",
      "text/plain": [
       "<Figure size 640x480 with 1 Axes>"
      ]
     },
     "metadata": {},
     "output_type": "display_data"
    }
   ],
   "source": [
    "plotter = tfdocs.plots.HistoryPlotter(metric = 'acc', smoothing_std=10)\n",
    "plotter.plot(size_histories)\n",
    "a = plt.xscale('log')\n",
    "\n",
    "plt.xlim([.01, max(plt.xlim())])\n",
    "plt.ylim([.01, max(plt.ylim())])\n",
    "plt.xlabel(\"Epochs [Log Scale]\")"
   ]
  },
  {
   "cell_type": "code",
   "execution_count": 93,
   "metadata": {
    "id": "9EeQNCWeMJLb"
   },
   "outputs": [
    {
     "name": "stdout",
     "output_type": "stream",
     "text": [
      "31/31 [==============================] - 0s 3ms/step - loss: 1.5029e-04 - acc: 1.0000\n",
      "Model Loss (Test Set) : 0.00015028766938485205\n",
      "Model Accuracy (Test Set): 1.0\n"
     ]
    }
   ],
   "source": [
    "loss, acc = model1.evaluate(X_test, y_test)\n",
    "print(f\"Model Loss (Test Set) : {loss}\")\n",
    "print(f\"Model Accuracy (Test Set): {acc}\")"
   ]
  },
  {
   "cell_type": "markdown",
   "metadata": {
    "id": "T7Z73fwZoogx",
    "tags": []
   },
   "source": [
    "#### Model 2"
   ]
  },
  {
   "cell_type": "code",
   "execution_count": 94,
   "metadata": {
    "id": "09Vn6Fd8K-2I"
   },
   "outputs": [
    {
     "name": "stdout",
     "output_type": "stream",
     "text": [
      "Model: \"sequential_6\"\n",
      "_________________________________________________________________\n",
      " Layer (type)                Output Shape              Param #   \n",
      "=================================================================\n",
      " dense_22 (Dense)            (None, 128)               17024     \n",
      "                                                                 \n",
      " dense_23 (Dense)            (None, 256)               33024     \n",
      "                                                                 \n",
      " dense_24 (Dense)            (None, 41)                10537     \n",
      "                                                                 \n",
      "=================================================================\n",
      "Total params: 60,585\n",
      "Trainable params: 60,585\n",
      "Non-trainable params: 0\n",
      "_________________________________________________________________\n",
      "\n",
      "Epoch: 0, acc:0.8648,  loss:1.4865,  val_acc:1.0000,  val_loss:0.1389,  \n",
      "....................................................................................................\n",
      "Epoch: 100, acc:1.0000,  loss:0.0000,  val_acc:1.0000,  val_loss:0.0000,  \n",
      ".."
     ]
    }
   ],
   "source": [
    "model2_history = compile_and_fit(\n",
    "    model2, \n",
    "    'models/model2',\n",
    "    loss=LOSS,\n",
    "    metrics=['acc']\n",
    ")"
   ]
  },
  {
   "cell_type": "code",
   "execution_count": 95,
   "metadata": {
    "id": "LJjQWrWsLDdP"
   },
   "outputs": [],
   "source": [
    "size_histories['model2'] = model2_history"
   ]
  },
  {
   "cell_type": "code",
   "execution_count": 96,
   "metadata": {
    "id": "VEh647TQCbiU"
   },
   "outputs": [
    {
     "data": {
      "text/plain": [
       "Text(0.5, 0, 'Epochs [Log Scale]')"
      ]
     },
     "execution_count": 96,
     "metadata": {},
     "output_type": "execute_result"
    },
    {
     "data": {
      "image/png": "[encoded data removed]",
      "text/plain": [
       "<Figure size 640x480 with 1 Axes>"
      ]
     },
     "metadata": {},
     "output_type": "display_data"
    }
   ],
   "source": [
    "plotter = tfdocs.plots.HistoryPlotter(metric = 'acc', smoothing_std=10)\n",
    "plotter.plot(size_histories)\n",
    "a = plt.xscale('log')\n",
    "\n",
    "plt.xlim([.01, max(plt.xlim())])\n",
    "plt.ylim([.01, max(plt.ylim())])\n",
    "plt.xlabel(\"Epochs [Log Scale]\")"
   ]
  },
  {
   "cell_type": "markdown",
   "metadata": {
    "id": "tNGhoPaToogx",
    "tags": []
   },
   "source": [
    "#### Model 3"
   ]
  },
  {
   "cell_type": "code",
   "execution_count": 97,
   "metadata": {
    "id": "qeTwK5OPEG7L"
   },
   "outputs": [
    {
     "name": "stdout",
     "output_type": "stream",
     "text": [
      "Model: \"sequential_7\"\n",
      "_________________________________________________________________\n",
      " Layer (type)                Output Shape              Param #   \n",
      "=================================================================\n",
      " dense_25 (Dense)            (None, 128)               17024     \n",
      "                                                                 \n",
      " dense_26 (Dense)            (None, 128)               16512     \n",
      "                                                                 \n",
      " dense_27 (Dense)            (None, 256)               33024     \n",
      "                                                                 \n",
      " dense_28 (Dense)            (None, 41)                10537     \n",
      "                                                                 \n",
      "=================================================================\n",
      "Total params: 77,097\n",
      "Trainable params: 77,097\n",
      "Non-trainable params: 0\n",
      "_________________________________________________________________\n",
      "\n",
      "Epoch: 0, acc:0.8879,  loss:1.2053,  val_acc:1.0000,  val_loss:0.0457,  \n",
      "....................................................................................................\n",
      "Epoch: 100, acc:1.0000,  loss:0.0000,  val_acc:1.0000,  val_loss:0.0000,  \n",
      ".."
     ]
    }
   ],
   "source": [
    "model3_history = compile_and_fit(\n",
    "    model3, \n",
    "    'models/model3',\n",
    "    loss=LOSS,\n",
    "    metrics=['acc']\n",
    ")"
   ]
  },
  {
   "cell_type": "code",
   "execution_count": 98,
   "metadata": {
    "id": "VBvPvQdjKhCk"
   },
   "outputs": [],
   "source": [
    "\n",
    "size_histories['model3'] = model3_history"
   ]
  },
  {
   "cell_type": "code",
   "execution_count": 99,
   "metadata": {
    "id": "rG0Ih0YyINsq"
   },
   "outputs": [
    {
     "data": {
      "text/plain": [
       "Text(0.5, 0, 'Epochs [Log Scale]')"
      ]
     },
     "execution_count": 99,
     "metadata": {},
     "output_type": "execute_result"
    },
    {
     "data": {
      "image/png": "[encoded data removed]",
      "text/plain": [
       "<Figure size 640x480 with 1 Axes>"
      ]
     },
     "metadata": {},
     "output_type": "display_data"
    }
   ],
   "source": [
    "plotter = tfdocs.plots.HistoryPlotter(metric = 'acc', smoothing_std=10)\n",
    "plotter.plot(size_histories)\n",
    "a = plt.xscale('log')\n",
    "\n",
    "plt.xlim([.01, max(plt.xlim())])\n",
    "plt.ylim([.01, max(plt.ylim())])\n",
    "plt.xlabel(\"Epochs [Log Scale]\")"
   ]
  },
  {
   "cell_type": "markdown",
   "metadata": {
    "id": "s_wLljy8oogx",
    "tags": []
   },
   "source": [
    "#### Model 4"
   ]
  },
  {
   "cell_type": "code",
   "execution_count": 100,
   "metadata": {
    "id": "KahdLp5HId5_"
   },
   "outputs": [
    {
     "name": "stdout",
     "output_type": "stream",
     "text": [
      "Model: \"sequential_8\"\n",
      "_________________________________________________________________\n",
      " Layer (type)                Output Shape              Param #   \n",
      "=================================================================\n",
      " dense_29 (Dense)            (None, 128)               17024     \n",
      "                                                                 \n",
      " dense_30 (Dense)            (None, 128)               16512     \n",
      "                                                                 \n",
      " dense_31 (Dense)            (None, 128)               16512     \n",
      "                                                                 \n",
      " dense_32 (Dense)            (None, 256)               33024     \n",
      "                                                                 \n",
      " dense_33 (Dense)            (None, 41)                10537     \n",
      "                                                                 \n",
      "=================================================================\n",
      "Total params: 93,609\n",
      "Trainable params: 93,609\n",
      "Non-trainable params: 0\n",
      "_________________________________________________________________\n",
      "\n",
      "Epoch: 0, acc:0.8857,  loss:1.0310,  val_acc:1.0000,  val_loss:0.0157,  \n",
      "....................................................................................................\n",
      "Epoch: 100, acc:1.0000,  loss:0.0000,  val_acc:1.0000,  val_loss:0.0000,  \n",
      ".."
     ]
    }
   ],
   "source": [
    "model4_history = compile_and_fit(\n",
    "    model4, \n",
    "    'models/model4',\n",
    "    loss=LOSS,\n",
    "    metrics=['acc']\n",
    ")\n"
   ]
  },
  {
   "cell_type": "code",
   "execution_count": 101,
   "metadata": {
    "id": "uGxJmLWtKk5a"
   },
   "outputs": [],
   "source": [
    "\n",
    "size_histories['model4'] = model4_history"
   ]
  },
  {
   "cell_type": "code",
   "execution_count": 102,
   "metadata": {
    "id": "A5yIUDcJIhsz"
   },
   "outputs": [
    {
     "data": {
      "text/plain": [
       "Text(0.5, 0, 'Epochs [Log Scale]')"
      ]
     },
     "execution_count": 102,
     "metadata": {},
     "output_type": "execute_result"
    },
    {
     "data": {
      "image/png": "[encoded data removed]",
      "text/plain": [
       "<Figure size 640x480 with 1 Axes>"
      ]
     },
     "metadata": {},
     "output_type": "display_data"
    }
   ],
   "source": [
    "plotter = tfdocs.plots.HistoryPlotter(metric = 'acc', smoothing_std=10)\n",
    "plotter.plot(size_histories)\n",
    "a = plt.xscale('log')\n",
    "\n",
    "plt.xlim([.01, max(plt.xlim())])\n",
    "plt.ylim([.01, max(plt.ylim())])\n",
    "plt.xlabel(\"Epochs [Log Scale]\")"
   ]
  },
  {
   "cell_type": "markdown",
   "metadata": {
    "id": "o5m2qW-Toogy"
   },
   "source": [
    "#### Model 5"
   ]
  },
  {
   "cell_type": "code",
   "execution_count": 103,
   "metadata": {},
   "outputs": [
    {
     "name": "stdout",
     "output_type": "stream",
     "text": [
      "Model: \"sequential_9\"\n",
      "_________________________________________________________________\n",
      " Layer (type)                Output Shape              Param #   \n",
      "=================================================================\n",
      " dense_34 (Dense)            (None, 64)                8512      \n",
      "                                                                 \n",
      " dense_35 (Dense)            (None, 64)                4160      \n",
      "                                                                 \n",
      " dense_36 (Dense)            (None, 64)                4160      \n",
      "                                                                 \n",
      " dense_37 (Dense)            (None, 64)                4160      \n",
      "                                                                 \n",
      " dense_38 (Dense)            (None, 256)               16640     \n",
      "                                                                 \n",
      " dense_39 (Dense)            (None, 41)                10537     \n",
      "                                                                 \n",
      "=================================================================\n",
      "Total params: 48,169\n",
      "Trainable params: 48,169\n",
      "Non-trainable params: 0\n",
      "_________________________________________________________________\n",
      "\n",
      "Epoch: 0, acc:0.8523,  loss:1.4666,  val_acc:1.0000,  val_loss:0.0436,  \n",
      "....................................................................................................\n",
      "Epoch: 100, acc:1.0000,  loss:0.0000,  val_acc:1.0000,  val_loss:0.0000,  \n",
      ".."
     ]
    }
   ],
   "source": [
    "model5_history = compile_and_fit(\n",
    "    model5, \n",
    "    'models/model5',\n",
    "    loss=LOSS,\n",
    "    metrics=['acc']\n",
    ")"
   ]
  },
  {
   "cell_type": "code",
   "execution_count": 104,
   "metadata": {},
   "outputs": [
    {
     "data": {
      "text/plain": [
       "Text(0.5, 0, 'Epochs [Log Scale]')"
      ]
     },
     "execution_count": 104,
     "metadata": {},
     "output_type": "execute_result"
    },
    {
     "data": {
      "image/png": "[encoded data removed]",
      "text/plain": [
       "<Figure size 640x480 with 1 Axes>"
      ]
     },
     "metadata": {},
     "output_type": "display_data"
    }
   ],
   "source": [
    "\n",
    "size_histories['model5'] = model5_history\n",
    "\n",
    "plotter = tfdocs.plots.HistoryPlotter(metric = 'acc', smoothing_std=10)\n",
    "plotter.plot(size_histories)\n",
    "a = plt.xscale('log')\n",
    "\n",
    "plt.xlim([.01, max(plt.xlim())])\n",
    "plt.ylim([.01, max(plt.ylim())])\n",
    "plt.xlabel(\"Epochs [Log Scale]\")"
   ]
  },
  {
   "cell_type": "markdown",
   "metadata": {
    "id": "jYdbNB_tGtak"
   },
   "source": [
    "### 3. Evaluate Model"
   ]
  },
  {
   "cell_type": "markdown",
   "metadata": {
    "id": "D-HLBIrDIi8E"
   },
   "source": [
    "#### Evaluate with test data"
   ]
  },
  {
   "cell_type": "code",
   "execution_count": 105,
   "metadata": {
    "id": "pvcKrMrFGtuW"
   },
   "outputs": [
    {
     "name": "stdout",
     "output_type": "stream",
     "text": [
      "31/31 [==============================] - 0s 3ms/step - loss: 1.5029e-04 - acc: 1.0000\n",
      "31/31 [==============================] - 0s 3ms/step - loss: 1.2565e-05 - acc: 1.0000\n",
      "31/31 [==============================] - 0s 4ms/step - loss: 4.9681e-06 - acc: 1.0000\n",
      "31/31 [==============================] - 0s 3ms/step - loss: 2.4838e-06 - acc: 1.0000\n",
      "31/31 [==============================] - 0s 3ms/step - loss: 2.7121e-06 - acc: 1.0000\n",
      "Evaluation with Test Data\n"
     ]
    },
    {
     "data": {
      "text/html": [
       "<div>\n",
       "<style scoped>\n",
       "    .dataframe tbody tr th:only-of-type {\n",
       "        vertical-align: middle;\n",
       "    }\n",
       "\n",
       "    .dataframe tbody tr th {\n",
       "        vertical-align: top;\n",
       "    }\n",
       "\n",
       "    .dataframe thead th {\n",
       "        text-align: right;\n",
       "    }\n",
       "</style>\n",
       "<table border=\"1\" class=\"dataframe\">\n",
       "  <thead>\n",
       "    <tr style=\"text-align: right;\">\n",
       "      <th></th>\n",
       "      <th>Model 1</th>\n",
       "      <th>Model 2</th>\n",
       "      <th>Model 3</th>\n",
       "      <th>Model 4</th>\n",
       "      <th>Model 5</th>\n",
       "    </tr>\n",
       "  </thead>\n",
       "  <tbody>\n",
       "    <tr>\n",
       "      <th>loss</th>\n",
       "      <td>0.00015</td>\n",
       "      <td>0.000013</td>\n",
       "      <td>0.000005</td>\n",
       "      <td>0.000002</td>\n",
       "      <td>0.000003</td>\n",
       "    </tr>\n",
       "    <tr>\n",
       "      <th>accuracy</th>\n",
       "      <td>1.00000</td>\n",
       "      <td>1.000000</td>\n",
       "      <td>1.000000</td>\n",
       "      <td>1.000000</td>\n",
       "      <td>1.000000</td>\n",
       "    </tr>\n",
       "  </tbody>\n",
       "</table>\n",
       "</div>"
      ],
      "text/plain": [
       "          Model 1   Model 2   Model 3   Model 4   Model 5\n",
       "loss      0.00015  0.000013  0.000005  0.000002  0.000003\n",
       "accuracy  1.00000  1.000000  1.000000  1.000000  1.000000"
      ]
     },
     "execution_count": 105,
     "metadata": {},
     "output_type": "execute_result"
    }
   ],
   "source": [
    "loss1, acc1 = model1.evaluate(X_test, y_test)\n",
    "loss2, acc2 = model2.evaluate(X_test, y_test)\n",
    "loss3, acc3 = model3.evaluate(X_test, y_test)\n",
    "loss4, acc4 = model4.evaluate(X_test, y_test)\n",
    "loss5, acc5 = model5.evaluate(X_test, y_test)\n",
    "\n",
    "print(\"Evaluation with Test Data\")\n",
    "pd.DataFrame({\"Model 1\": [loss1, acc1], \"Model 2\": [loss2, acc2], \"Model 3\": [loss3, acc3], \"Model 4\": [loss4, acc4], \"Model 5\": [loss5, acc5]}, index=['loss', 'accuracy'])\n"
   ]
  },
  {
   "cell_type": "markdown",
   "metadata": {
    "id": "FyqLRD8tIqaO"
   },
   "source": [
    "#### Evaluate with unseen data (Loss vs Accuracy)"
   ]
  },
  {
   "cell_type": "code",
   "execution_count": 106,
   "metadata": {
    "id": "5berObg_IsXF"
   },
   "outputs": [
    {
     "name": "stdout",
     "output_type": "stream",
     "text": [
      "2/2 [==============================] - 0s 5ms/step - loss: 0.0201 - acc: 1.0000\n",
      "2/2 [==============================] - 0s 4ms/step - loss: 0.0335 - acc: 0.9762\n",
      "2/2 [==============================] - 0s 5ms/step - loss: 0.0849 - acc: 0.9762\n",
      "2/2 [==============================] - 0s 4ms/step - loss: 0.1006 - acc: 0.9762\n",
      "2/2 [==============================] - 0s 5ms/step - loss: 9.3929e-05 - acc: 1.0000\n",
      "Evaluation with Unseen Data\n"
     ]
    },
    {
     "data": {
      "text/html": [
       "<div>\n",
       "<style scoped>\n",
       "    .dataframe tbody tr th:only-of-type {\n",
       "        vertical-align: middle;\n",
       "    }\n",
       "\n",
       "    .dataframe tbody tr th {\n",
       "        vertical-align: top;\n",
       "    }\n",
       "\n",
       "    .dataframe thead th {\n",
       "        text-align: right;\n",
       "    }\n",
       "</style>\n",
       "<table border=\"1\" class=\"dataframe\">\n",
       "  <thead>\n",
       "    <tr style=\"text-align: right;\">\n",
       "      <th></th>\n",
       "      <th>Model 1</th>\n",
       "      <th>Model 2</th>\n",
       "      <th>Model 3</th>\n",
       "      <th>Model 4</th>\n",
       "      <th>Model 5</th>\n",
       "    </tr>\n",
       "  </thead>\n",
       "  <tbody>\n",
       "    <tr>\n",
       "      <th>loss</th>\n",
       "      <td>0.020074</td>\n",
       "      <td>0.03353</td>\n",
       "      <td>0.084911</td>\n",
       "      <td>0.100556</td>\n",
       "      <td>0.000094</td>\n",
       "    </tr>\n",
       "    <tr>\n",
       "      <th>accuracy</th>\n",
       "      <td>1.000000</td>\n",
       "      <td>0.97619</td>\n",
       "      <td>0.976190</td>\n",
       "      <td>0.976190</td>\n",
       "      <td>1.000000</td>\n",
       "    </tr>\n",
       "  </tbody>\n",
       "</table>\n",
       "</div>"
      ],
      "text/plain": [
       "           Model 1  Model 2   Model 3   Model 4   Model 5\n",
       "loss      0.020074  0.03353  0.084911  0.100556  0.000094\n",
       "accuracy  1.000000  0.97619  0.976190  0.976190  1.000000"
      ]
     },
     "execution_count": 106,
     "metadata": {},
     "output_type": "execute_result"
    }
   ],
   "source": [
    "\n",
    "loss1, acc1 = model1.evaluate(X_unseen, y_unseen)\n",
    "loss2, acc2 = model2.evaluate(X_unseen, y_unseen)\n",
    "loss3, acc3 = model3.evaluate(X_unseen, y_unseen)\n",
    "loss4, acc4 = model4.evaluate(X_unseen, y_unseen)\n",
    "loss5, acc5 = model5.evaluate(X_unseen, y_unseen)\n",
    "print(\"Evaluation with Unseen Data\")\n",
    "\n",
    "# display result \n",
    "pd.DataFrame({\"Model 1\": [loss1, acc1], \"Model 2\": [loss2, acc2], \"Model 3\": [loss3, acc3], \"Model 4\": [loss4, acc4], \"Model 5\": [loss5, acc5]}, index=['loss', 'accuracy'])"
   ]
  },
  {
   "cell_type": "markdown",
   "metadata": {
    "id": "uT95QTFQFZdy"
   },
   "source": [
    "#### Evaluation with Test Set"
   ]
  },
  {
   "cell_type": "code",
   "execution_count": 107,
   "metadata": {
    "id": "4LASSB5oFR86"
   },
   "outputs": [
    {
     "name": "stdout",
     "output_type": "stream",
     "text": [
      "31/31 [==============================] - 0s 2ms/step\n",
      "31/31 [==============================] - 0s 3ms/step\n",
      "31/31 [==============================] - 0s 3ms/step\n",
      "31/31 [==============================] - 0s 4ms/step\n",
      "31/31 [==============================] - 0s 4ms/step\n"
     ]
    },
    {
     "data": {
      "text/html": [
       "<div>\n",
       "<style scoped>\n",
       "    .dataframe tbody tr th:only-of-type {\n",
       "        vertical-align: middle;\n",
       "    }\n",
       "\n",
       "    .dataframe tbody tr th {\n",
       "        vertical-align: top;\n",
       "    }\n",
       "\n",
       "    .dataframe thead th {\n",
       "        text-align: right;\n",
       "    }\n",
       "</style>\n",
       "<table border=\"1\" class=\"dataframe\">\n",
       "  <thead>\n",
       "    <tr style=\"text-align: right;\">\n",
       "      <th></th>\n",
       "      <th>Expected</th>\n",
       "      <th>Model 1</th>\n",
       "      <th>Model 2</th>\n",
       "      <th>Model 3</th>\n",
       "      <th>Model 4</th>\n",
       "      <th>Model 5</th>\n",
       "    </tr>\n",
       "  </thead>\n",
       "  <tbody>\n",
       "    <tr>\n",
       "      <th>4007</th>\n",
       "      <td>39</td>\n",
       "      <td>39</td>\n",
       "      <td>39</td>\n",
       "      <td>39</td>\n",
       "      <td>39</td>\n",
       "      <td>39</td>\n",
       "    </tr>\n",
       "    <tr>\n",
       "      <th>1938</th>\n",
       "      <td>18</td>\n",
       "      <td>18</td>\n",
       "      <td>18</td>\n",
       "      <td>18</td>\n",
       "      <td>18</td>\n",
       "      <td>18</td>\n",
       "    </tr>\n",
       "    <tr>\n",
       "      <th>4462</th>\n",
       "      <td>31</td>\n",
       "      <td>31</td>\n",
       "      <td>31</td>\n",
       "      <td>31</td>\n",
       "      <td>31</td>\n",
       "      <td>31</td>\n",
       "    </tr>\n",
       "    <tr>\n",
       "      <th>3227</th>\n",
       "      <td>18</td>\n",
       "      <td>18</td>\n",
       "      <td>18</td>\n",
       "      <td>18</td>\n",
       "      <td>18</td>\n",
       "      <td>18</td>\n",
       "    </tr>\n",
       "    <tr>\n",
       "      <th>3889</th>\n",
       "      <td>5</td>\n",
       "      <td>5</td>\n",
       "      <td>5</td>\n",
       "      <td>5</td>\n",
       "      <td>5</td>\n",
       "      <td>5</td>\n",
       "    </tr>\n",
       "    <tr>\n",
       "      <th>...</th>\n",
       "      <td>...</td>\n",
       "      <td>...</td>\n",
       "      <td>...</td>\n",
       "      <td>...</td>\n",
       "      <td>...</td>\n",
       "      <td>...</td>\n",
       "    </tr>\n",
       "    <tr>\n",
       "      <th>111</th>\n",
       "      <td>30</td>\n",
       "      <td>30</td>\n",
       "      <td>30</td>\n",
       "      <td>30</td>\n",
       "      <td>30</td>\n",
       "      <td>30</td>\n",
       "    </tr>\n",
       "    <tr>\n",
       "      <th>3741</th>\n",
       "      <td>23</td>\n",
       "      <td>23</td>\n",
       "      <td>23</td>\n",
       "      <td>23</td>\n",
       "      <td>23</td>\n",
       "      <td>23</td>\n",
       "    </tr>\n",
       "    <tr>\n",
       "      <th>3280</th>\n",
       "      <td>15</td>\n",
       "      <td>15</td>\n",
       "      <td>15</td>\n",
       "      <td>15</td>\n",
       "      <td>15</td>\n",
       "      <td>15</td>\n",
       "    </tr>\n",
       "    <tr>\n",
       "      <th>3687</th>\n",
       "      <td>38</td>\n",
       "      <td>38</td>\n",
       "      <td>38</td>\n",
       "      <td>38</td>\n",
       "      <td>38</td>\n",
       "      <td>38</td>\n",
       "    </tr>\n",
       "    <tr>\n",
       "      <th>656</th>\n",
       "      <td>3</td>\n",
       "      <td>3</td>\n",
       "      <td>3</td>\n",
       "      <td>3</td>\n",
       "      <td>3</td>\n",
       "      <td>3</td>\n",
       "    </tr>\n",
       "  </tbody>\n",
       "</table>\n",
       "<p>984 rows × 6 columns</p>\n",
       "</div>"
      ],
      "text/plain": [
       "      Expected  Model 1  Model 2  Model 3  Model 4  Model 5\n",
       "4007        39       39       39       39       39       39\n",
       "1938        18       18       18       18       18       18\n",
       "4462        31       31       31       31       31       31\n",
       "3227        18       18       18       18       18       18\n",
       "3889         5        5        5        5        5        5\n",
       "...        ...      ...      ...      ...      ...      ...\n",
       "111         30       30       30       30       30       30\n",
       "3741        23       23       23       23       23       23\n",
       "3280        15       15       15       15       15       15\n",
       "3687        38       38       38       38       38       38\n",
       "656          3        3        3        3        3        3\n",
       "\n",
       "[984 rows x 6 columns]"
      ]
     },
     "execution_count": 107,
     "metadata": {},
     "output_type": "execute_result"
    }
   ],
   "source": [
    "def test_prediction(model, X, y):\n",
    "    predictions = model.predict(X)\n",
    "    predicted=tf.argmax(predictions, axis=1)\n",
    "    #result= pd.DataFrame({'Test':y, 'Predicted':predicted})\n",
    "    return predicted\n",
    "\n",
    "predicted11 = test_prediction(model1, X_test, y_test)\n",
    "predicted12 = test_prediction(model2, X_test, y_test)\n",
    "predicted13 = test_prediction(model3, X_test, y_test)\n",
    "predicted14 = test_prediction(model4, X_test, y_test)\n",
    "predicted15 = test_prediction(model5, X_test, y_test)\n",
    "\n",
    "# display result\n",
    "pd.DataFrame({\"Expected\": y_test, \"Model 1\": predicted11, \"Model 2\": predicted12, \"Model 3\": predicted13, \"Model 4\": predicted14, \"Model 5\": predicted15})"
   ]
  },
  {
   "cell_type": "markdown",
   "metadata": {
    "id": "TzrwsdBoISwK"
   },
   "source": [
    "#### Unseen Test Data"
   ]
  },
  {
   "cell_type": "code",
   "execution_count": 108,
   "metadata": {
    "id": "L_WPT2W_IUMl"
   },
   "outputs": [
    {
     "name": "stdout",
     "output_type": "stream",
     "text": [
      "2/2 [==============================] - 0s 4ms/step\n",
      "2/2 [==============================] - 0s 4ms/step\n",
      "2/2 [==============================] - 0s 4ms/step\n",
      "2/2 [==============================] - 0s 4ms/step\n",
      "2/2 [==============================] - 0s 4ms/step\n"
     ]
    },
    {
     "data": {
      "text/html": [
       "<div>\n",
       "<style scoped>\n",
       "    .dataframe tbody tr th:only-of-type {\n",
       "        vertical-align: middle;\n",
       "    }\n",
       "\n",
       "    .dataframe tbody tr th {\n",
       "        vertical-align: top;\n",
       "    }\n",
       "\n",
       "    .dataframe thead th {\n",
       "        text-align: right;\n",
       "    }\n",
       "</style>\n",
       "<table border=\"1\" class=\"dataframe\">\n",
       "  <thead>\n",
       "    <tr style=\"text-align: right;\">\n",
       "      <th></th>\n",
       "      <th>Expected</th>\n",
       "      <th>Model 1</th>\n",
       "      <th>Model 2</th>\n",
       "      <th>Model 3</th>\n",
       "      <th>Model 4</th>\n",
       "      <th>Model 5</th>\n",
       "    </tr>\n",
       "  </thead>\n",
       "  <tbody>\n",
       "    <tr>\n",
       "      <th>0</th>\n",
       "      <td>Fungal infection</td>\n",
       "      <td>Fungal infection</td>\n",
       "      <td>Fungal infection</td>\n",
       "      <td>Fungal infection</td>\n",
       "      <td>Fungal infection</td>\n",
       "      <td>Fungal infection</td>\n",
       "    </tr>\n",
       "    <tr>\n",
       "      <th>1</th>\n",
       "      <td>Allergy</td>\n",
       "      <td>Allergy</td>\n",
       "      <td>Allergy</td>\n",
       "      <td>Allergy</td>\n",
       "      <td>Allergy</td>\n",
       "      <td>Allergy</td>\n",
       "    </tr>\n",
       "    <tr>\n",
       "      <th>2</th>\n",
       "      <td>GERD</td>\n",
       "      <td>GERD</td>\n",
       "      <td>GERD</td>\n",
       "      <td>GERD</td>\n",
       "      <td>GERD</td>\n",
       "      <td>GERD</td>\n",
       "    </tr>\n",
       "    <tr>\n",
       "      <th>3</th>\n",
       "      <td>Chronic cholestasis</td>\n",
       "      <td>Chronic cholestasis</td>\n",
       "      <td>Chronic cholestasis</td>\n",
       "      <td>Chronic cholestasis</td>\n",
       "      <td>Chronic cholestasis</td>\n",
       "      <td>Chronic cholestasis</td>\n",
       "    </tr>\n",
       "    <tr>\n",
       "      <th>4</th>\n",
       "      <td>Drug Reaction</td>\n",
       "      <td>Drug Reaction</td>\n",
       "      <td>Drug Reaction</td>\n",
       "      <td>Drug Reaction</td>\n",
       "      <td>Drug Reaction</td>\n",
       "      <td>Drug Reaction</td>\n",
       "    </tr>\n",
       "    <tr>\n",
       "      <th>5</th>\n",
       "      <td>Peptic ulcer diseae</td>\n",
       "      <td>Peptic ulcer diseae</td>\n",
       "      <td>Peptic ulcer diseae</td>\n",
       "      <td>Peptic ulcer diseae</td>\n",
       "      <td>Peptic ulcer diseae</td>\n",
       "      <td>Peptic ulcer diseae</td>\n",
       "    </tr>\n",
       "    <tr>\n",
       "      <th>6</th>\n",
       "      <td>AIDS</td>\n",
       "      <td>AIDS</td>\n",
       "      <td>AIDS</td>\n",
       "      <td>AIDS</td>\n",
       "      <td>AIDS</td>\n",
       "      <td>AIDS</td>\n",
       "    </tr>\n",
       "    <tr>\n",
       "      <th>7</th>\n",
       "      <td>Diabetes</td>\n",
       "      <td>Diabetes</td>\n",
       "      <td>Diabetes</td>\n",
       "      <td>Diabetes</td>\n",
       "      <td>Diabetes</td>\n",
       "      <td>Diabetes</td>\n",
       "    </tr>\n",
       "    <tr>\n",
       "      <th>8</th>\n",
       "      <td>Gastroenteritis</td>\n",
       "      <td>Gastroenteritis</td>\n",
       "      <td>Gastroenteritis</td>\n",
       "      <td>Gastroenteritis</td>\n",
       "      <td>Gastroenteritis</td>\n",
       "      <td>Gastroenteritis</td>\n",
       "    </tr>\n",
       "    <tr>\n",
       "      <th>9</th>\n",
       "      <td>Bronchial Asthma</td>\n",
       "      <td>Bronchial Asthma</td>\n",
       "      <td>Bronchial Asthma</td>\n",
       "      <td>Bronchial Asthma</td>\n",
       "      <td>Bronchial Asthma</td>\n",
       "      <td>Bronchial Asthma</td>\n",
       "    </tr>\n",
       "    <tr>\n",
       "      <th>10</th>\n",
       "      <td>Hypertension</td>\n",
       "      <td>Hypertension</td>\n",
       "      <td>Hypertension</td>\n",
       "      <td>Hypertension</td>\n",
       "      <td>Hypertension</td>\n",
       "      <td>Hypertension</td>\n",
       "    </tr>\n",
       "    <tr>\n",
       "      <th>11</th>\n",
       "      <td>Migraine</td>\n",
       "      <td>Migraine</td>\n",
       "      <td>Migraine</td>\n",
       "      <td>Migraine</td>\n",
       "      <td>Migraine</td>\n",
       "      <td>Migraine</td>\n",
       "    </tr>\n",
       "    <tr>\n",
       "      <th>12</th>\n",
       "      <td>Cervical spondylosis</td>\n",
       "      <td>Cervical spondylosis</td>\n",
       "      <td>Cervical spondylosis</td>\n",
       "      <td>Cervical spondylosis</td>\n",
       "      <td>Cervical spondylosis</td>\n",
       "      <td>Cervical spondylosis</td>\n",
       "    </tr>\n",
       "    <tr>\n",
       "      <th>13</th>\n",
       "      <td>Paralysis (brain hemorrhage)</td>\n",
       "      <td>Paralysis (brain hemorrhage)</td>\n",
       "      <td>Paralysis (brain hemorrhage)</td>\n",
       "      <td>Paralysis (brain hemorrhage)</td>\n",
       "      <td>Paralysis (brain hemorrhage)</td>\n",
       "      <td>Paralysis (brain hemorrhage)</td>\n",
       "    </tr>\n",
       "    <tr>\n",
       "      <th>14</th>\n",
       "      <td>Jaundice</td>\n",
       "      <td>Jaundice</td>\n",
       "      <td>Jaundice</td>\n",
       "      <td>Jaundice</td>\n",
       "      <td>Jaundice</td>\n",
       "      <td>Jaundice</td>\n",
       "    </tr>\n",
       "    <tr>\n",
       "      <th>15</th>\n",
       "      <td>Malaria</td>\n",
       "      <td>Malaria</td>\n",
       "      <td>Malaria</td>\n",
       "      <td>Malaria</td>\n",
       "      <td>Malaria</td>\n",
       "      <td>Malaria</td>\n",
       "    </tr>\n",
       "    <tr>\n",
       "      <th>16</th>\n",
       "      <td>Chicken pox</td>\n",
       "      <td>Chicken pox</td>\n",
       "      <td>Chicken pox</td>\n",
       "      <td>Chicken pox</td>\n",
       "      <td>Chicken pox</td>\n",
       "      <td>Chicken pox</td>\n",
       "    </tr>\n",
       "    <tr>\n",
       "      <th>17</th>\n",
       "      <td>Dengue</td>\n",
       "      <td>Dengue</td>\n",
       "      <td>Dengue</td>\n",
       "      <td>Dengue</td>\n",
       "      <td>Dengue</td>\n",
       "      <td>Dengue</td>\n",
       "    </tr>\n",
       "    <tr>\n",
       "      <th>18</th>\n",
       "      <td>Typhoid</td>\n",
       "      <td>Typhoid</td>\n",
       "      <td>Typhoid</td>\n",
       "      <td>Typhoid</td>\n",
       "      <td>Typhoid</td>\n",
       "      <td>Typhoid</td>\n",
       "    </tr>\n",
       "    <tr>\n",
       "      <th>19</th>\n",
       "      <td>hepatitis A</td>\n",
       "      <td>hepatitis A</td>\n",
       "      <td>hepatitis A</td>\n",
       "      <td>hepatitis A</td>\n",
       "      <td>hepatitis A</td>\n",
       "      <td>hepatitis A</td>\n",
       "    </tr>\n",
       "    <tr>\n",
       "      <th>20</th>\n",
       "      <td>Hepatitis B</td>\n",
       "      <td>Hepatitis B</td>\n",
       "      <td>Hepatitis B</td>\n",
       "      <td>Hepatitis B</td>\n",
       "      <td>Hepatitis B</td>\n",
       "      <td>Hepatitis B</td>\n",
       "    </tr>\n",
       "    <tr>\n",
       "      <th>21</th>\n",
       "      <td>Hepatitis C</td>\n",
       "      <td>Hepatitis C</td>\n",
       "      <td>Hepatitis C</td>\n",
       "      <td>Hepatitis C</td>\n",
       "      <td>Hepatitis C</td>\n",
       "      <td>Hepatitis C</td>\n",
       "    </tr>\n",
       "    <tr>\n",
       "      <th>22</th>\n",
       "      <td>Hepatitis D</td>\n",
       "      <td>Hepatitis D</td>\n",
       "      <td>Hepatitis D</td>\n",
       "      <td>Hepatitis D</td>\n",
       "      <td>Hepatitis D</td>\n",
       "      <td>Hepatitis D</td>\n",
       "    </tr>\n",
       "    <tr>\n",
       "      <th>23</th>\n",
       "      <td>Hepatitis E</td>\n",
       "      <td>Hepatitis E</td>\n",
       "      <td>Hepatitis E</td>\n",
       "      <td>Hepatitis E</td>\n",
       "      <td>Hepatitis E</td>\n",
       "      <td>Hepatitis E</td>\n",
       "    </tr>\n",
       "    <tr>\n",
       "      <th>24</th>\n",
       "      <td>Alcoholic hepatitis</td>\n",
       "      <td>Alcoholic hepatitis</td>\n",
       "      <td>Alcoholic hepatitis</td>\n",
       "      <td>Alcoholic hepatitis</td>\n",
       "      <td>Alcoholic hepatitis</td>\n",
       "      <td>Alcoholic hepatitis</td>\n",
       "    </tr>\n",
       "    <tr>\n",
       "      <th>25</th>\n",
       "      <td>Tuberculosis</td>\n",
       "      <td>Tuberculosis</td>\n",
       "      <td>Tuberculosis</td>\n",
       "      <td>Tuberculosis</td>\n",
       "      <td>Tuberculosis</td>\n",
       "      <td>Tuberculosis</td>\n",
       "    </tr>\n",
       "    <tr>\n",
       "      <th>26</th>\n",
       "      <td>Common Cold</td>\n",
       "      <td>Common Cold</td>\n",
       "      <td>Common Cold</td>\n",
       "      <td>Common Cold</td>\n",
       "      <td>Common Cold</td>\n",
       "      <td>Common Cold</td>\n",
       "    </tr>\n",
       "    <tr>\n",
       "      <th>27</th>\n",
       "      <td>Pneumonia</td>\n",
       "      <td>Pneumonia</td>\n",
       "      <td>Pneumonia</td>\n",
       "      <td>Pneumonia</td>\n",
       "      <td>Pneumonia</td>\n",
       "      <td>Pneumonia</td>\n",
       "    </tr>\n",
       "    <tr>\n",
       "      <th>28</th>\n",
       "      <td>Dimorphic hemmorhoids(piles)</td>\n",
       "      <td>Dimorphic hemmorhoids(piles)</td>\n",
       "      <td>Dimorphic hemmorhoids(piles)</td>\n",
       "      <td>Dimorphic hemmorhoids(piles)</td>\n",
       "      <td>Dimorphic hemmorhoids(piles)</td>\n",
       "      <td>Dimorphic hemmorhoids(piles)</td>\n",
       "    </tr>\n",
       "    <tr>\n",
       "      <th>29</th>\n",
       "      <td>Heart attack</td>\n",
       "      <td>Heart attack</td>\n",
       "      <td>Heart attack</td>\n",
       "      <td>Heart attack</td>\n",
       "      <td>Heart attack</td>\n",
       "      <td>Heart attack</td>\n",
       "    </tr>\n",
       "    <tr>\n",
       "      <th>30</th>\n",
       "      <td>Varicose veins</td>\n",
       "      <td>Varicose veins</td>\n",
       "      <td>Varicose veins</td>\n",
       "      <td>Varicose veins</td>\n",
       "      <td>Varicose veins</td>\n",
       "      <td>Varicose veins</td>\n",
       "    </tr>\n",
       "    <tr>\n",
       "      <th>31</th>\n",
       "      <td>Hypothyroidism</td>\n",
       "      <td>Hypothyroidism</td>\n",
       "      <td>Hypothyroidism</td>\n",
       "      <td>Hypothyroidism</td>\n",
       "      <td>Hypothyroidism</td>\n",
       "      <td>Hypothyroidism</td>\n",
       "    </tr>\n",
       "    <tr>\n",
       "      <th>32</th>\n",
       "      <td>Hyperthyroidism</td>\n",
       "      <td>Hyperthyroidism</td>\n",
       "      <td>Hyperthyroidism</td>\n",
       "      <td>Hyperthyroidism</td>\n",
       "      <td>Hyperthyroidism</td>\n",
       "      <td>Hyperthyroidism</td>\n",
       "    </tr>\n",
       "    <tr>\n",
       "      <th>33</th>\n",
       "      <td>Hypoglycemia</td>\n",
       "      <td>Hypoglycemia</td>\n",
       "      <td>Hypoglycemia</td>\n",
       "      <td>Hypoglycemia</td>\n",
       "      <td>Hypoglycemia</td>\n",
       "      <td>Hypoglycemia</td>\n",
       "    </tr>\n",
       "    <tr>\n",
       "      <th>34</th>\n",
       "      <td>Osteoarthristis</td>\n",
       "      <td>Osteoarthristis</td>\n",
       "      <td>Osteoarthristis</td>\n",
       "      <td>Osteoarthristis</td>\n",
       "      <td>Osteoarthristis</td>\n",
       "      <td>Osteoarthristis</td>\n",
       "    </tr>\n",
       "    <tr>\n",
       "      <th>35</th>\n",
       "      <td>Arthritis</td>\n",
       "      <td>Arthritis</td>\n",
       "      <td>Arthritis</td>\n",
       "      <td>Arthritis</td>\n",
       "      <td>Arthritis</td>\n",
       "      <td>Arthritis</td>\n",
       "    </tr>\n",
       "    <tr>\n",
       "      <th>36</th>\n",
       "      <td>(vertigo) Paroymsal  Positional Vertigo</td>\n",
       "      <td>(vertigo) Paroymsal  Positional Vertigo</td>\n",
       "      <td>(vertigo) Paroymsal  Positional Vertigo</td>\n",
       "      <td>(vertigo) Paroymsal  Positional Vertigo</td>\n",
       "      <td>(vertigo) Paroymsal  Positional Vertigo</td>\n",
       "      <td>(vertigo) Paroymsal  Positional Vertigo</td>\n",
       "    </tr>\n",
       "    <tr>\n",
       "      <th>37</th>\n",
       "      <td>Acne</td>\n",
       "      <td>Acne</td>\n",
       "      <td>Acne</td>\n",
       "      <td>Acne</td>\n",
       "      <td>Acne</td>\n",
       "      <td>Acne</td>\n",
       "    </tr>\n",
       "    <tr>\n",
       "      <th>38</th>\n",
       "      <td>Urinary tract infection</td>\n",
       "      <td>Urinary tract infection</td>\n",
       "      <td>Urinary tract infection</td>\n",
       "      <td>Urinary tract infection</td>\n",
       "      <td>Urinary tract infection</td>\n",
       "      <td>Urinary tract infection</td>\n",
       "    </tr>\n",
       "    <tr>\n",
       "      <th>39</th>\n",
       "      <td>Psoriasis</td>\n",
       "      <td>Psoriasis</td>\n",
       "      <td>Psoriasis</td>\n",
       "      <td>Psoriasis</td>\n",
       "      <td>Psoriasis</td>\n",
       "      <td>Psoriasis</td>\n",
       "    </tr>\n",
       "    <tr>\n",
       "      <th>40</th>\n",
       "      <td>Impetigo</td>\n",
       "      <td>Impetigo</td>\n",
       "      <td>Impetigo</td>\n",
       "      <td>Impetigo</td>\n",
       "      <td>Impetigo</td>\n",
       "      <td>Impetigo</td>\n",
       "    </tr>\n",
       "    <tr>\n",
       "      <th>41</th>\n",
       "      <td>Fungal infection</td>\n",
       "      <td>Fungal infection</td>\n",
       "      <td>Impetigo</td>\n",
       "      <td>Drug Reaction</td>\n",
       "      <td>Impetigo</td>\n",
       "      <td>Fungal infection</td>\n",
       "    </tr>\n",
       "  </tbody>\n",
       "</table>\n",
       "</div>"
      ],
      "text/plain": [
       "                                   Expected  \\\n",
       "0                          Fungal infection   \n",
       "1                                   Allergy   \n",
       "2                                      GERD   \n",
       "3                       Chronic cholestasis   \n",
       "4                             Drug Reaction   \n",
       "5                       Peptic ulcer diseae   \n",
       "6                                      AIDS   \n",
       "7                                 Diabetes    \n",
       "8                           Gastroenteritis   \n",
       "9                          Bronchial Asthma   \n",
       "10                            Hypertension    \n",
       "11                                 Migraine   \n",
       "12                     Cervical spondylosis   \n",
       "13             Paralysis (brain hemorrhage)   \n",
       "14                                 Jaundice   \n",
       "15                                  Malaria   \n",
       "16                              Chicken pox   \n",
       "17                                   Dengue   \n",
       "18                                  Typhoid   \n",
       "19                              hepatitis A   \n",
       "20                              Hepatitis B   \n",
       "21                              Hepatitis C   \n",
       "22                              Hepatitis D   \n",
       "23                              Hepatitis E   \n",
       "24                      Alcoholic hepatitis   \n",
       "25                             Tuberculosis   \n",
       "26                              Common Cold   \n",
       "27                                Pneumonia   \n",
       "28             Dimorphic hemmorhoids(piles)   \n",
       "29                             Heart attack   \n",
       "30                           Varicose veins   \n",
       "31                           Hypothyroidism   \n",
       "32                          Hyperthyroidism   \n",
       "33                             Hypoglycemia   \n",
       "34                          Osteoarthristis   \n",
       "35                                Arthritis   \n",
       "36  (vertigo) Paroymsal  Positional Vertigo   \n",
       "37                                     Acne   \n",
       "38                  Urinary tract infection   \n",
       "39                                Psoriasis   \n",
       "40                                 Impetigo   \n",
       "41                         Fungal infection   \n",
       "\n",
       "                                    Model 1  \\\n",
       "0                          Fungal infection   \n",
       "1                                   Allergy   \n",
       "2                                      GERD   \n",
       "3                       Chronic cholestasis   \n",
       "4                             Drug Reaction   \n",
       "5                       Peptic ulcer diseae   \n",
       "6                                      AIDS   \n",
       "7                                 Diabetes    \n",
       "8                           Gastroenteritis   \n",
       "9                          Bronchial Asthma   \n",
       "10                            Hypertension    \n",
       "11                                 Migraine   \n",
       "12                     Cervical spondylosis   \n",
       "13             Paralysis (brain hemorrhage)   \n",
       "14                                 Jaundice   \n",
       "15                                  Malaria   \n",
       "16                              Chicken pox   \n",
       "17                                   Dengue   \n",
       "18                                  Typhoid   \n",
       "19                              hepatitis A   \n",
       "20                              Hepatitis B   \n",
       "21                              Hepatitis C   \n",
       "22                              Hepatitis D   \n",
       "23                              Hepatitis E   \n",
       "24                      Alcoholic hepatitis   \n",
       "25                             Tuberculosis   \n",
       "26                              Common Cold   \n",
       "27                                Pneumonia   \n",
       "28             Dimorphic hemmorhoids(piles)   \n",
       "29                             Heart attack   \n",
       "30                           Varicose veins   \n",
       "31                           Hypothyroidism   \n",
       "32                          Hyperthyroidism   \n",
       "33                             Hypoglycemia   \n",
       "34                          Osteoarthristis   \n",
       "35                                Arthritis   \n",
       "36  (vertigo) Paroymsal  Positional Vertigo   \n",
       "37                                     Acne   \n",
       "38                  Urinary tract infection   \n",
       "39                                Psoriasis   \n",
       "40                                 Impetigo   \n",
       "41                         Fungal infection   \n",
       "\n",
       "                                    Model 2  \\\n",
       "0                          Fungal infection   \n",
       "1                                   Allergy   \n",
       "2                                      GERD   \n",
       "3                       Chronic cholestasis   \n",
       "4                             Drug Reaction   \n",
       "5                       Peptic ulcer diseae   \n",
       "6                                      AIDS   \n",
       "7                                 Diabetes    \n",
       "8                           Gastroenteritis   \n",
       "9                          Bronchial Asthma   \n",
       "10                            Hypertension    \n",
       "11                                 Migraine   \n",
       "12                     Cervical spondylosis   \n",
       "13             Paralysis (brain hemorrhage)   \n",
       "14                                 Jaundice   \n",
       "15                                  Malaria   \n",
       "16                              Chicken pox   \n",
       "17                                   Dengue   \n",
       "18                                  Typhoid   \n",
       "19                              hepatitis A   \n",
       "20                              Hepatitis B   \n",
       "21                              Hepatitis C   \n",
       "22                              Hepatitis D   \n",
       "23                              Hepatitis E   \n",
       "24                      Alcoholic hepatitis   \n",
       "25                             Tuberculosis   \n",
       "26                              Common Cold   \n",
       "27                                Pneumonia   \n",
       "28             Dimorphic hemmorhoids(piles)   \n",
       "29                             Heart attack   \n",
       "30                           Varicose veins   \n",
       "31                           Hypothyroidism   \n",
       "32                          Hyperthyroidism   \n",
       "33                             Hypoglycemia   \n",
       "34                          Osteoarthristis   \n",
       "35                                Arthritis   \n",
       "36  (vertigo) Paroymsal  Positional Vertigo   \n",
       "37                                     Acne   \n",
       "38                  Urinary tract infection   \n",
       "39                                Psoriasis   \n",
       "40                                 Impetigo   \n",
       "41                                 Impetigo   \n",
       "\n",
       "                                    Model 3  \\\n",
       "0                          Fungal infection   \n",
       "1                                   Allergy   \n",
       "2                                      GERD   \n",
       "3                       Chronic cholestasis   \n",
       "4                             Drug Reaction   \n",
       "5                       Peptic ulcer diseae   \n",
       "6                                      AIDS   \n",
       "7                                 Diabetes    \n",
       "8                           Gastroenteritis   \n",
       "9                          Bronchial Asthma   \n",
       "10                            Hypertension    \n",
       "11                                 Migraine   \n",
       "12                     Cervical spondylosis   \n",
       "13             Paralysis (brain hemorrhage)   \n",
       "14                                 Jaundice   \n",
       "15                                  Malaria   \n",
       "16                              Chicken pox   \n",
       "17                                   Dengue   \n",
       "18                                  Typhoid   \n",
       "19                              hepatitis A   \n",
       "20                              Hepatitis B   \n",
       "21                              Hepatitis C   \n",
       "22                              Hepatitis D   \n",
       "23                              Hepatitis E   \n",
       "24                      Alcoholic hepatitis   \n",
       "25                             Tuberculosis   \n",
       "26                              Common Cold   \n",
       "27                                Pneumonia   \n",
       "28             Dimorphic hemmorhoids(piles)   \n",
       "29                             Heart attack   \n",
       "30                           Varicose veins   \n",
       "31                           Hypothyroidism   \n",
       "32                          Hyperthyroidism   \n",
       "33                             Hypoglycemia   \n",
       "34                          Osteoarthristis   \n",
       "35                                Arthritis   \n",
       "36  (vertigo) Paroymsal  Positional Vertigo   \n",
       "37                                     Acne   \n",
       "38                  Urinary tract infection   \n",
       "39                                Psoriasis   \n",
       "40                                 Impetigo   \n",
       "41                            Drug Reaction   \n",
       "\n",
       "                                    Model 4  \\\n",
       "0                          Fungal infection   \n",
       "1                                   Allergy   \n",
       "2                                      GERD   \n",
       "3                       Chronic cholestasis   \n",
       "4                             Drug Reaction   \n",
       "5                       Peptic ulcer diseae   \n",
       "6                                      AIDS   \n",
       "7                                 Diabetes    \n",
       "8                           Gastroenteritis   \n",
       "9                          Bronchial Asthma   \n",
       "10                            Hypertension    \n",
       "11                                 Migraine   \n",
       "12                     Cervical spondylosis   \n",
       "13             Paralysis (brain hemorrhage)   \n",
       "14                                 Jaundice   \n",
       "15                                  Malaria   \n",
       "16                              Chicken pox   \n",
       "17                                   Dengue   \n",
       "18                                  Typhoid   \n",
       "19                              hepatitis A   \n",
       "20                              Hepatitis B   \n",
       "21                              Hepatitis C   \n",
       "22                              Hepatitis D   \n",
       "23                              Hepatitis E   \n",
       "24                      Alcoholic hepatitis   \n",
       "25                             Tuberculosis   \n",
       "26                              Common Cold   \n",
       "27                                Pneumonia   \n",
       "28             Dimorphic hemmorhoids(piles)   \n",
       "29                             Heart attack   \n",
       "30                           Varicose veins   \n",
       "31                           Hypothyroidism   \n",
       "32                          Hyperthyroidism   \n",
       "33                             Hypoglycemia   \n",
       "34                          Osteoarthristis   \n",
       "35                                Arthritis   \n",
       "36  (vertigo) Paroymsal  Positional Vertigo   \n",
       "37                                     Acne   \n",
       "38                  Urinary tract infection   \n",
       "39                                Psoriasis   \n",
       "40                                 Impetigo   \n",
       "41                                 Impetigo   \n",
       "\n",
       "                                    Model 5  \n",
       "0                          Fungal infection  \n",
       "1                                   Allergy  \n",
       "2                                      GERD  \n",
       "3                       Chronic cholestasis  \n",
       "4                             Drug Reaction  \n",
       "5                       Peptic ulcer diseae  \n",
       "6                                      AIDS  \n",
       "7                                 Diabetes   \n",
       "8                           Gastroenteritis  \n",
       "9                          Bronchial Asthma  \n",
       "10                            Hypertension   \n",
       "11                                 Migraine  \n",
       "12                     Cervical spondylosis  \n",
       "13             Paralysis (brain hemorrhage)  \n",
       "14                                 Jaundice  \n",
       "15                                  Malaria  \n",
       "16                              Chicken pox  \n",
       "17                                   Dengue  \n",
       "18                                  Typhoid  \n",
       "19                              hepatitis A  \n",
       "20                              Hepatitis B  \n",
       "21                              Hepatitis C  \n",
       "22                              Hepatitis D  \n",
       "23                              Hepatitis E  \n",
       "24                      Alcoholic hepatitis  \n",
       "25                             Tuberculosis  \n",
       "26                              Common Cold  \n",
       "27                                Pneumonia  \n",
       "28             Dimorphic hemmorhoids(piles)  \n",
       "29                             Heart attack  \n",
       "30                           Varicose veins  \n",
       "31                           Hypothyroidism  \n",
       "32                          Hyperthyroidism  \n",
       "33                             Hypoglycemia  \n",
       "34                          Osteoarthristis  \n",
       "35                                Arthritis  \n",
       "36  (vertigo) Paroymsal  Positional Vertigo  \n",
       "37                                     Acne  \n",
       "38                  Urinary tract infection  \n",
       "39                                Psoriasis  \n",
       "40                                 Impetigo  \n",
       "41                         Fungal infection  "
      ]
     },
     "execution_count": 108,
     "metadata": {},
     "output_type": "execute_result"
    }
   ],
   "source": [
    "predicted21 = test_prediction(model1, X_unseen, y_unseen)\n",
    "predicted22 = test_prediction(model2, X_unseen, y_unseen)\n",
    "predicted23 = test_prediction(model3, X_unseen, y_unseen)\n",
    "predicted24 = test_prediction(model4, X_unseen, y_unseen)\n",
    "predicted25 = test_prediction(model5, X_unseen, y_unseen)\n",
    "\n",
    "\n",
    "# display result\n",
    "pd.DataFrame({\"Expected\": class_names[y_unseen], \"Model 1\": class_names[predicted21], \"Model 2\": class_names[predicted22], \"Model 3\": class_names[predicted23], \"Model 4\": class_names[predicted24], \"Model 5\": class_names[predicted25]})"
   ]
  },
  {
   "cell_type": "markdown",
   "metadata": {
    "id": "T9ZkcLmlFcri"
   },
   "source": [
    "### Confusion Matrix"
   ]
  },
  {
   "cell_type": "code",
   "execution_count": 109,
   "metadata": {
    "id": "pexBax2-oog0"
   },
   "outputs": [],
   "source": [
    "#!pip install tensorflow_addons\n",
    "#!pip install git+https://github.com/tensorflow/docs\n",
    "\n",
    "import tensorflow_addons as tfa\n",
    "#from sklearn.metrics import plot_confusion_matrix\n",
    "from sklearn.metrics import confusion_matrix, ConfusionMatrixDisplay\n",
    "import matplotlib.pyplot as plt"
   ]
  },
  {
   "cell_type": "markdown",
   "metadata": {
    "id": "0yr6BA4xAK6M"
   },
   "source": [
    "#### Accuracy Score"
   ]
  },
  {
   "cell_type": "code",
   "execution_count": 110,
   "metadata": {
    "id": "hx4seQN5_zzS"
   },
   "outputs": [],
   "source": [
    "from sklearn.metrics import accuracy_score\n",
    "from sklearn.metrics import precision_score\n",
    "from sklearn.metrics import recall_score\n",
    "from sklearn.metrics import f1_score\n",
    "\n",
    "acc_score11 = accuracy_score(y_test, predicted11)\n",
    "acc_score12 = accuracy_score(y_test, predicted12)\n",
    "acc_score13 = accuracy_score(y_test, predicted13)\n",
    "acc_score14 = accuracy_score(y_test, predicted14)\n",
    "acc_score15 = accuracy_score(y_test, predicted15)\n",
    "\n",
    "acc_score21 = accuracy_score(y_unseen, predicted21)\n",
    "acc_score22 = accuracy_score(y_unseen, predicted22)\n",
    "acc_score23 = accuracy_score(y_unseen, predicted23)\n",
    "acc_score24 = accuracy_score(y_unseen, predicted24)\n",
    "acc_score25 = accuracy_score(y_unseen, predicted25)"
   ]
  },
  {
   "cell_type": "code",
   "execution_count": 111,
   "metadata": {},
   "outputs": [
    {
     "name": "stdout",
     "output_type": "stream",
     "text": [
      "Accuracy Score - Test Data\n"
     ]
    },
    {
     "data": {
      "text/html": [
       "<div>\n",
       "<style scoped>\n",
       "    .dataframe tbody tr th:only-of-type {\n",
       "        vertical-align: middle;\n",
       "    }\n",
       "\n",
       "    .dataframe tbody tr th {\n",
       "        vertical-align: top;\n",
       "    }\n",
       "\n",
       "    .dataframe thead th {\n",
       "        text-align: right;\n",
       "    }\n",
       "</style>\n",
       "<table border=\"1\" class=\"dataframe\">\n",
       "  <thead>\n",
       "    <tr style=\"text-align: right;\">\n",
       "      <th></th>\n",
       "      <th>Data</th>\n",
       "      <th>Model 1</th>\n",
       "      <th>Model 2</th>\n",
       "      <th>Model 3</th>\n",
       "      <th>Model 4</th>\n",
       "      <th>Model 5</th>\n",
       "    </tr>\n",
       "  </thead>\n",
       "  <tbody>\n",
       "    <tr>\n",
       "      <th>0</th>\n",
       "      <td>Test</td>\n",
       "      <td>1.0</td>\n",
       "      <td>1.00000</td>\n",
       "      <td>1.00000</td>\n",
       "      <td>1.00000</td>\n",
       "      <td>1.0</td>\n",
       "    </tr>\n",
       "    <tr>\n",
       "      <th>1</th>\n",
       "      <td>Unseen</td>\n",
       "      <td>1.0</td>\n",
       "      <td>0.97619</td>\n",
       "      <td>0.97619</td>\n",
       "      <td>0.97619</td>\n",
       "      <td>1.0</td>\n",
       "    </tr>\n",
       "  </tbody>\n",
       "</table>\n",
       "</div>"
      ],
      "text/plain": [
       "     Data  Model 1  Model 2  Model 3  Model 4  Model 5\n",
       "0    Test      1.0  1.00000  1.00000  1.00000      1.0\n",
       "1  Unseen      1.0  0.97619  0.97619  0.97619      1.0"
      ]
     },
     "execution_count": 111,
     "metadata": {},
     "output_type": "execute_result"
    }
   ],
   "source": [
    "# display accuracy score\n",
    "print(\"Accuracy Score - Test Data\")\n",
    "df = pd.DataFrame(columns=['Data', 'Model 1', 'Model 2', 'Model 3', 'Model 4', 'Model 5'])\n",
    "df.loc[0] = ['Test', acc_score11, acc_score12, acc_score13, acc_score14, acc_score15]\n",
    "df.loc[1] = ['Unseen', acc_score21, acc_score22, acc_score23, acc_score24, acc_score25]\n",
    "df"
   ]
  },
  {
   "cell_type": "markdown",
   "metadata": {
    "id": "sv0QfhFQAFAH"
   },
   "source": [
    "### Multilabel confusion matrix"
   ]
  },
  {
   "cell_type": "code",
   "execution_count": 112,
   "metadata": {
    "id": "JgQ1rFBI_6QL"
   },
   "outputs": [
    {
     "data": {
      "text/plain": [
       "array([[21,  0,  0, ...,  0,  0,  0],\n",
       "       [ 0, 23,  0, ...,  0,  0,  0],\n",
       "       [ 0,  0, 25, ...,  0,  0,  0],\n",
       "       ...,\n",
       "       [ 0,  0,  0, ..., 19,  0,  0],\n",
       "       [ 0,  0,  0, ...,  0, 27,  0],\n",
       "       [ 0,  0,  0, ...,  0,  0, 18]], dtype=int64)"
      ]
     },
     "execution_count": 112,
     "metadata": {},
     "output_type": "execute_result"
    }
   ],
   "source": [
    "from sklearn.metrics import confusion_matrix\n",
    "confusion_matrix(y_test, predicted11)\n",
    "confusion_matrix(y_test, predicted12)"
   ]
  },
  {
   "cell_type": "code",
   "execution_count": 113,
   "metadata": {},
   "outputs": [
    {
     "data": {
      "text/plain": [
       "(42, 132)"
      ]
     },
     "execution_count": 113,
     "metadata": {},
     "output_type": "execute_result"
    }
   ],
   "source": [
    "X_unseen.shape"
   ]
  },
  {
   "cell_type": "code",
   "execution_count": 114,
   "metadata": {
    "id": "a7e5qYuCBRSo"
   },
   "outputs": [
    {
     "name": "stdout",
     "output_type": "stream",
     "text": [
      "Model 5:\n",
      "2/2 [==============================] - 0s 4ms/step\n"
     ]
    },
    {
     "data": {
      "text/plain": [
       "<Axes: >"
      ]
     },
     "execution_count": 114,
     "metadata": {},
     "output_type": "execute_result"
    },
    {
     "data": {
      "image/png": "[encoded data removed]",
      "text/plain": [
       "<Figure size 640x480 with 2 Axes>"
      ]
     },
     "metadata": {},
     "output_type": "display_data"
    }
   ],
   "source": [
    "from sklearn.metrics import classification_report\n",
    "import seaborn as sns\n",
    "\n",
    "print(\"Model 5:\")\n",
    "p = model5.predict(X_unseen)\n",
    "clf_report  = classification_report(y_unseen, tf.argmax(p, axis=1),target_names=class_names, output_dict=True)\n",
    "\n",
    "sns.heatmap(pd.DataFrame(clf_report).iloc[:-1, :].T, annot=True)\n"
   ]
  },
  {
   "cell_type": "code",
   "execution_count": 115,
   "metadata": {},
   "outputs": [],
   "source": [
    "#### Print confusion matrix"
   ]
  },
  {
   "cell_type": "code",
   "execution_count": 116,
   "metadata": {
    "id": "XS8XdW-WcZj4"
   },
   "outputs": [
    {
     "name": "stdout",
     "output_type": "stream",
     "text": [
      "Model 5:\n"
     ]
    },
    {
     "data": {
      "image/png": "[encoded data removed]",
      "text/plain": [
       "<Figure size 900x900 with 2 Axes>"
      ]
     },
     "metadata": {},
     "output_type": "display_data"
    }
   ],
   "source": [
    "figsize=[12,12]\n",
    "print(\"Model 5:\")\n",
    "cm = confusion_matrix(y_unseen, predicted25) \n",
    "cm_display = ConfusionMatrixDisplay(cm).plot(ax=plt.subplots(figsize=figsize, dpi=75)[1])\n"
   ]
  },
  {
   "cell_type": "code",
   "execution_count": 117,
   "metadata": {},
   "outputs": [],
   "source": [
    "#fig, axn = plt.subplots(3,3, sharex=True, sharey=True,figsize=(12,12))\n",
    "\n",
    "#for i, ax in enumerate(axn.flat):\n",
    "#    k = list(cf_matrix)[i]\n",
    "#    sns.heatmap(cf_matrix[k], ax=ax,cbar=i==4)\n",
    "#    ax.set_title(k,fontsize=8)\n"
   ]
  },
  {
   "cell_type": "markdown",
   "metadata": {},
   "source": [
    "# Save best model"
   ]
  },
  {
   "cell_type": "code",
   "execution_count": 118,
   "metadata": {},
   "outputs": [
    {
     "name": "stdout",
     "output_type": "stream",
     "text": [
      "INFO:tensorflow:Assets written to: models/model5\\assets\n"
     ]
    }
   ],
   "source": [
    "#model1.save('models/model1')\n",
    "model5.save('models/model5')"
   ]
  },
  {
   "cell_type": "code",
   "execution_count": 119,
   "metadata": {},
   "outputs": [],
   "source": [
    "# loaded_model = tf.keras.models.load_model('/tmp/model')\n"
   ]
  },
  {
   "cell_type": "markdown",
   "metadata": {},
   "source": [
    "# Plot Model"
   ]
  },
  {
   "cell_type": "code",
   "execution_count": 120,
   "metadata": {},
   "outputs": [
    {
     "data": {
      "image/png": "[encoded data removed]",
      "text/plain": [
       "<IPython.core.display.Image object>"
      ]
     },
     "execution_count": 120,
     "metadata": {},
     "output_type": "execute_result"
    }
   ],
   "source": [
    "tf.keras.utils.plot_model(\n",
    "    model1,\n",
    "    to_file='plots/model1.png',\n",
    "    show_shapes=True,\n",
    "    show_dtype=False,\n",
    "    show_layer_names=True,\n",
    "    rankdir='TB',\n",
    "    expand_nested=False,\n",
    "    dpi=96,\n",
    "    layer_range=None,\n",
    "    show_layer_activations=True\n",
    ")"
   ]
  },
  {
   "cell_type": "code",
   "execution_count": 121,
   "metadata": {},
   "outputs": [
    {
     "data": {
      "image/png": "[encoded data removed]",
      "text/plain": [
       "<IPython.core.display.Image object>"
      ]
     },
     "execution_count": 121,
     "metadata": {},
     "output_type": "execute_result"
    }
   ],
   "source": [
    "tf.keras.utils.plot_model(\n",
    "    model5,\n",
    "    to_file='plots/model5.png',\n",
    "    show_shapes=True,\n",
    "    show_dtype=False,\n",
    "    show_layer_names=True,\n",
    "    rankdir='TB',\n",
    "    expand_nested=False,\n",
    "    dpi=96,\n",
    "    layer_range=None,\n",
    "    show_layer_activations=True\n",
    ")"
   ]
  },
  {
   "cell_type": "code",
   "execution_count": null,
   "metadata": {},
   "outputs": [],
   "source": []
  }
 ],
 "metadata": {
  "colab": {
   "collapsed_sections": [
    "o5m2qW-Toogy"
   ],
   "include_colab_link": true,
   "provenance": []
  },
  "kernelspec": {
   "display_name": "Python 3 (ipykernel)",
   "language": "python",
   "name": "python3"
  },
  "language_info": {
   "codemirror_mode": {
    "name": "ipython",
    "version": 3
   },
   "file_extension": ".py",
   "mimetype": "text/x-python",
   "name": "python",
   "nbconvert_exporter": "python",
   "pygments_lexer": "ipython3",
   "version": "3.9.16"
  }
 },
 "nbformat": 4,
 "nbformat_minor": 4
}
