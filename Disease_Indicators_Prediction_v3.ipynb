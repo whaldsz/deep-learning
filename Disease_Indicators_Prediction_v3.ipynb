{
  "cells": [
    {
      "cell_type": "markdown",
      "metadata": {
        "id": "view-in-github",
        "colab_type": "text"
      },
      "source": [
        "<a href=\"https://colab.research.google.com/github/whaldsz/deep-learning/blob/main/Disease_Indicators_Prediction_v3.ipynb\" target=\"_parent\"><img src=\"https://colab.research.google.com/assets/colab-badge.svg\" alt=\"Open In Colab\"/></a>"
      ]
    },
    {
      "cell_type": "markdown",
      "metadata": {
        "id": "jScRtiZxMfL9"
      },
      "source": [
        "# Disease Prediction\n",
        "\n"
      ]
    },
    {
      "cell_type": "markdown",
      "metadata": {
        "id": "eA0-wujXMwEE"
      },
      "source": [
        "## Setup and initialization"
      ]
    },
    {
      "cell_type": "code",
      "execution_count": 11,
      "metadata": {
        "colab": {
          "base_uri": "https://localhost:8080/"
        },
        "id": "14juYhy7Mp4O",
        "outputId": "0925ff67-730d-4951-eb74-bf35091eed5e"
      },
      "outputs": [
        {
          "output_type": "stream",
          "name": "stdout",
          "text": [
            "TensorFlow version:: 2.9.2\n"
          ]
        }
      ],
      "source": [
        "import numpy as np\n",
        "import pandas as pd\n",
        "import random\n",
        "import matplotlib.pyplot as plt\n",
        "import seaborn as sns\n",
        "import tensorflow as tf\n",
        "from tensorflow import keras\n",
        "from tensorflow.keras import layers\n",
        "from tensorflow import math\n",
        "\n",
        "from sklearn.compose import make_column_transformer\n",
        "from sklearn.preprocessing import MinMaxScaler, OneHotEncoder\n",
        "from keras.utils.vis_utils import plot_model\n",
        "import os\n",
        "\n",
        "!pip install -q git+https://github.com/tensorflow/docs \n",
        "\n",
        "\n",
        "import tensorflow_docs as tfdocs\n",
        "import tensorflow_docs.modeling\n",
        "import tensorflow_docs.plots\n",
        "\n",
        "print(\"TensorFlow version::\", tf.__version__)\n",
        "\n",
        "\n",
        "from sklearn.model_selection import train_test_split"
      ]
    },
    {
      "cell_type": "code",
      "execution_count": 12,
      "metadata": {
        "id": "gP0r2kgZLCLS"
      },
      "outputs": [],
      "source": [
        "from  IPython import display\n",
        "from matplotlib import pyplot as plt\n",
        "\n",
        "import numpy as np\n",
        "\n",
        "import pathlib\n",
        "import shutil\n",
        "import tempfile"
      ]
    },
    {
      "cell_type": "code",
      "execution_count": 13,
      "metadata": {
        "id": "WgQPGyJXLCLS"
      },
      "outputs": [],
      "source": [
        "# currentdir\n",
        "logdir = os.path.join(os.getcwd(), \"tensorboard_logs\")\n",
        "shutil.rmtree(logdir, ignore_errors=True)"
      ]
    },
    {
      "cell_type": "code",
      "execution_count": 14,
      "metadata": {
        "id": "K4VnRI5aLCLT"
      },
      "outputs": [],
      "source": [
        "# set random seed\n",
        "\n",
        "tf.random.set_seed(74)"
      ]
    },
    {
      "cell_type": "markdown",
      "metadata": {
        "id": "wmYSJcWMSnZU"
      },
      "source": [
        "## 1. Dataset Preparation"
      ]
    },
    {
      "cell_type": "code",
      "execution_count": 15,
      "metadata": {
        "colab": {
          "base_uri": "https://localhost:8080/",
          "height": 404
        },
        "id": "Kx4tROB9MuM8",
        "outputId": "933d2e52-b59d-4e6b-ee0b-fd155c2f9ad9"
      },
      "outputs": [
        {
          "output_type": "execute_result",
          "data": {
            "text/plain": [
              "   itching  skin_rash  nodal_skin_eruptions  continuous_sneezing  shivering  \\\n",
              "0        1          1                     1                    0          0   \n",
              "1        0          1                     1                    0          0   \n",
              "2        1          0                     1                    0          0   \n",
              "3        1          1                     0                    0          0   \n",
              "4        1          1                     1                    0          0   \n",
              "\n",
              "   chills  joint_pain  stomach_pain  acidity  ulcers_on_tongue  ...  scurring  \\\n",
              "0       0           0             0        0                 0  ...         0   \n",
              "1       0           0             0        0                 0  ...         0   \n",
              "2       0           0             0        0                 0  ...         0   \n",
              "3       0           0             0        0                 0  ...         0   \n",
              "4       0           0             0        0                 0  ...         0   \n",
              "\n",
              "   skin_peeling  silver_like_dusting  small_dents_in_nails  \\\n",
              "0             0                    0                     0   \n",
              "1             0                    0                     0   \n",
              "2             0                    0                     0   \n",
              "3             0                    0                     0   \n",
              "4             0                    0                     0   \n",
              "\n",
              "   inflammatory_nails  blister  red_sore_around_nose  yellow_crust_ooze  \\\n",
              "0                   0        0                     0                  0   \n",
              "1                   0        0                     0                  0   \n",
              "2                   0        0                     0                  0   \n",
              "3                   0        0                     0                  0   \n",
              "4                   0        0                     0                  0   \n",
              "\n",
              "          prognosis  Unnamed: 133  \n",
              "0  Fungal infection           NaN  \n",
              "1  Fungal infection           NaN  \n",
              "2  Fungal infection           NaN  \n",
              "3  Fungal infection           NaN  \n",
              "4  Fungal infection           NaN  \n",
              "\n",
              "[5 rows x 134 columns]"
            ],
            "text/html": [
              "\n",
              "  <div id=\"df-d82bc4c4-9434-47f2-ac98-db4e826c1c88\">\n",
              "    <div class=\"colab-df-container\">\n",
              "      <div>\n",
              "<style scoped>\n",
              "    .dataframe tbody tr th:only-of-type {\n",
              "        vertical-align: middle;\n",
              "    }\n",
              "\n",
              "    .dataframe tbody tr th {\n",
              "        vertical-align: top;\n",
              "    }\n",
              "\n",
              "    .dataframe thead th {\n",
              "        text-align: right;\n",
              "    }\n",
              "</style>\n",
              "<table border=\"1\" class=\"dataframe\">\n",
              "  <thead>\n",
              "    <tr style=\"text-align: right;\">\n",
              "      <th></th>\n",
              "      <th>itching</th>\n",
              "      <th>skin_rash</th>\n",
              "      <th>nodal_skin_eruptions</th>\n",
              "      <th>continuous_sneezing</th>\n",
              "      <th>shivering</th>\n",
              "      <th>chills</th>\n",
              "      <th>joint_pain</th>\n",
              "      <th>stomach_pain</th>\n",
              "      <th>acidity</th>\n",
              "      <th>ulcers_on_tongue</th>\n",
              "      <th>...</th>\n",
              "      <th>scurring</th>\n",
              "      <th>skin_peeling</th>\n",
              "      <th>silver_like_dusting</th>\n",
              "      <th>small_dents_in_nails</th>\n",
              "      <th>inflammatory_nails</th>\n",
              "      <th>blister</th>\n",
              "      <th>red_sore_around_nose</th>\n",
              "      <th>yellow_crust_ooze</th>\n",
              "      <th>prognosis</th>\n",
              "      <th>Unnamed: 133</th>\n",
              "    </tr>\n",
              "  </thead>\n",
              "  <tbody>\n",
              "    <tr>\n",
              "      <th>0</th>\n",
              "      <td>1</td>\n",
              "      <td>1</td>\n",
              "      <td>1</td>\n",
              "      <td>0</td>\n",
              "      <td>0</td>\n",
              "      <td>0</td>\n",
              "      <td>0</td>\n",
              "      <td>0</td>\n",
              "      <td>0</td>\n",
              "      <td>0</td>\n",
              "      <td>...</td>\n",
              "      <td>0</td>\n",
              "      <td>0</td>\n",
              "      <td>0</td>\n",
              "      <td>0</td>\n",
              "      <td>0</td>\n",
              "      <td>0</td>\n",
              "      <td>0</td>\n",
              "      <td>0</td>\n",
              "      <td>Fungal infection</td>\n",
              "      <td>NaN</td>\n",
              "    </tr>\n",
              "    <tr>\n",
              "      <th>1</th>\n",
              "      <td>0</td>\n",
              "      <td>1</td>\n",
              "      <td>1</td>\n",
              "      <td>0</td>\n",
              "      <td>0</td>\n",
              "      <td>0</td>\n",
              "      <td>0</td>\n",
              "      <td>0</td>\n",
              "      <td>0</td>\n",
              "      <td>0</td>\n",
              "      <td>...</td>\n",
              "      <td>0</td>\n",
              "      <td>0</td>\n",
              "      <td>0</td>\n",
              "      <td>0</td>\n",
              "      <td>0</td>\n",
              "      <td>0</td>\n",
              "      <td>0</td>\n",
              "      <td>0</td>\n",
              "      <td>Fungal infection</td>\n",
              "      <td>NaN</td>\n",
              "    </tr>\n",
              "    <tr>\n",
              "      <th>2</th>\n",
              "      <td>1</td>\n",
              "      <td>0</td>\n",
              "      <td>1</td>\n",
              "      <td>0</td>\n",
              "      <td>0</td>\n",
              "      <td>0</td>\n",
              "      <td>0</td>\n",
              "      <td>0</td>\n",
              "      <td>0</td>\n",
              "      <td>0</td>\n",
              "      <td>...</td>\n",
              "      <td>0</td>\n",
              "      <td>0</td>\n",
              "      <td>0</td>\n",
              "      <td>0</td>\n",
              "      <td>0</td>\n",
              "      <td>0</td>\n",
              "      <td>0</td>\n",
              "      <td>0</td>\n",
              "      <td>Fungal infection</td>\n",
              "      <td>NaN</td>\n",
              "    </tr>\n",
              "    <tr>\n",
              "      <th>3</th>\n",
              "      <td>1</td>\n",
              "      <td>1</td>\n",
              "      <td>0</td>\n",
              "      <td>0</td>\n",
              "      <td>0</td>\n",
              "      <td>0</td>\n",
              "      <td>0</td>\n",
              "      <td>0</td>\n",
              "      <td>0</td>\n",
              "      <td>0</td>\n",
              "      <td>...</td>\n",
              "      <td>0</td>\n",
              "      <td>0</td>\n",
              "      <td>0</td>\n",
              "      <td>0</td>\n",
              "      <td>0</td>\n",
              "      <td>0</td>\n",
              "      <td>0</td>\n",
              "      <td>0</td>\n",
              "      <td>Fungal infection</td>\n",
              "      <td>NaN</td>\n",
              "    </tr>\n",
              "    <tr>\n",
              "      <th>4</th>\n",
              "      <td>1</td>\n",
              "      <td>1</td>\n",
              "      <td>1</td>\n",
              "      <td>0</td>\n",
              "      <td>0</td>\n",
              "      <td>0</td>\n",
              "      <td>0</td>\n",
              "      <td>0</td>\n",
              "      <td>0</td>\n",
              "      <td>0</td>\n",
              "      <td>...</td>\n",
              "      <td>0</td>\n",
              "      <td>0</td>\n",
              "      <td>0</td>\n",
              "      <td>0</td>\n",
              "      <td>0</td>\n",
              "      <td>0</td>\n",
              "      <td>0</td>\n",
              "      <td>0</td>\n",
              "      <td>Fungal infection</td>\n",
              "      <td>NaN</td>\n",
              "    </tr>\n",
              "  </tbody>\n",
              "</table>\n",
              "<p>5 rows × 134 columns</p>\n",
              "</div>\n",
              "      <button class=\"colab-df-convert\" onclick=\"convertToInteractive('df-d82bc4c4-9434-47f2-ac98-db4e826c1c88')\"\n",
              "              title=\"Convert this dataframe to an interactive table.\"\n",
              "              style=\"display:none;\">\n",
              "        \n",
              "  <svg xmlns=\"http://www.w3.org/2000/svg\" height=\"24px\"viewBox=\"0 0 24 24\"\n",
              "       width=\"24px\">\n",
              "    <path d=\"M0 0h24v24H0V0z\" fill=\"none\"/>\n",
              "    <path d=\"M18.56 5.44l.94 2.06.94-2.06 2.06-.94-2.06-.94-.94-2.06-.94 2.06-2.06.94zm-11 1L8.5 8.5l.94-2.06 2.06-.94-2.06-.94L8.5 2.5l-.94 2.06-2.06.94zm10 10l.94 2.06.94-2.06 2.06-.94-2.06-.94-.94-2.06-.94 2.06-2.06.94z\"/><path d=\"M17.41 7.96l-1.37-1.37c-.4-.4-.92-.59-1.43-.59-.52 0-1.04.2-1.43.59L10.3 9.45l-7.72 7.72c-.78.78-.78 2.05 0 2.83L4 21.41c.39.39.9.59 1.41.59.51 0 1.02-.2 1.41-.59l7.78-7.78 2.81-2.81c.8-.78.8-2.07 0-2.86zM5.41 20L4 18.59l7.72-7.72 1.47 1.35L5.41 20z\"/>\n",
              "  </svg>\n",
              "      </button>\n",
              "      \n",
              "  <style>\n",
              "    .colab-df-container {\n",
              "      display:flex;\n",
              "      flex-wrap:wrap;\n",
              "      gap: 12px;\n",
              "    }\n",
              "\n",
              "    .colab-df-convert {\n",
              "      background-color: #E8F0FE;\n",
              "      border: none;\n",
              "      border-radius: 50%;\n",
              "      cursor: pointer;\n",
              "      display: none;\n",
              "      fill: #1967D2;\n",
              "      height: 32px;\n",
              "      padding: 0 0 0 0;\n",
              "      width: 32px;\n",
              "    }\n",
              "\n",
              "    .colab-df-convert:hover {\n",
              "      background-color: #E2EBFA;\n",
              "      box-shadow: 0px 1px 2px rgba(60, 64, 67, 0.3), 0px 1px 3px 1px rgba(60, 64, 67, 0.15);\n",
              "      fill: #174EA6;\n",
              "    }\n",
              "\n",
              "    [theme=dark] .colab-df-convert {\n",
              "      background-color: #3B4455;\n",
              "      fill: #D2E3FC;\n",
              "    }\n",
              "\n",
              "    [theme=dark] .colab-df-convert:hover {\n",
              "      background-color: #434B5C;\n",
              "      box-shadow: 0px 1px 3px 1px rgba(0, 0, 0, 0.15);\n",
              "      filter: drop-shadow(0px 1px 2px rgba(0, 0, 0, 0.3));\n",
              "      fill: #FFFFFF;\n",
              "    }\n",
              "  </style>\n",
              "\n",
              "      <script>\n",
              "        const buttonEl =\n",
              "          document.querySelector('#df-d82bc4c4-9434-47f2-ac98-db4e826c1c88 button.colab-df-convert');\n",
              "        buttonEl.style.display =\n",
              "          google.colab.kernel.accessAllowed ? 'block' : 'none';\n",
              "\n",
              "        async function convertToInteractive(key) {\n",
              "          const element = document.querySelector('#df-d82bc4c4-9434-47f2-ac98-db4e826c1c88');\n",
              "          const dataTable =\n",
              "            await google.colab.kernel.invokeFunction('convertToInteractive',\n",
              "                                                     [key], {});\n",
              "          if (!dataTable) return;\n",
              "\n",
              "          const docLinkHtml = 'Like what you see? Visit the ' +\n",
              "            '<a target=\"_blank\" href=https://colab.research.google.com/notebooks/data_table.ipynb>data table notebook</a>'\n",
              "            + ' to learn more about interactive tables.';\n",
              "          element.innerHTML = '';\n",
              "          dataTable['output_type'] = 'display_data';\n",
              "          await google.colab.output.renderOutput(dataTable, element);\n",
              "          const docLink = document.createElement('div');\n",
              "          docLink.innerHTML = docLinkHtml;\n",
              "          element.appendChild(docLink);\n",
              "        }\n",
              "      </script>\n",
              "    </div>\n",
              "  </div>\n",
              "  "
            ]
          },
          "metadata": {},
          "execution_count": 15
        }
      ],
      "source": [
        "disease_training = pd.read_csv('https://raw.githubusercontent.com/whaldsz/deep-learning/main/Disease_Prediction/Training.csv')\n",
        "disease_testing = pd.read_csv('https://raw.githubusercontent.com/whaldsz/deep-learning/main/Disease_Prediction/Testing.csv')\n",
        "disease_training.head()"
      ]
    },
    {
      "cell_type": "code",
      "source": [
        "from google.colab import drive\n",
        "drive.mount('/content/drive')"
      ],
      "metadata": {
        "id": "laCVlHFcMFkY",
        "outputId": "c4740029-323b-4306-9814-1da34d8bcdb3",
        "colab": {
          "base_uri": "https://localhost:8080/"
        }
      },
      "execution_count": 16,
      "outputs": [
        {
          "output_type": "stream",
          "name": "stdout",
          "text": [
            "Mounted at /content/drive\n"
          ]
        }
      ]
    },
    {
      "cell_type": "markdown",
      "metadata": {
        "id": "JYkWJhNtXhp0"
      },
      "source": [
        "#3 Remove last column"
      ]
    },
    {
      "cell_type": "code",
      "execution_count": 17,
      "metadata": {
        "colab": {
          "base_uri": "https://localhost:8080/"
        },
        "id": "NZghc-CaSjkK",
        "outputId": "11b37dcf-af62-4d1b-ac46-d437ec1b827f"
      },
      "outputs": [
        {
          "output_type": "execute_result",
          "data": {
            "text/plain": [
              "itching                    0\n",
              "skin_rash                  0\n",
              "nodal_skin_eruptions       0\n",
              "continuous_sneezing        0\n",
              "shivering                  0\n",
              "                        ... \n",
              "blister                    0\n",
              "red_sore_around_nose       0\n",
              "yellow_crust_ooze          0\n",
              "prognosis                  0\n",
              "Unnamed: 133            4920\n",
              "Length: 134, dtype: int64"
            ]
          },
          "metadata": {},
          "execution_count": 17
        }
      ],
      "source": [
        "disease_training.isna().sum()"
      ]
    },
    {
      "cell_type": "markdown",
      "metadata": {
        "id": "v1v4EZLlaYXl"
      },
      "source": []
    },
    {
      "cell_type": "code",
      "execution_count": 18,
      "metadata": {
        "colab": {
          "base_uri": "https://localhost:8080/"
        },
        "id": "TYpm082zTDYz",
        "outputId": "6ff493c0-0784-43df-ce19-b6d50fb19a93"
      },
      "outputs": [
        {
          "output_type": "execute_result",
          "data": {
            "text/plain": [
              "itching                 0\n",
              "skin_rash               0\n",
              "nodal_skin_eruptions    0\n",
              "continuous_sneezing     0\n",
              "shivering               0\n",
              "                       ..\n",
              "inflammatory_nails      0\n",
              "blister                 0\n",
              "red_sore_around_nose    0\n",
              "yellow_crust_ooze       0\n",
              "prognosis               0\n",
              "Length: 133, dtype: int64"
            ]
          },
          "metadata": {},
          "execution_count": 18
        }
      ],
      "source": [
        "disease_training.drop('Unnamed: 133', inplace=True, axis=1)\n",
        "\n",
        "disease_training.isna().sum()"
      ]
    },
    {
      "cell_type": "code",
      "execution_count": 19,
      "metadata": {
        "id": "hrU739NTTQHL"
      },
      "outputs": [],
      "source": [
        "#disease_training.head()"
      ]
    },
    {
      "cell_type": "markdown",
      "metadata": {
        "id": "Cg6O2vb5r_HE"
      },
      "source": [
        "## Convert category to numeric values"
      ]
    },
    {
      "cell_type": "code",
      "execution_count": 20,
      "metadata": {
        "colab": {
          "base_uri": "https://localhost:8080/"
        },
        "id": "KWF_gDOVsDEB",
        "outputId": "34f22ced-0cf2-413f-e68d-e96e9690c268"
      },
      "outputs": [
        {
          "output_type": "execute_result",
          "data": {
            "text/plain": [
              "(41,)"
            ]
          },
          "metadata": {},
          "execution_count": 20
        }
      ],
      "source": [
        "#get class labels\n",
        "\n",
        "class_names = np.unique(disease_training.prognosis)\n",
        "disease_training.prognosis = pd.Categorical(disease_training.prognosis)\n",
        "disease_testing.prognosis = pd.Categorical(disease_testing.prognosis)\n",
        "class_names.shape"
      ]
    },
    {
      "cell_type": "code",
      "execution_count": 21,
      "metadata": {
        "id": "47Kx89y1tlDs"
      },
      "outputs": [],
      "source": [
        "#disease_training.prognosis.cat.codes\n",
        "#disease_training\n",
        "#disease_testing.head()"
      ]
    },
    {
      "cell_type": "markdown",
      "metadata": {
        "id": "oV6x9-0IactI"
      },
      "source": [
        "## Separate Features and Label - Training"
      ]
    },
    {
      "cell_type": "markdown",
      "metadata": {
        "id": "hz5pI7qjHLlZ"
      },
      "source": [
        "### Training Set"
      ]
    },
    {
      "cell_type": "code",
      "execution_count": 22,
      "metadata": {
        "colab": {
          "base_uri": "https://localhost:8080/"
        },
        "id": "Ats9rmYNaiES",
        "outputId": "e7d2c6bb-e6ab-44c2-9b1d-bdb74e146eec"
      },
      "outputs": [
        {
          "output_type": "execute_result",
          "data": {
            "text/plain": [
              "array([ 0,  1,  2,  3,  4,  5,  6,  7,  8,  9, 10, 11, 12, 13, 14, 15, 16,\n",
              "       17, 18, 19, 20, 21, 22, 23, 24, 25, 26, 27, 28, 29, 30, 31, 32, 33,\n",
              "       34, 35, 36, 37, 38, 39, 40], dtype=int8)"
            ]
          },
          "metadata": {},
          "execution_count": 22
        }
      ],
      "source": [
        "X = disease_training.drop('prognosis', axis=1)\n",
        "y = disease_training.prognosis.cat.codes\n",
        "np.unique(y)"
      ]
    },
    {
      "cell_type": "markdown",
      "metadata": {
        "id": "YfkFrMKeHOtO"
      },
      "source": [
        "### Unseen Test Set"
      ]
    },
    {
      "cell_type": "code",
      "execution_count": 23,
      "metadata": {
        "colab": {
          "base_uri": "https://localhost:8080/"
        },
        "id": "_32AZ6XnHTZc",
        "outputId": "7fcd48a1-0ca4-422a-e7b2-53231760dee5"
      },
      "outputs": [
        {
          "output_type": "execute_result",
          "data": {
            "text/plain": [
              "array([0, 1])"
            ]
          },
          "metadata": {},
          "execution_count": 23
        }
      ],
      "source": [
        "X_unseen = disease_testing.drop('prognosis', axis=1)\n",
        "y_unseen = disease_testing.prognosis.cat.codes\n",
        "np.unique(X_unseen)"
      ]
    },
    {
      "cell_type": "markdown",
      "metadata": {
        "id": "Nkk4a6TO3ExZ"
      },
      "source": [
        "## Split into Training & Validation Test"
      ]
    },
    {
      "cell_type": "code",
      "execution_count": 24,
      "metadata": {
        "id": "bYRL_KPNcDcr"
      },
      "outputs": [],
      "source": [
        "X_train, X_test, y_train, y_test = train_test_split(X, y, test_size=0.2, random_state=74)\n",
        "#print(X_train.shape)\n",
        "#print(y_train.shape)\n",
        "#print(X_test.shape)\n",
        "#print(y_test.shape)\n"
      ]
    },
    {
      "cell_type": "code",
      "execution_count": 24,
      "metadata": {
        "id": "hT2mzcHcLCLY"
      },
      "outputs": [],
      "source": []
    },
    {
      "cell_type": "code",
      "execution_count": 25,
      "metadata": {
        "colab": {
          "base_uri": "https://localhost:8080/",
          "height": 488
        },
        "id": "GrD6Ftlu6hSk",
        "outputId": "7219e880-6bc2-44b0-fc6b-40f5cd995504"
      },
      "outputs": [
        {
          "output_type": "execute_result",
          "data": {
            "text/plain": [
              "      itching  skin_rash  nodal_skin_eruptions  continuous_sneezing  \\\n",
              "4007        0          0                     0                    0   \n",
              "1938        0          0                     0                    0   \n",
              "4462        0          0                     0                    0   \n",
              "3227        0          0                     0                    0   \n",
              "3889        0          0                     0                    0   \n",
              "...       ...        ...                   ...                  ...   \n",
              "111         0          0                     0                    0   \n",
              "3741        0          0                     0                    0   \n",
              "3280        1          1                     1                    0   \n",
              "3687        0          0                     0                    0   \n",
              "656         0          0                     0                    0   \n",
              "\n",
              "      shivering  chills  joint_pain  stomach_pain  acidity  ulcers_on_tongue  \\\n",
              "4007          0       0           0             0        0                 0   \n",
              "1938          0       0           0             0        0                 0   \n",
              "4462          0       0           1             0        0                 0   \n",
              "3227          0       0           0             0        0                 0   \n",
              "3889          0       0           0             0        0                 0   \n",
              "...         ...     ...         ...           ...      ...               ...   \n",
              "111           0       0           0             0        0                 0   \n",
              "3741          0       0           0             0        0                 0   \n",
              "3280          0       0           0             0        0                 0   \n",
              "3687          0       0           0             0        0                 0   \n",
              "656           0       0           0             0        0                 0   \n",
              "\n",
              "      ...  pus_filled_pimples  blackheads  scurring  skin_peeling  \\\n",
              "4007  ...                   0           0         0             0   \n",
              "1938  ...                   0           0         0             0   \n",
              "4462  ...                   0           0         0             0   \n",
              "3227  ...                   0           0         0             0   \n",
              "3889  ...                   0           0         0             0   \n",
              "...   ...                 ...         ...       ...           ...   \n",
              "111   ...                   0           0         0             0   \n",
              "3741  ...                   0           0         0             0   \n",
              "3280  ...                   0           0         0             0   \n",
              "3687  ...                   0           0         0             0   \n",
              "656   ...                   0           0         0             0   \n",
              "\n",
              "      silver_like_dusting  small_dents_in_nails  inflammatory_nails  blister  \\\n",
              "4007                    0                     0                   0        0   \n",
              "1938                    0                     0                   0        0   \n",
              "4462                    0                     0                   0        0   \n",
              "3227                    0                     0                   0        0   \n",
              "3889                    0                     0                   0        0   \n",
              "...                   ...                   ...                 ...      ...   \n",
              "111                     0                     0                   0        0   \n",
              "3741                    0                     0                   0        0   \n",
              "3280                    0                     0                   0        0   \n",
              "3687                    0                     0                   0        0   \n",
              "656                     0                     0                   0        0   \n",
              "\n",
              "      red_sore_around_nose  yellow_crust_ooze  \n",
              "4007                     0                  0  \n",
              "1938                     0                  0  \n",
              "4462                     0                  0  \n",
              "3227                     0                  0  \n",
              "3889                     0                  0  \n",
              "...                    ...                ...  \n",
              "111                      0                  0  \n",
              "3741                     0                  0  \n",
              "3280                     0                  0  \n",
              "3687                     0                  0  \n",
              "656                      0                  0  \n",
              "\n",
              "[984 rows x 132 columns]"
            ],
            "text/html": [
              "\n",
              "  <div id=\"df-69a226a2-69af-4774-bfb5-95bd3e8aa658\">\n",
              "    <div class=\"colab-df-container\">\n",
              "      <div>\n",
              "<style scoped>\n",
              "    .dataframe tbody tr th:only-of-type {\n",
              "        vertical-align: middle;\n",
              "    }\n",
              "\n",
              "    .dataframe tbody tr th {\n",
              "        vertical-align: top;\n",
              "    }\n",
              "\n",
              "    .dataframe thead th {\n",
              "        text-align: right;\n",
              "    }\n",
              "</style>\n",
              "<table border=\"1\" class=\"dataframe\">\n",
              "  <thead>\n",
              "    <tr style=\"text-align: right;\">\n",
              "      <th></th>\n",
              "      <th>itching</th>\n",
              "      <th>skin_rash</th>\n",
              "      <th>nodal_skin_eruptions</th>\n",
              "      <th>continuous_sneezing</th>\n",
              "      <th>shivering</th>\n",
              "      <th>chills</th>\n",
              "      <th>joint_pain</th>\n",
              "      <th>stomach_pain</th>\n",
              "      <th>acidity</th>\n",
              "      <th>ulcers_on_tongue</th>\n",
              "      <th>...</th>\n",
              "      <th>pus_filled_pimples</th>\n",
              "      <th>blackheads</th>\n",
              "      <th>scurring</th>\n",
              "      <th>skin_peeling</th>\n",
              "      <th>silver_like_dusting</th>\n",
              "      <th>small_dents_in_nails</th>\n",
              "      <th>inflammatory_nails</th>\n",
              "      <th>blister</th>\n",
              "      <th>red_sore_around_nose</th>\n",
              "      <th>yellow_crust_ooze</th>\n",
              "    </tr>\n",
              "  </thead>\n",
              "  <tbody>\n",
              "    <tr>\n",
              "      <th>4007</th>\n",
              "      <td>0</td>\n",
              "      <td>0</td>\n",
              "      <td>0</td>\n",
              "      <td>0</td>\n",
              "      <td>0</td>\n",
              "      <td>0</td>\n",
              "      <td>0</td>\n",
              "      <td>0</td>\n",
              "      <td>0</td>\n",
              "      <td>0</td>\n",
              "      <td>...</td>\n",
              "      <td>0</td>\n",
              "      <td>0</td>\n",
              "      <td>0</td>\n",
              "      <td>0</td>\n",
              "      <td>0</td>\n",
              "      <td>0</td>\n",
              "      <td>0</td>\n",
              "      <td>0</td>\n",
              "      <td>0</td>\n",
              "      <td>0</td>\n",
              "    </tr>\n",
              "    <tr>\n",
              "      <th>1938</th>\n",
              "      <td>0</td>\n",
              "      <td>0</td>\n",
              "      <td>0</td>\n",
              "      <td>0</td>\n",
              "      <td>0</td>\n",
              "      <td>0</td>\n",
              "      <td>0</td>\n",
              "      <td>0</td>\n",
              "      <td>0</td>\n",
              "      <td>0</td>\n",
              "      <td>...</td>\n",
              "      <td>0</td>\n",
              "      <td>0</td>\n",
              "      <td>0</td>\n",
              "      <td>0</td>\n",
              "      <td>0</td>\n",
              "      <td>0</td>\n",
              "      <td>0</td>\n",
              "      <td>0</td>\n",
              "      <td>0</td>\n",
              "      <td>0</td>\n",
              "    </tr>\n",
              "    <tr>\n",
              "      <th>4462</th>\n",
              "      <td>0</td>\n",
              "      <td>0</td>\n",
              "      <td>0</td>\n",
              "      <td>0</td>\n",
              "      <td>0</td>\n",
              "      <td>0</td>\n",
              "      <td>1</td>\n",
              "      <td>0</td>\n",
              "      <td>0</td>\n",
              "      <td>0</td>\n",
              "      <td>...</td>\n",
              "      <td>0</td>\n",
              "      <td>0</td>\n",
              "      <td>0</td>\n",
              "      <td>0</td>\n",
              "      <td>0</td>\n",
              "      <td>0</td>\n",
              "      <td>0</td>\n",
              "      <td>0</td>\n",
              "      <td>0</td>\n",
              "      <td>0</td>\n",
              "    </tr>\n",
              "    <tr>\n",
              "      <th>3227</th>\n",
              "      <td>0</td>\n",
              "      <td>0</td>\n",
              "      <td>0</td>\n",
              "      <td>0</td>\n",
              "      <td>0</td>\n",
              "      <td>0</td>\n",
              "      <td>0</td>\n",
              "      <td>0</td>\n",
              "      <td>0</td>\n",
              "      <td>0</td>\n",
              "      <td>...</td>\n",
              "      <td>0</td>\n",
              "      <td>0</td>\n",
              "      <td>0</td>\n",
              "      <td>0</td>\n",
              "      <td>0</td>\n",
              "      <td>0</td>\n",
              "      <td>0</td>\n",
              "      <td>0</td>\n",
              "      <td>0</td>\n",
              "      <td>0</td>\n",
              "    </tr>\n",
              "    <tr>\n",
              "      <th>3889</th>\n",
              "      <td>0</td>\n",
              "      <td>0</td>\n",
              "      <td>0</td>\n",
              "      <td>0</td>\n",
              "      <td>0</td>\n",
              "      <td>0</td>\n",
              "      <td>0</td>\n",
              "      <td>0</td>\n",
              "      <td>0</td>\n",
              "      <td>0</td>\n",
              "      <td>...</td>\n",
              "      <td>0</td>\n",
              "      <td>0</td>\n",
              "      <td>0</td>\n",
              "      <td>0</td>\n",
              "      <td>0</td>\n",
              "      <td>0</td>\n",
              "      <td>0</td>\n",
              "      <td>0</td>\n",
              "      <td>0</td>\n",
              "      <td>0</td>\n",
              "    </tr>\n",
              "    <tr>\n",
              "      <th>...</th>\n",
              "      <td>...</td>\n",
              "      <td>...</td>\n",
              "      <td>...</td>\n",
              "      <td>...</td>\n",
              "      <td>...</td>\n",
              "      <td>...</td>\n",
              "      <td>...</td>\n",
              "      <td>...</td>\n",
              "      <td>...</td>\n",
              "      <td>...</td>\n",
              "      <td>...</td>\n",
              "      <td>...</td>\n",
              "      <td>...</td>\n",
              "      <td>...</td>\n",
              "      <td>...</td>\n",
              "      <td>...</td>\n",
              "      <td>...</td>\n",
              "      <td>...</td>\n",
              "      <td>...</td>\n",
              "      <td>...</td>\n",
              "      <td>...</td>\n",
              "    </tr>\n",
              "    <tr>\n",
              "      <th>111</th>\n",
              "      <td>0</td>\n",
              "      <td>0</td>\n",
              "      <td>0</td>\n",
              "      <td>0</td>\n",
              "      <td>0</td>\n",
              "      <td>0</td>\n",
              "      <td>0</td>\n",
              "      <td>0</td>\n",
              "      <td>0</td>\n",
              "      <td>0</td>\n",
              "      <td>...</td>\n",
              "      <td>0</td>\n",
              "      <td>0</td>\n",
              "      <td>0</td>\n",
              "      <td>0</td>\n",
              "      <td>0</td>\n",
              "      <td>0</td>\n",
              "      <td>0</td>\n",
              "      <td>0</td>\n",
              "      <td>0</td>\n",
              "      <td>0</td>\n",
              "    </tr>\n",
              "    <tr>\n",
              "      <th>3741</th>\n",
              "      <td>0</td>\n",
              "      <td>0</td>\n",
              "      <td>0</td>\n",
              "      <td>0</td>\n",
              "      <td>0</td>\n",
              "      <td>0</td>\n",
              "      <td>0</td>\n",
              "      <td>0</td>\n",
              "      <td>0</td>\n",
              "      <td>0</td>\n",
              "      <td>...</td>\n",
              "      <td>0</td>\n",
              "      <td>0</td>\n",
              "      <td>0</td>\n",
              "      <td>0</td>\n",
              "      <td>0</td>\n",
              "      <td>0</td>\n",
              "      <td>0</td>\n",
              "      <td>0</td>\n",
              "      <td>0</td>\n",
              "      <td>0</td>\n",
              "    </tr>\n",
              "    <tr>\n",
              "      <th>3280</th>\n",
              "      <td>1</td>\n",
              "      <td>1</td>\n",
              "      <td>1</td>\n",
              "      <td>0</td>\n",
              "      <td>0</td>\n",
              "      <td>0</td>\n",
              "      <td>0</td>\n",
              "      <td>0</td>\n",
              "      <td>0</td>\n",
              "      <td>0</td>\n",
              "      <td>...</td>\n",
              "      <td>0</td>\n",
              "      <td>0</td>\n",
              "      <td>0</td>\n",
              "      <td>0</td>\n",
              "      <td>0</td>\n",
              "      <td>0</td>\n",
              "      <td>0</td>\n",
              "      <td>0</td>\n",
              "      <td>0</td>\n",
              "      <td>0</td>\n",
              "    </tr>\n",
              "    <tr>\n",
              "      <th>3687</th>\n",
              "      <td>0</td>\n",
              "      <td>0</td>\n",
              "      <td>0</td>\n",
              "      <td>0</td>\n",
              "      <td>0</td>\n",
              "      <td>0</td>\n",
              "      <td>0</td>\n",
              "      <td>0</td>\n",
              "      <td>0</td>\n",
              "      <td>0</td>\n",
              "      <td>...</td>\n",
              "      <td>0</td>\n",
              "      <td>0</td>\n",
              "      <td>0</td>\n",
              "      <td>0</td>\n",
              "      <td>0</td>\n",
              "      <td>0</td>\n",
              "      <td>0</td>\n",
              "      <td>0</td>\n",
              "      <td>0</td>\n",
              "      <td>0</td>\n",
              "    </tr>\n",
              "    <tr>\n",
              "      <th>656</th>\n",
              "      <td>0</td>\n",
              "      <td>0</td>\n",
              "      <td>0</td>\n",
              "      <td>0</td>\n",
              "      <td>0</td>\n",
              "      <td>0</td>\n",
              "      <td>0</td>\n",
              "      <td>0</td>\n",
              "      <td>0</td>\n",
              "      <td>0</td>\n",
              "      <td>...</td>\n",
              "      <td>0</td>\n",
              "      <td>0</td>\n",
              "      <td>0</td>\n",
              "      <td>0</td>\n",
              "      <td>0</td>\n",
              "      <td>0</td>\n",
              "      <td>0</td>\n",
              "      <td>0</td>\n",
              "      <td>0</td>\n",
              "      <td>0</td>\n",
              "    </tr>\n",
              "  </tbody>\n",
              "</table>\n",
              "<p>984 rows × 132 columns</p>\n",
              "</div>\n",
              "      <button class=\"colab-df-convert\" onclick=\"convertToInteractive('df-69a226a2-69af-4774-bfb5-95bd3e8aa658')\"\n",
              "              title=\"Convert this dataframe to an interactive table.\"\n",
              "              style=\"display:none;\">\n",
              "        \n",
              "  <svg xmlns=\"http://www.w3.org/2000/svg\" height=\"24px\"viewBox=\"0 0 24 24\"\n",
              "       width=\"24px\">\n",
              "    <path d=\"M0 0h24v24H0V0z\" fill=\"none\"/>\n",
              "    <path d=\"M18.56 5.44l.94 2.06.94-2.06 2.06-.94-2.06-.94-.94-2.06-.94 2.06-2.06.94zm-11 1L8.5 8.5l.94-2.06 2.06-.94-2.06-.94L8.5 2.5l-.94 2.06-2.06.94zm10 10l.94 2.06.94-2.06 2.06-.94-2.06-.94-.94-2.06-.94 2.06-2.06.94z\"/><path d=\"M17.41 7.96l-1.37-1.37c-.4-.4-.92-.59-1.43-.59-.52 0-1.04.2-1.43.59L10.3 9.45l-7.72 7.72c-.78.78-.78 2.05 0 2.83L4 21.41c.39.39.9.59 1.41.59.51 0 1.02-.2 1.41-.59l7.78-7.78 2.81-2.81c.8-.78.8-2.07 0-2.86zM5.41 20L4 18.59l7.72-7.72 1.47 1.35L5.41 20z\"/>\n",
              "  </svg>\n",
              "      </button>\n",
              "      \n",
              "  <style>\n",
              "    .colab-df-container {\n",
              "      display:flex;\n",
              "      flex-wrap:wrap;\n",
              "      gap: 12px;\n",
              "    }\n",
              "\n",
              "    .colab-df-convert {\n",
              "      background-color: #E8F0FE;\n",
              "      border: none;\n",
              "      border-radius: 50%;\n",
              "      cursor: pointer;\n",
              "      display: none;\n",
              "      fill: #1967D2;\n",
              "      height: 32px;\n",
              "      padding: 0 0 0 0;\n",
              "      width: 32px;\n",
              "    }\n",
              "\n",
              "    .colab-df-convert:hover {\n",
              "      background-color: #E2EBFA;\n",
              "      box-shadow: 0px 1px 2px rgba(60, 64, 67, 0.3), 0px 1px 3px 1px rgba(60, 64, 67, 0.15);\n",
              "      fill: #174EA6;\n",
              "    }\n",
              "\n",
              "    [theme=dark] .colab-df-convert {\n",
              "      background-color: #3B4455;\n",
              "      fill: #D2E3FC;\n",
              "    }\n",
              "\n",
              "    [theme=dark] .colab-df-convert:hover {\n",
              "      background-color: #434B5C;\n",
              "      box-shadow: 0px 1px 3px 1px rgba(0, 0, 0, 0.15);\n",
              "      filter: drop-shadow(0px 1px 2px rgba(0, 0, 0, 0.3));\n",
              "      fill: #FFFFFF;\n",
              "    }\n",
              "  </style>\n",
              "\n",
              "      <script>\n",
              "        const buttonEl =\n",
              "          document.querySelector('#df-69a226a2-69af-4774-bfb5-95bd3e8aa658 button.colab-df-convert');\n",
              "        buttonEl.style.display =\n",
              "          google.colab.kernel.accessAllowed ? 'block' : 'none';\n",
              "\n",
              "        async function convertToInteractive(key) {\n",
              "          const element = document.querySelector('#df-69a226a2-69af-4774-bfb5-95bd3e8aa658');\n",
              "          const dataTable =\n",
              "            await google.colab.kernel.invokeFunction('convertToInteractive',\n",
              "                                                     [key], {});\n",
              "          if (!dataTable) return;\n",
              "\n",
              "          const docLinkHtml = 'Like what you see? Visit the ' +\n",
              "            '<a target=\"_blank\" href=https://colab.research.google.com/notebooks/data_table.ipynb>data table notebook</a>'\n",
              "            + ' to learn more about interactive tables.';\n",
              "          element.innerHTML = '';\n",
              "          dataTable['output_type'] = 'display_data';\n",
              "          await google.colab.output.renderOutput(dataTable, element);\n",
              "          const docLink = document.createElement('div');\n",
              "          docLink.innerHTML = docLinkHtml;\n",
              "          element.appendChild(docLink);\n",
              "        }\n",
              "      </script>\n",
              "    </div>\n",
              "  </div>\n",
              "  "
            ]
          },
          "metadata": {},
          "execution_count": 25
        }
      ],
      "source": [
        "X_test"
      ]
    },
    {
      "cell_type": "code",
      "execution_count": 26,
      "metadata": {
        "id": "A7znVMrlLCLZ",
        "outputId": "27f1c2f8-3726-4378-c10f-b012be9de9dd",
        "colab": {
          "base_uri": "https://localhost:8080/"
        }
      },
      "outputs": [
        {
          "output_type": "execute_result",
          "data": {
            "text/plain": [
              "132"
            ]
          },
          "metadata": {},
          "execution_count": 26
        }
      ],
      "source": [
        "# Number of features\n",
        "FEATURES = X_test.shape[1]\n",
        "FEATURES"
      ]
    },
    {
      "cell_type": "markdown",
      "metadata": {
        "id": "cqzUER9BjKE2"
      },
      "source": [
        "## 2. Model Training"
      ]
    },
    {
      "cell_type": "markdown",
      "metadata": {
        "id": "NShfffVzLCLZ"
      },
      "source": [
        "### Training configuration"
      ]
    },
    {
      "cell_type": "code",
      "execution_count": 27,
      "metadata": {
        "id": "XnZ5boe6LCLa"
      },
      "outputs": [],
      "source": [
        "N_VALIDATION = int(1e3)\n",
        "N_TRAIN = int(1e4)\n",
        "BUFFER_SIZE = int(1e4)\n",
        "BATCH_SIZE = 500\n",
        "STEPS_PER_EPOCH = N_TRAIN//BATCH_SIZE"
      ]
    },
    {
      "cell_type": "markdown",
      "metadata": {
        "id": "lnAgqpHtLCLa"
      },
      "source": [
        "### Create Model"
      ]
    },
    {
      "cell_type": "markdown",
      "metadata": {
        "id": "aSiaCCIMFAzn"
      },
      "source": [
        "### Find the ideal learning rate"
      ]
    },
    {
      "cell_type": "code",
      "execution_count": 28,
      "metadata": {
        "id": "wf55jHGMLCLa"
      },
      "outputs": [],
      "source": [
        "lr_schedule = tf.keras.optimizers.schedules.InverseTimeDecay(\n",
        "  0.001,\n",
        "  decay_steps=STEPS_PER_EPOCH*1000,\n",
        "  decay_rate=1,\n",
        "  staircase=False)\n",
        "\n",
        "def get_optimizer():\n",
        "  return tf.keras.optimizers.Adam(lr_schedule)"
      ]
    },
    {
      "cell_type": "code",
      "execution_count": 29,
      "metadata": {
        "id": "VKq_1EjtLCLa",
        "outputId": "02de7e2c-e806-4d56-b024-7b5b3b410079",
        "colab": {
          "base_uri": "https://localhost:8080/",
          "height": 279
        }
      },
      "outputs": [
        {
          "output_type": "display_data",
          "data": {
            "text/plain": [
              "<Figure size 432x288 with 1 Axes>"
            ],
            "image/png": "[encoded data removed]"
          },
          "metadata": {
            "needs_background": "light"
          }
        }
      ],
      "source": [
        "step = np.linspace(0,100000)\n",
        "lr = lr_schedule(step)\n",
        "plt.figure(figsize = (6,4))\n",
        "plt.plot(step/STEPS_PER_EPOCH, lr)\n",
        "plt.ylim([0,max(plt.ylim())])\n",
        "plt.xlabel('Epoch')\n",
        "_ = plt.ylabel('Learning Rate')"
      ]
    },
    {
      "cell_type": "code",
      "execution_count": 30,
      "metadata": {
        "id": "0WZH-g6WFEwO"
      },
      "outputs": [],
      "source": [
        "#lrs = 1e-4 * (10 ** (tf.range(40)/20))\n",
        "#plt.figure(figsize=(6,4))\n",
        "#plt.semilogx(lrs, history.history['loss'])\n",
        "#plt.xlabel(\"Learning Rate\")\n",
        "#plt.ylabel(\"Loss\")\n",
        "#plt.title(\"Learning Rate vs Loss\")"
      ]
    },
    {
      "cell_type": "markdown",
      "metadata": {
        "id": "NK8p0c3nLCLb"
      },
      "source": [
        "### Settings for automation"
      ]
    },
    {
      "cell_type": "code",
      "execution_count": 31,
      "metadata": {
        "id": "VQ97kuVfLCLb"
      },
      "outputs": [],
      "source": [
        "def get_callbacks(name):\n",
        "  return [\n",
        "    tfdocs.modeling.EpochDots(),\n",
        "    tf.keras.callbacks.EarlyStopping(monitor='accuracy', patience=200),\n",
        "    tf.keras.callbacks.TensorBoard(os.path.join(logdir,name)),\n",
        "  ]"
      ]
    },
    {
      "cell_type": "code",
      "execution_count": 32,
      "metadata": {
        "id": "W7ElH1RmLCLb"
      },
      "outputs": [],
      "source": [
        "def compile_and_fit(model, name, loss=None, optimizer=None, metrics = None, max_epochs=10000):\n",
        "  if optimizer is None:\n",
        "    optimizer = get_optimizer()\n",
        "\n",
        "  if loss is None:\n",
        "    loss = tf.keras.losses.BinaryCrossentropy(from_logits=True)\n",
        "  if metrics is None:\n",
        "    metrics = ['accuracy']\n",
        "  model.compile(\n",
        "      optimizer=optimizer,\n",
        "      loss=loss,\n",
        "      metrics=metrics\n",
        "  )\n",
        "\n",
        "  model.summary()\n",
        "\n",
        "  history = model.fit(\n",
        "    X_train,\n",
        "    y_train,\n",
        "    steps_per_epoch = STEPS_PER_EPOCH,\n",
        "    epochs=max_epochs,\n",
        "    validation_split=0.1,\n",
        "    #validation_data=[X_test, y_test],\n",
        "    callbacks=get_callbacks(name),\n",
        "    verbose=0)\n",
        "  return history"
      ]
    },
    {
      "cell_type": "markdown",
      "metadata": {
        "id": "NV0z2Cl6LCLc"
      },
      "source": [
        "### Models"
      ]
    },
    {
      "cell_type": "code",
      "execution_count": 33,
      "metadata": {
        "id": "ITfZLJL8LCLc"
      },
      "outputs": [],
      "source": [
        "size_histories = {}"
      ]
    },
    {
      "cell_type": "markdown",
      "metadata": {
        "id": "5BjBpcrbLCLc"
      },
      "source": [
        "#### Model 1\n",
        "\n",
        "Simple model with 3 layers"
      ]
    },
    {
      "cell_type": "code",
      "execution_count": 34,
      "metadata": {
        "id": "X7fDA2S_LCLd"
      },
      "outputs": [],
      "source": [
        "model_1 = tf.keras.Sequential([\n",
        "    layers.Dense(4, activation='elu', input_shape=(FEATURES,)),\n",
        "    layers.Dense(41)\n",
        "])"
      ]
    },
    {
      "cell_type": "code",
      "execution_count": 35,
      "metadata": {
        "id": "LpQoT7eZLCLd",
        "outputId": "dacf5d08-29e0-40f8-a72e-e5b4415a59e7",
        "colab": {
          "base_uri": "https://localhost:8080/"
        }
      },
      "outputs": [
        {
          "output_type": "stream",
          "name": "stdout",
          "text": [
            "Model: \"sequential\"\n",
            "_________________________________________________________________\n",
            " Layer (type)                Output Shape              Param #   \n",
            "=================================================================\n",
            " dense (Dense)               (None, 4)                 532       \n",
            "                                                                 \n",
            " dense_1 (Dense)             (None, 41)                205       \n",
            "                                                                 \n",
            "=================================================================\n",
            "Total params: 737\n",
            "Trainable params: 737\n",
            "Non-trainable params: 0\n",
            "_________________________________________________________________\n",
            "\n",
            "Epoch: 0, accuracy:0.0528,  loss:9.0343,  val_accuracy:0.0355,  val_loss:7.9728,  \n",
            "....................................................................................................\n",
            "Epoch: 100, accuracy:0.3659,  loss:2.8343,  val_accuracy:0.3832,  val_loss:2.7463,  \n",
            "....................................................................................................\n",
            "Epoch: 200, accuracy:0.2998,  loss:2.9671,  val_accuracy:0.3223,  val_loss:2.8936,  \n",
            ".............."
          ]
        }
      ],
      "source": [
        "size_histories['model1'] = compile_and_fit(\n",
        "    model_1, \n",
        "    'models/model1', \n",
        "    loss=tf.keras.losses.SparseCategoricalCrossentropy()\n",
        ")"
      ]
    },
    {
      "cell_type": "markdown",
      "metadata": {
        "id": "30oZZIFTLCLd"
      },
      "source": [
        "#### Model 2"
      ]
    },
    {
      "cell_type": "code",
      "execution_count": 36,
      "metadata": {
        "id": "fYcXqSJjLCLd",
        "outputId": "8d2becbb-6a59-45fe-d735-ad84e259a033",
        "colab": {
          "base_uri": "https://localhost:8080/"
        }
      },
      "outputs": [
        {
          "output_type": "stream",
          "name": "stdout",
          "text": [
            "Epoch 1/40\n",
            "123/123 [==============================] - 1s 2ms/step - loss: 3.7144 - accuracy: 0.0333 - lr: 1.0000e-04\n",
            "Epoch 2/40\n",
            "123/123 [==============================] - 0s 2ms/step - loss: 3.7080 - accuracy: 0.0630 - lr: 1.1220e-04\n",
            "Epoch 3/40\n",
            "123/123 [==============================] - 0s 2ms/step - loss: 3.7005 - accuracy: 0.0689 - lr: 1.2589e-04\n",
            "Epoch 4/40\n",
            "123/123 [==============================] - 0s 2ms/step - loss: 3.6905 - accuracy: 0.0655 - lr: 1.4125e-04\n",
            "Epoch 5/40\n",
            "123/123 [==============================] - 0s 2ms/step - loss: 3.6754 - accuracy: 0.0716 - lr: 1.5849e-04\n",
            "Epoch 6/40\n",
            "123/123 [==============================] - 0s 2ms/step - loss: 3.6506 - accuracy: 0.0577 - lr: 1.7783e-04\n",
            "Epoch 7/40\n",
            "123/123 [==============================] - 0s 2ms/step - loss: 3.6069 - accuracy: 0.0633 - lr: 1.9953e-04\n",
            "Epoch 8/40\n",
            "123/123 [==============================] - 0s 2ms/step - loss: 3.5369 - accuracy: 0.0838 - lr: 2.2387e-04\n",
            "Epoch 9/40\n",
            "123/123 [==============================] - 0s 2ms/step - loss: 3.4387 - accuracy: 0.0871 - lr: 2.5119e-04\n",
            "Epoch 10/40\n",
            "123/123 [==============================] - 0s 2ms/step - loss: 3.3179 - accuracy: 0.0737 - lr: 2.8184e-04\n",
            "Epoch 11/40\n",
            "123/123 [==============================] - 0s 2ms/step - loss: 3.1865 - accuracy: 0.0833 - lr: 3.1623e-04\n",
            "Epoch 12/40\n",
            "123/123 [==============================] - 0s 2ms/step - loss: 3.0552 - accuracy: 0.0983 - lr: 3.5481e-04\n",
            "Epoch 13/40\n",
            "123/123 [==============================] - 0s 2ms/step - loss: 2.9288 - accuracy: 0.1192 - lr: 3.9811e-04\n",
            "Epoch 14/40\n",
            "123/123 [==============================] - 0s 2ms/step - loss: 2.8049 - accuracy: 0.1456 - lr: 4.4668e-04\n",
            "Epoch 15/40\n",
            "123/123 [==============================] - 0s 2ms/step - loss: 2.6793 - accuracy: 0.1778 - lr: 5.0119e-04\n",
            "Epoch 16/40\n",
            "123/123 [==============================] - 0s 2ms/step - loss: 2.5515 - accuracy: 0.1961 - lr: 5.6234e-04\n",
            "Epoch 17/40\n",
            "123/123 [==============================] - 0s 2ms/step - loss: 2.4223 - accuracy: 0.2040 - lr: 6.3096e-04\n",
            "Epoch 18/40\n",
            "123/123 [==============================] - 0s 2ms/step - loss: 2.2867 - accuracy: 0.2228 - lr: 7.0795e-04\n",
            "Epoch 19/40\n",
            "123/123 [==============================] - 0s 2ms/step - loss: 2.1360 - accuracy: 0.2477 - lr: 7.9433e-04\n",
            "Epoch 20/40\n",
            "123/123 [==============================] - 0s 2ms/step - loss: 1.9749 - accuracy: 0.2810 - lr: 8.9125e-04\n",
            "Epoch 21/40\n",
            "123/123 [==============================] - 0s 2ms/step - loss: 1.7915 - accuracy: 0.3468 - lr: 0.0010\n",
            "Epoch 22/40\n",
            "123/123 [==============================] - 0s 2ms/step - loss: 1.5871 - accuracy: 0.4197 - lr: 0.0011\n",
            "Epoch 23/40\n",
            "123/123 [==============================] - 0s 2ms/step - loss: 1.3896 - accuracy: 0.5036 - lr: 0.0013\n",
            "Epoch 24/40\n",
            "123/123 [==============================] - 0s 2ms/step - loss: 1.2066 - accuracy: 0.5912 - lr: 0.0014\n",
            "Epoch 25/40\n",
            "123/123 [==============================] - 0s 2ms/step - loss: 1.0398 - accuracy: 0.7193 - lr: 0.0016\n",
            "Epoch 26/40\n",
            "123/123 [==============================] - 0s 2ms/step - loss: 0.8618 - accuracy: 0.8001 - lr: 0.0018\n",
            "Epoch 27/40\n",
            "123/123 [==============================] - 0s 2ms/step - loss: 0.6705 - accuracy: 0.8854 - lr: 0.0020\n",
            "Epoch 28/40\n",
            "123/123 [==============================] - 0s 2ms/step - loss: 0.5119 - accuracy: 0.9418 - lr: 0.0022\n",
            "Epoch 29/40\n",
            "123/123 [==============================] - 0s 2ms/step - loss: 0.3921 - accuracy: 0.9662 - lr: 0.0025\n",
            "Epoch 30/40\n",
            "123/123 [==============================] - 0s 2ms/step - loss: 0.3029 - accuracy: 0.9774 - lr: 0.0028\n",
            "Epoch 31/40\n",
            "123/123 [==============================] - 0s 2ms/step - loss: 0.2369 - accuracy: 0.9815 - lr: 0.0032\n",
            "Epoch 32/40\n",
            "123/123 [==============================] - 0s 2ms/step - loss: 0.1837 - accuracy: 0.9835 - lr: 0.0035\n",
            "Epoch 33/40\n",
            "123/123 [==============================] - 0s 2ms/step - loss: 0.1459 - accuracy: 0.9853 - lr: 0.0040\n",
            "Epoch 34/40\n",
            "123/123 [==============================] - 0s 2ms/step - loss: 0.1154 - accuracy: 0.9888 - lr: 0.0045\n",
            "Epoch 35/40\n",
            "123/123 [==============================] - 0s 2ms/step - loss: 0.0954 - accuracy: 0.9903 - lr: 0.0050\n",
            "Epoch 36/40\n",
            "123/123 [==============================] - 0s 2ms/step - loss: 0.0755 - accuracy: 0.9929 - lr: 0.0056\n",
            "Epoch 37/40\n",
            "123/123 [==============================] - 0s 2ms/step - loss: 0.0665 - accuracy: 0.9919 - lr: 0.0063\n",
            "Epoch 38/40\n",
            "123/123 [==============================] - 0s 2ms/step - loss: 0.0588 - accuracy: 0.9916 - lr: 0.0071\n",
            "Epoch 39/40\n",
            "123/123 [==============================] - 0s 2ms/step - loss: 0.0425 - accuracy: 0.9962 - lr: 0.0079\n",
            "Epoch 40/40\n",
            "123/123 [==============================] - 0s 2ms/step - loss: 0.0409 - accuracy: 0.9944 - lr: 0.0089\n"
          ]
        }
      ],
      "source": [
        "\n",
        "\n",
        "model = tf.keras.Sequential([\n",
        "    tf.keras.layers.Dense(4, activation=tf.keras.activations.relu),\n",
        "    tf.keras.layers.Dense(4, activation=tf.keras.activations.relu),\n",
        "    tf.keras.layers.Dense(41, activation=tf.keras.activations.softmax)\n",
        "])\n",
        "\n",
        "model.compile(loss=tf.keras.losses.SparseCategoricalCrossentropy(),\n",
        "                optimizer = tf.keras.optimizers.Adam(),\n",
        "                #metrics=['MultiClassConfusionMatrixPlot'])\n",
        "                metrics=[\"accuracy\"])\n",
        "\n",
        "scheduler = tf.keras.callbacks.LearningRateScheduler(lambda epoch: 1e-4 * 10 **(epoch/20))\n",
        "\n",
        "history = model.fit(X_train, y_train, epochs=40, callbacks=[scheduler])"
      ]
    },
    {
      "cell_type": "markdown",
      "metadata": {
        "jp-MarkdownHeadingCollapsed": true,
        "tags": [],
        "id": "WLjyeF_2LCLd"
      },
      "source": [
        "#### Model 3"
      ]
    },
    {
      "cell_type": "markdown",
      "metadata": {
        "id": "9ps8ybEALCLe"
      },
      "source": [
        "#### Model 4"
      ]
    },
    {
      "cell_type": "markdown",
      "metadata": {
        "id": "LvCmEw1cLCLe"
      },
      "source": [
        "#### Model 5"
      ]
    },
    {
      "cell_type": "markdown",
      "metadata": {
        "id": "jYdbNB_tGtak"
      },
      "source": [
        "### 3. Evaluate Model"
      ]
    },
    {
      "cell_type": "markdown",
      "metadata": {
        "id": "D-HLBIrDIi8E"
      },
      "source": [
        "#### Evaluate with test data"
      ]
    },
    {
      "cell_type": "code",
      "execution_count": 37,
      "metadata": {
        "colab": {
          "base_uri": "https://localhost:8080/"
        },
        "id": "pvcKrMrFGtuW",
        "outputId": "a5e75dfd-c819-48cd-a062-8a05bf187541"
      },
      "outputs": [
        {
          "output_type": "stream",
          "name": "stdout",
          "text": [
            "31/31 [==============================] - 0s 1ms/step - loss: 2.9701 - accuracy: 0.2917\n",
            "Model Loss (Test Set) : 2.970146417617798\n",
            "Model Accuracy (Test Set): 0.2916666567325592\n"
          ]
        }
      ],
      "source": [
        "loss, acc = model_1.evaluate(X_test, y_test)\n",
        "print(f\"Model Loss (Test Set) : {loss}\")\n",
        "print(f\"Model Accuracy (Test Set): {acc}\")"
      ]
    },
    {
      "cell_type": "markdown",
      "metadata": {
        "id": "FyqLRD8tIqaO"
      },
      "source": [
        "#### Evaluate with unseen data"
      ]
    },
    {
      "cell_type": "code",
      "execution_count": 38,
      "metadata": {
        "colab": {
          "base_uri": "https://localhost:8080/"
        },
        "id": "5berObg_IsXF",
        "outputId": "362e2e80-e01a-4c7b-d1f5-627f25e5d8ef"
      },
      "outputs": [
        {
          "output_type": "stream",
          "name": "stdout",
          "text": [
            "2/2 [==============================] - 0s 7ms/step - loss: 0.2755 - accuracy: 0.9762\n",
            "Model Loss (Unseen Data Set) : 0.2755151689052582\n",
            "Model Accuracy (Unseen Data Set): 0.976190447807312\n"
          ]
        }
      ],
      "source": [
        "loss, acc = model.evaluate(X_unseen, y_unseen)\n",
        "print(f\"Model Loss (Unseen Data Set) : {loss}\")\n",
        "print(f\"Model Accuracy (Unseen Data Set): {acc}\")"
      ]
    },
    {
      "cell_type": "markdown",
      "metadata": {
        "id": "ltyV6aoxFPVI"
      },
      "source": [
        "## 3. Testing"
      ]
    },
    {
      "cell_type": "markdown",
      "metadata": {
        "id": "uT95QTFQFZdy"
      },
      "source": [
        "#### Test Set"
      ]
    },
    {
      "cell_type": "code",
      "execution_count": 39,
      "metadata": {
        "colab": {
          "base_uri": "https://localhost:8080/"
        },
        "id": "4LASSB5oFR86",
        "outputId": "779b4700-aaf0-4d8b-a10f-9867b7a4727e"
      },
      "outputs": [
        {
          "output_type": "stream",
          "name": "stdout",
          "text": [
            "31/31 [==============================] - 0s 1ms/step\n"
          ]
        },
        {
          "output_type": "execute_result",
          "data": {
            "text/plain": [
              "array([1.87355596e-28, 0.00000000e+00, 1.12177086e-05, 0.00000000e+00,\n",
              "       0.00000000e+00, 8.94049706e-33, 0.00000000e+00, 0.00000000e+00,\n",
              "       1.56602437e-35, 0.00000000e+00, 0.00000000e+00, 1.20466535e-08,\n",
              "       0.00000000e+00, 0.00000000e+00, 1.37545760e-06, 0.00000000e+00,\n",
              "       4.34752330e-02, 4.33702315e-24, 0.00000000e+00, 1.55197881e-18,\n",
              "       8.27619111e-16, 1.10837941e-33, 0.00000000e+00, 0.00000000e+00,\n",
              "       0.00000000e+00, 0.00000000e+00, 0.00000000e+00, 0.00000000e+00,\n",
              "       0.00000000e+00, 0.00000000e+00, 0.00000000e+00, 8.58278759e-03,\n",
              "       0.00000000e+00, 0.00000000e+00, 0.00000000e+00, 4.08066152e-14,\n",
              "       0.00000000e+00, 0.00000000e+00, 1.23992190e-16, 9.47929323e-01,\n",
              "       8.28681433e-29], dtype=float32)"
            ]
          },
          "metadata": {},
          "execution_count": 39
        }
      ],
      "source": [
        "### Test set\n",
        "predictions = model.predict(X_test)\n",
        "predictions[0]"
      ]
    },
    {
      "cell_type": "code",
      "execution_count": 40,
      "metadata": {
        "id": "nar-gUFaFwFI"
      },
      "outputs": [],
      "source": [
        "result = class_names[tf.argmax(predictions, axis=1)]\n"
      ]
    },
    {
      "cell_type": "markdown",
      "metadata": {
        "id": "TzrwsdBoISwK"
      },
      "source": [
        "#### Unseen Test Data"
      ]
    },
    {
      "cell_type": "code",
      "execution_count": 41,
      "metadata": {
        "colab": {
          "base_uri": "https://localhost:8080/"
        },
        "id": "L_WPT2W_IUMl",
        "outputId": "a7db2030-46c1-4690-d32a-0f7cba71e3e1"
      },
      "outputs": [
        {
          "output_type": "stream",
          "name": "stdout",
          "text": [
            "2/2 [==============================] - 0s 5ms/step\n"
          ]
        },
        {
          "output_type": "execute_result",
          "data": {
            "text/plain": [
              "array([[1.3315416e-07, 0.0000000e+00, 1.5034732e-17, ..., 0.0000000e+00,\n",
              "        1.2599960e-38, 0.0000000e+00],\n",
              "       [5.9846997e-25, 0.0000000e+00, 1.2424171e-25, ..., 2.4755610e-12,\n",
              "        9.5179368e-29, 7.1482333e-08],\n",
              "       [2.5188620e-14, 0.0000000e+00, 4.6044679e-05, ..., 1.3000131e-04,\n",
              "        1.2744000e-03, 1.8888976e-08],\n",
              "       ...,\n",
              "       [7.3252084e-20, 0.0000000e+00, 1.4860669e-06, ..., 3.9428767e-34,\n",
              "        7.1116526e-09, 0.0000000e+00],\n",
              "       [8.2774137e-17, 8.9279941e-16, 0.0000000e+00, ..., 0.0000000e+00,\n",
              "        0.0000000e+00, 0.0000000e+00],\n",
              "       [1.6280363e-07, 0.0000000e+00, 5.6451677e-07, ..., 1.7108356e-31,\n",
              "        1.3561726e-17, 1.0487157e-34]], dtype=float32)"
            ]
          },
          "metadata": {},
          "execution_count": 41
        }
      ],
      "source": [
        "prediction_unseen_data = model.predict(X_unseen)\n",
        "prediction_unseen_data"
      ]
    },
    {
      "cell_type": "code",
      "execution_count": 42,
      "metadata": {
        "colab": {
          "base_uri": "https://localhost:8080/"
        },
        "id": "HfzRfrZFK3ij",
        "outputId": "45e257b3-a729-4f5f-b6fc-75308619158b"
      },
      "outputs": [
        {
          "output_type": "execute_result",
          "data": {
            "text/plain": [
              "array(['Fungal infection', 'Allergy', 'GERD', 'Chronic cholestasis',\n",
              "       'Drug Reaction', 'Peptic ulcer diseae', 'AIDS', 'Diabetes ',\n",
              "       'Gastroenteritis', 'Bronchial Asthma', 'Hypertension ', 'Migraine',\n",
              "       'Cervical spondylosis', 'Paralysis (brain hemorrhage)', 'Jaundice',\n",
              "       'Malaria', 'Chicken pox', 'Dengue', 'Typhoid', 'hepatitis A',\n",
              "       'Hepatitis B', 'Hepatitis C', 'Hepatitis D', 'Hepatitis E',\n",
              "       'Alcoholic hepatitis', 'Tuberculosis', 'Common Cold', 'Pneumonia',\n",
              "       'Dimorphic hemmorhoids(piles)', 'Heart attack', 'Varicose veins',\n",
              "       'Hypothyroidism', 'Hyperthyroidism', 'Hypoglycemia',\n",
              "       'Osteoarthristis', 'Arthritis',\n",
              "       '(vertigo) Paroymsal  Positional Vertigo', 'Acne',\n",
              "       'Urinary tract infection', 'Psoriasis', 'Impetigo', 'Diabetes '],\n",
              "      dtype=object)"
            ]
          },
          "metadata": {},
          "execution_count": 42
        }
      ],
      "source": [
        "result = class_names[tf.argmax(prediction_unseen_data, axis=1)]\n",
        "result"
      ]
    },
    {
      "cell_type": "markdown",
      "metadata": {
        "id": "T9ZkcLmlFcri"
      },
      "source": [
        "### Correlation Matrix"
      ]
    },
    {
      "cell_type": "code",
      "execution_count": 43,
      "metadata": {
        "id": "Qu8R1mz2FeYK"
      },
      "outputs": [],
      "source": [
        "#plt.figure(figsize=(25,12))\n",
        "\n",
        "#sns.heatmap(disease_training.corr().abs(), annot=True)\n"
      ]
    },
    {
      "cell_type": "code",
      "execution_count": 43,
      "metadata": {
        "id": "-9MRBbsKLCLi"
      },
      "outputs": [],
      "source": []
    },
    {
      "cell_type": "code",
      "execution_count": 43,
      "metadata": {
        "id": "YCesGWZaLCLi"
      },
      "outputs": [],
      "source": []
    }
  ],
  "metadata": {
    "colab": {
      "provenance": [],
      "include_colab_link": true
    },
    "kernelspec": {
      "display_name": "Python 3 (ipykernel)",
      "language": "python",
      "name": "python3"
    },
    "language_info": {
      "codemirror_mode": {
        "name": "ipython",
        "version": 3
      },
      "file_extension": ".py",
      "mimetype": "text/x-python",
      "name": "python",
      "nbconvert_exporter": "python",
      "pygments_lexer": "ipython3",
      "version": "3.10.8"
    }
  },
  "nbformat": 4,
  "nbformat_minor": 0
}