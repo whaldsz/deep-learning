{
 "cells": [
  {
   "cell_type": "markdown",
   "metadata": {
    "colab_type": "text",
    "id": "view-in-github"
   },
   "source": [
    "<a href=\"https://colab.research.google.com/github/whaldsz/deep-learning/blob/main/Disease_Indicators_Prediction_v3.ipynb\" target=\"_parent\"><img src=\"https://colab.research.google.com/assets/colab-badge.svg\" alt=\"Open In Colab\"/></a>"
   ]
  },
  {
   "cell_type": "markdown",
   "metadata": {
    "id": "jScRtiZxMfL9"
   },
   "source": [
    "# Disease Prediction\n",
    "\n"
   ]
  },
  {
   "cell_type": "markdown",
   "metadata": {
    "id": "eA0-wujXMwEE"
   },
   "source": [
    "## Setup and initialization"
   ]
  },
  {
   "cell_type": "code",
   "execution_count": 1,
   "metadata": {
    "colab": {
     "base_uri": "https://localhost:8080/"
    },
    "id": "14juYhy7Mp4O",
    "outputId": "0925ff67-730d-4951-eb74-bf35091eed5e"
   },
   "outputs": [
    {
     "name": "stderr",
     "output_type": "stream",
     "text": [
      "Traceback (most recent call last):\n",
      "  File \"C:\\Users\\whald\\anaconda3\\Scripts\\pip-script.py\", line 10, in <module>\n",
      "    sys.exit(main())\n",
      "  File \"C:\\Users\\whald\\anaconda3\\lib\\site-packages\\pip\\_internal\\cli\\main.py\", line 70, in main\n",
      "    return command.main(cmd_args)\n",
      "  File \"C:\\Users\\whald\\anaconda3\\lib\\site-packages\\pip\\_internal\\cli\\base_command.py\", line 101, in main\n",
      "    return self._main(args)\n",
      "  File \"C:\\Users\\whald\\anaconda3\\lib\\contextlib.py\", line 126, in __exit__\n",
      "    next(self.gen)\n",
      "  File \"C:\\Users\\whald\\anaconda3\\lib\\site-packages\\pip\\_internal\\cli\\command_context.py\", line 20, in main_context\n",
      "    yield\n",
      "  File \"C:\\Users\\whald\\anaconda3\\lib\\contextlib.py\", line 532, in __exit__\n",
      "    raise exc_details[1]\n",
      "  File \"C:\\Users\\whald\\anaconda3\\lib\\contextlib.py\", line 137, in __exit__\n",
      "    self.gen.throw(typ, value, traceback)\n",
      "  File \"C:\\Users\\whald\\anaconda3\\lib\\site-packages\\pip\\_internal\\utils\\temp_dir.py\", line 70, in tempdir_registry\n",
      "    yield _tempdir_registry\n",
      "  File \"C:\\Users\\whald\\anaconda3\\lib\\contextlib.py\", line 517, in __exit__\n",
      "    if cb(*exc_details):\n",
      "  File \"C:\\Users\\whald\\anaconda3\\lib\\contextlib.py\", line 126, in __exit__\n",
      "    next(self.gen)\n",
      "  File \"C:\\Users\\whald\\anaconda3\\lib\\site-packages\\pip\\_internal\\utils\\temp_dir.py\", line 36, in global_tempdir_manager\n",
      "    _tempdir_manager = old_tempdir_manager\n",
      "  File \"C:\\Users\\whald\\anaconda3\\lib\\contextlib.py\", line 532, in __exit__\n",
      "    raise exc_details[1]\n",
      "  File \"C:\\Users\\whald\\anaconda3\\lib\\contextlib.py\", line 517, in __exit__\n",
      "    if cb(*exc_details):\n",
      "  File \"C:\\Users\\whald\\anaconda3\\lib\\site-packages\\pip\\_internal\\utils\\temp_dir.py\", line 156, in __exit__\n",
      "    self.cleanup()\n",
      "  File \"C:\\Users\\whald\\anaconda3\\lib\\site-packages\\pip\\_internal\\utils\\temp_dir.py\", line 173, in cleanup\n",
      "    rmtree(self._path)\n",
      "  File \"C:\\Users\\whald\\anaconda3\\lib\\site-packages\\pip\\_vendor\\tenacity\\__init__.py\", line 326, in wrapped_f\n",
      "    return self(f, *args, **kw)\n",
      "  File \"C:\\Users\\whald\\anaconda3\\lib\\site-packages\\pip\\_vendor\\tenacity\\__init__.py\", line 406, in __call__\n",
      "    do = self.iter(retry_state=retry_state)\n",
      "  File \"C:\\Users\\whald\\anaconda3\\lib\\site-packages\\pip\\_vendor\\tenacity\\__init__.py\", line 362, in iter\n",
      "    raise retry_exc.reraise()\n",
      "  File \"C:\\Users\\whald\\anaconda3\\lib\\site-packages\\pip\\_vendor\\tenacity\\__init__.py\", line 195, in reraise\n",
      "    raise self.last_attempt.result()\n",
      "  File \"C:\\Users\\whald\\anaconda3\\lib\\concurrent\\futures\\_base.py\", line 439, in result\n",
      "    return self.__get_result()\n",
      "  File \"C:\\Users\\whald\\anaconda3\\lib\\concurrent\\futures\\_base.py\", line 391, in __get_result\n",
      "    raise self._exception\n",
      "  File \"C:\\Users\\whald\\anaconda3\\lib\\site-packages\\pip\\_vendor\\tenacity\\__init__.py\", line 409, in __call__\n",
      "    result = fn(*args, **kwargs)\n",
      "  File \"C:\\Users\\whald\\anaconda3\\lib\\site-packages\\pip\\_internal\\utils\\misc.py\", line 128, in rmtree\n",
      "    shutil.rmtree(dir, ignore_errors=ignore_errors, onerror=rmtree_errorhandler)\n",
      "  File \"C:\\Users\\whald\\anaconda3\\lib\\shutil.py\", line 759, in rmtree\n",
      "    return _rmtree_unsafe(path, onerror)\n",
      "  File \"C:\\Users\\whald\\anaconda3\\lib\\shutil.py\", line 624, in _rmtree_unsafe\n",
      "    _rmtree_unsafe(fullname, onerror)\n",
      "  File \"C:\\Users\\whald\\anaconda3\\lib\\shutil.py\", line 624, in _rmtree_unsafe\n",
      "    _rmtree_unsafe(fullname, onerror)\n",
      "  File \"C:\\Users\\whald\\anaconda3\\lib\\shutil.py\", line 624, in _rmtree_unsafe\n",
      "    _rmtree_unsafe(fullname, onerror)\n",
      "  File \"C:\\Users\\whald\\anaconda3\\lib\\shutil.py\", line 629, in _rmtree_unsafe\n",
      "    onerror(os.unlink, fullname, sys.exc_info())\n",
      "  File \"C:\\Users\\whald\\anaconda3\\lib\\shutil.py\", line 627, in _rmtree_unsafe\n",
      "    os.unlink(fullname)\n",
      "PermissionError: [WinError 32] The process cannot access the file because it is being used by another process: 'C:\\\\Users\\\\whald\\\\AppData\\\\Local\\\\Temp\\\\pip-req-build-7yjb7p9f\\\\tools\\\\tensorflow_docs\\\\vis\\\\__init__.py'\n"
     ]
    },
    {
     "name": "stdout",
     "output_type": "stream",
     "text": [
      "TensorFlow version:: 2.11.0\n"
     ]
    }
   ],
   "source": [
    "import numpy as np\n",
    "import pandas as pd\n",
    "import random\n",
    "import matplotlib.pyplot as plt\n",
    "import seaborn as sns\n",
    "import tensorflow as tf\n",
    "from tensorflow import keras\n",
    "from tensorflow.keras import layers\n",
    "from tensorflow import math\n",
    "\n",
    "from sklearn.compose import make_column_transformer\n",
    "from sklearn.preprocessing import MinMaxScaler, OneHotEncoder\n",
    "from keras.utils.vis_utils import plot_model\n",
    "import os\n",
    "\n",
    "!pip install -q git+https://github.com/tensorflow/docs \n",
    "\n",
    "\n",
    "import tensorflow_docs as tfdocs\n",
    "import tensorflow_docs.modeling\n",
    "import tensorflow_docs.plots\n",
    "\n",
    "print(\"TensorFlow version::\", tf.__version__)\n",
    "\n",
    "\n",
    "from sklearn.model_selection import train_test_split"
   ]
  },
  {
   "cell_type": "code",
   "execution_count": 2,
   "metadata": {
    "id": "gP0r2kgZLCLS"
   },
   "outputs": [],
   "source": [
    "from  IPython import display\n",
    "from matplotlib import pyplot as plt\n",
    "\n",
    "import numpy as np\n",
    "\n",
    "import pathlib\n",
    "import shutil\n",
    "import tempfile"
   ]
  },
  {
   "cell_type": "code",
   "execution_count": 3,
   "metadata": {
    "id": "WgQPGyJXLCLS"
   },
   "outputs": [],
   "source": [
    "# currentdir\n",
    "logdir = os.path.join(os.getcwd(), \"tensorboard_logs\")\n",
    "shutil.rmtree(logdir, ignore_errors=True)"
   ]
  },
  {
   "cell_type": "code",
   "execution_count": 4,
   "metadata": {
    "id": "K4VnRI5aLCLT"
   },
   "outputs": [],
   "source": [
    "# set random seed\n",
    "\n",
    "tf.random.set_seed(74)"
   ]
  },
  {
   "cell_type": "markdown",
   "metadata": {
    "id": "wmYSJcWMSnZU"
   },
   "source": [
    "## 1. Dataset Preparation"
   ]
  },
  {
   "cell_type": "code",
   "execution_count": 5,
   "metadata": {
    "colab": {
     "base_uri": "https://localhost:8080/",
     "height": 404
    },
    "id": "Kx4tROB9MuM8",
    "outputId": "933d2e52-b59d-4e6b-ee0b-fd155c2f9ad9"
   },
   "outputs": [
    {
     "data": {
      "text/html": [
       "<div>\n",
       "<style scoped>\n",
       "    .dataframe tbody tr th:only-of-type {\n",
       "        vertical-align: middle;\n",
       "    }\n",
       "\n",
       "    .dataframe tbody tr th {\n",
       "        vertical-align: top;\n",
       "    }\n",
       "\n",
       "    .dataframe thead th {\n",
       "        text-align: right;\n",
       "    }\n",
       "</style>\n",
       "<table border=\"1\" class=\"dataframe\">\n",
       "  <thead>\n",
       "    <tr style=\"text-align: right;\">\n",
       "      <th></th>\n",
       "      <th>itching</th>\n",
       "      <th>skin_rash</th>\n",
       "      <th>nodal_skin_eruptions</th>\n",
       "      <th>continuous_sneezing</th>\n",
       "      <th>shivering</th>\n",
       "      <th>chills</th>\n",
       "      <th>joint_pain</th>\n",
       "      <th>stomach_pain</th>\n",
       "      <th>acidity</th>\n",
       "      <th>ulcers_on_tongue</th>\n",
       "      <th>...</th>\n",
       "      <th>scurring</th>\n",
       "      <th>skin_peeling</th>\n",
       "      <th>silver_like_dusting</th>\n",
       "      <th>small_dents_in_nails</th>\n",
       "      <th>inflammatory_nails</th>\n",
       "      <th>blister</th>\n",
       "      <th>red_sore_around_nose</th>\n",
       "      <th>yellow_crust_ooze</th>\n",
       "      <th>prognosis</th>\n",
       "      <th>Unnamed: 133</th>\n",
       "    </tr>\n",
       "  </thead>\n",
       "  <tbody>\n",
       "    <tr>\n",
       "      <th>0</th>\n",
       "      <td>1</td>\n",
       "      <td>1</td>\n",
       "      <td>1</td>\n",
       "      <td>0</td>\n",
       "      <td>0</td>\n",
       "      <td>0</td>\n",
       "      <td>0</td>\n",
       "      <td>0</td>\n",
       "      <td>0</td>\n",
       "      <td>0</td>\n",
       "      <td>...</td>\n",
       "      <td>0</td>\n",
       "      <td>0</td>\n",
       "      <td>0</td>\n",
       "      <td>0</td>\n",
       "      <td>0</td>\n",
       "      <td>0</td>\n",
       "      <td>0</td>\n",
       "      <td>0</td>\n",
       "      <td>Fungal infection</td>\n",
       "      <td>NaN</td>\n",
       "    </tr>\n",
       "    <tr>\n",
       "      <th>1</th>\n",
       "      <td>0</td>\n",
       "      <td>1</td>\n",
       "      <td>1</td>\n",
       "      <td>0</td>\n",
       "      <td>0</td>\n",
       "      <td>0</td>\n",
       "      <td>0</td>\n",
       "      <td>0</td>\n",
       "      <td>0</td>\n",
       "      <td>0</td>\n",
       "      <td>...</td>\n",
       "      <td>0</td>\n",
       "      <td>0</td>\n",
       "      <td>0</td>\n",
       "      <td>0</td>\n",
       "      <td>0</td>\n",
       "      <td>0</td>\n",
       "      <td>0</td>\n",
       "      <td>0</td>\n",
       "      <td>Fungal infection</td>\n",
       "      <td>NaN</td>\n",
       "    </tr>\n",
       "    <tr>\n",
       "      <th>2</th>\n",
       "      <td>1</td>\n",
       "      <td>0</td>\n",
       "      <td>1</td>\n",
       "      <td>0</td>\n",
       "      <td>0</td>\n",
       "      <td>0</td>\n",
       "      <td>0</td>\n",
       "      <td>0</td>\n",
       "      <td>0</td>\n",
       "      <td>0</td>\n",
       "      <td>...</td>\n",
       "      <td>0</td>\n",
       "      <td>0</td>\n",
       "      <td>0</td>\n",
       "      <td>0</td>\n",
       "      <td>0</td>\n",
       "      <td>0</td>\n",
       "      <td>0</td>\n",
       "      <td>0</td>\n",
       "      <td>Fungal infection</td>\n",
       "      <td>NaN</td>\n",
       "    </tr>\n",
       "    <tr>\n",
       "      <th>3</th>\n",
       "      <td>1</td>\n",
       "      <td>1</td>\n",
       "      <td>0</td>\n",
       "      <td>0</td>\n",
       "      <td>0</td>\n",
       "      <td>0</td>\n",
       "      <td>0</td>\n",
       "      <td>0</td>\n",
       "      <td>0</td>\n",
       "      <td>0</td>\n",
       "      <td>...</td>\n",
       "      <td>0</td>\n",
       "      <td>0</td>\n",
       "      <td>0</td>\n",
       "      <td>0</td>\n",
       "      <td>0</td>\n",
       "      <td>0</td>\n",
       "      <td>0</td>\n",
       "      <td>0</td>\n",
       "      <td>Fungal infection</td>\n",
       "      <td>NaN</td>\n",
       "    </tr>\n",
       "    <tr>\n",
       "      <th>4</th>\n",
       "      <td>1</td>\n",
       "      <td>1</td>\n",
       "      <td>1</td>\n",
       "      <td>0</td>\n",
       "      <td>0</td>\n",
       "      <td>0</td>\n",
       "      <td>0</td>\n",
       "      <td>0</td>\n",
       "      <td>0</td>\n",
       "      <td>0</td>\n",
       "      <td>...</td>\n",
       "      <td>0</td>\n",
       "      <td>0</td>\n",
       "      <td>0</td>\n",
       "      <td>0</td>\n",
       "      <td>0</td>\n",
       "      <td>0</td>\n",
       "      <td>0</td>\n",
       "      <td>0</td>\n",
       "      <td>Fungal infection</td>\n",
       "      <td>NaN</td>\n",
       "    </tr>\n",
       "  </tbody>\n",
       "</table>\n",
       "<p>5 rows × 134 columns</p>\n",
       "</div>"
      ],
      "text/plain": [
       "   itching  skin_rash  nodal_skin_eruptions  continuous_sneezing  shivering  \\\n",
       "0        1          1                     1                    0          0   \n",
       "1        0          1                     1                    0          0   \n",
       "2        1          0                     1                    0          0   \n",
       "3        1          1                     0                    0          0   \n",
       "4        1          1                     1                    0          0   \n",
       "\n",
       "   chills  joint_pain  stomach_pain  acidity  ulcers_on_tongue  ...  scurring  \\\n",
       "0       0           0             0        0                 0  ...         0   \n",
       "1       0           0             0        0                 0  ...         0   \n",
       "2       0           0             0        0                 0  ...         0   \n",
       "3       0           0             0        0                 0  ...         0   \n",
       "4       0           0             0        0                 0  ...         0   \n",
       "\n",
       "   skin_peeling  silver_like_dusting  small_dents_in_nails  \\\n",
       "0             0                    0                     0   \n",
       "1             0                    0                     0   \n",
       "2             0                    0                     0   \n",
       "3             0                    0                     0   \n",
       "4             0                    0                     0   \n",
       "\n",
       "   inflammatory_nails  blister  red_sore_around_nose  yellow_crust_ooze  \\\n",
       "0                   0        0                     0                  0   \n",
       "1                   0        0                     0                  0   \n",
       "2                   0        0                     0                  0   \n",
       "3                   0        0                     0                  0   \n",
       "4                   0        0                     0                  0   \n",
       "\n",
       "          prognosis  Unnamed: 133  \n",
       "0  Fungal infection           NaN  \n",
       "1  Fungal infection           NaN  \n",
       "2  Fungal infection           NaN  \n",
       "3  Fungal infection           NaN  \n",
       "4  Fungal infection           NaN  \n",
       "\n",
       "[5 rows x 134 columns]"
      ]
     },
     "execution_count": 5,
     "metadata": {},
     "output_type": "execute_result"
    }
   ],
   "source": [
    "disease_training = pd.read_csv('https://raw.githubusercontent.com/whaldsz/deep-learning/main/Disease_Prediction/Training.csv')\n",
    "disease_testing = pd.read_csv('https://raw.githubusercontent.com/whaldsz/deep-learning/main/Disease_Prediction/Testing.csv')\n",
    "disease_training.head()"
   ]
  },
  {
   "cell_type": "code",
   "execution_count": 6,
   "metadata": {
    "colab": {
     "base_uri": "https://localhost:8080/"
    },
    "id": "laCVlHFcMFkY",
    "outputId": "c4740029-323b-4306-9814-1da34d8bcdb3"
   },
   "outputs": [],
   "source": [
    "#from google.colab import drive\n",
    "#drive.mount('/content/drive')"
   ]
  },
  {
   "cell_type": "markdown",
   "metadata": {
    "id": "JYkWJhNtXhp0"
   },
   "source": [
    "#3 Remove last column"
   ]
  },
  {
   "cell_type": "code",
   "execution_count": 7,
   "metadata": {
    "colab": {
     "base_uri": "https://localhost:8080/"
    },
    "id": "NZghc-CaSjkK",
    "outputId": "11b37dcf-af62-4d1b-ac46-d437ec1b827f"
   },
   "outputs": [
    {
     "data": {
      "text/plain": [
       "itching                    0\n",
       "skin_rash                  0\n",
       "nodal_skin_eruptions       0\n",
       "continuous_sneezing        0\n",
       "shivering                  0\n",
       "                        ... \n",
       "blister                    0\n",
       "red_sore_around_nose       0\n",
       "yellow_crust_ooze          0\n",
       "prognosis                  0\n",
       "Unnamed: 133            4920\n",
       "Length: 134, dtype: int64"
      ]
     },
     "execution_count": 7,
     "metadata": {},
     "output_type": "execute_result"
    }
   ],
   "source": [
    "disease_training.isna().sum()"
   ]
  },
  {
   "cell_type": "markdown",
   "metadata": {
    "id": "v1v4EZLlaYXl"
   },
   "source": []
  },
  {
   "cell_type": "code",
   "execution_count": 8,
   "metadata": {
    "colab": {
     "base_uri": "https://localhost:8080/"
    },
    "id": "TYpm082zTDYz",
    "outputId": "6ff493c0-0784-43df-ce19-b6d50fb19a93"
   },
   "outputs": [
    {
     "data": {
      "text/plain": [
       "itching                 0\n",
       "skin_rash               0\n",
       "nodal_skin_eruptions    0\n",
       "continuous_sneezing     0\n",
       "shivering               0\n",
       "                       ..\n",
       "inflammatory_nails      0\n",
       "blister                 0\n",
       "red_sore_around_nose    0\n",
       "yellow_crust_ooze       0\n",
       "prognosis               0\n",
       "Length: 133, dtype: int64"
      ]
     },
     "execution_count": 8,
     "metadata": {},
     "output_type": "execute_result"
    }
   ],
   "source": [
    "disease_training.drop('Unnamed: 133', inplace=True, axis=1)\n",
    "\n",
    "disease_training.isna().sum()"
   ]
  },
  {
   "cell_type": "code",
   "execution_count": 9,
   "metadata": {
    "id": "hrU739NTTQHL"
   },
   "outputs": [],
   "source": [
    "#disease_training.head()"
   ]
  },
  {
   "cell_type": "markdown",
   "metadata": {
    "id": "Cg6O2vb5r_HE"
   },
   "source": [
    "## Convert category to numeric values"
   ]
  },
  {
   "cell_type": "code",
   "execution_count": 10,
   "metadata": {
    "colab": {
     "base_uri": "https://localhost:8080/"
    },
    "id": "KWF_gDOVsDEB",
    "outputId": "34f22ced-0cf2-413f-e68d-e96e9690c268"
   },
   "outputs": [
    {
     "data": {
      "text/plain": [
       "(41,)"
      ]
     },
     "execution_count": 10,
     "metadata": {},
     "output_type": "execute_result"
    }
   ],
   "source": [
    "#get class labels\n",
    "\n",
    "class_names = np.unique(disease_training.prognosis)\n",
    "disease_training.prognosis = pd.Categorical(disease_training.prognosis)\n",
    "disease_testing.prognosis = pd.Categorical(disease_testing.prognosis)\n",
    "class_names.shape"
   ]
  },
  {
   "cell_type": "code",
   "execution_count": 11,
   "metadata": {
    "id": "47Kx89y1tlDs"
   },
   "outputs": [],
   "source": [
    "#disease_training.prognosis.cat.codes\n",
    "#disease_training\n",
    "#disease_testing.head()"
   ]
  },
  {
   "cell_type": "markdown",
   "metadata": {
    "id": "oV6x9-0IactI"
   },
   "source": [
    "## Separate Features and Label - Training"
   ]
  },
  {
   "cell_type": "markdown",
   "metadata": {
    "id": "hz5pI7qjHLlZ"
   },
   "source": [
    "### Training Set"
   ]
  },
  {
   "cell_type": "code",
   "execution_count": 12,
   "metadata": {
    "colab": {
     "base_uri": "https://localhost:8080/"
    },
    "id": "Ats9rmYNaiES",
    "outputId": "e7d2c6bb-e6ab-44c2-9b1d-bdb74e146eec"
   },
   "outputs": [
    {
     "data": {
      "text/plain": [
       "array([ 0,  1,  2,  3,  4,  5,  6,  7,  8,  9, 10, 11, 12, 13, 14, 15, 16,\n",
       "       17, 18, 19, 20, 21, 22, 23, 24, 25, 26, 27, 28, 29, 30, 31, 32, 33,\n",
       "       34, 35, 36, 37, 38, 39, 40], dtype=int8)"
      ]
     },
     "execution_count": 12,
     "metadata": {},
     "output_type": "execute_result"
    }
   ],
   "source": [
    "X = disease_training.drop('prognosis', axis=1)\n",
    "y = disease_training.prognosis.cat.codes\n",
    "np.unique(y)"
   ]
  },
  {
   "cell_type": "markdown",
   "metadata": {
    "id": "YfkFrMKeHOtO"
   },
   "source": [
    "### Unseen Test Set"
   ]
  },
  {
   "cell_type": "code",
   "execution_count": 13,
   "metadata": {
    "colab": {
     "base_uri": "https://localhost:8080/"
    },
    "id": "_32AZ6XnHTZc",
    "outputId": "7fcd48a1-0ca4-422a-e7b2-53231760dee5"
   },
   "outputs": [
    {
     "data": {
      "text/plain": [
       "array([0, 1], dtype=int64)"
      ]
     },
     "execution_count": 13,
     "metadata": {},
     "output_type": "execute_result"
    }
   ],
   "source": [
    "X_unseen = disease_testing.drop('prognosis', axis=1)\n",
    "y_unseen = disease_testing.prognosis.cat.codes\n",
    "np.unique(X_unseen)"
   ]
  },
  {
   "cell_type": "markdown",
   "metadata": {
    "id": "Nkk4a6TO3ExZ"
   },
   "source": [
    "## Split into Training & Validation Test"
   ]
  },
  {
   "cell_type": "code",
   "execution_count": 14,
   "metadata": {
    "id": "bYRL_KPNcDcr"
   },
   "outputs": [],
   "source": [
    "X_train, X_test, y_train, y_test = train_test_split(X, y, test_size=0.2, random_state=74)\n",
    "#print(X_train.shape)\n",
    "#print(y_train.shape)\n",
    "#print(X_test.shape)\n",
    "#print(y_test.shape)\n"
   ]
  },
  {
   "cell_type": "code",
   "execution_count": null,
   "metadata": {
    "id": "hT2mzcHcLCLY"
   },
   "outputs": [],
   "source": []
  },
  {
   "cell_type": "code",
   "execution_count": 15,
   "metadata": {
    "colab": {
     "base_uri": "https://localhost:8080/",
     "height": 488
    },
    "id": "GrD6Ftlu6hSk",
    "outputId": "7219e880-6bc2-44b0-fc6b-40f5cd995504"
   },
   "outputs": [
    {
     "data": {
      "text/html": [
       "<div>\n",
       "<style scoped>\n",
       "    .dataframe tbody tr th:only-of-type {\n",
       "        vertical-align: middle;\n",
       "    }\n",
       "\n",
       "    .dataframe tbody tr th {\n",
       "        vertical-align: top;\n",
       "    }\n",
       "\n",
       "    .dataframe thead th {\n",
       "        text-align: right;\n",
       "    }\n",
       "</style>\n",
       "<table border=\"1\" class=\"dataframe\">\n",
       "  <thead>\n",
       "    <tr style=\"text-align: right;\">\n",
       "      <th></th>\n",
       "      <th>itching</th>\n",
       "      <th>skin_rash</th>\n",
       "      <th>nodal_skin_eruptions</th>\n",
       "      <th>continuous_sneezing</th>\n",
       "      <th>shivering</th>\n",
       "      <th>chills</th>\n",
       "      <th>joint_pain</th>\n",
       "      <th>stomach_pain</th>\n",
       "      <th>acidity</th>\n",
       "      <th>ulcers_on_tongue</th>\n",
       "      <th>...</th>\n",
       "      <th>pus_filled_pimples</th>\n",
       "      <th>blackheads</th>\n",
       "      <th>scurring</th>\n",
       "      <th>skin_peeling</th>\n",
       "      <th>silver_like_dusting</th>\n",
       "      <th>small_dents_in_nails</th>\n",
       "      <th>inflammatory_nails</th>\n",
       "      <th>blister</th>\n",
       "      <th>red_sore_around_nose</th>\n",
       "      <th>yellow_crust_ooze</th>\n",
       "    </tr>\n",
       "  </thead>\n",
       "  <tbody>\n",
       "    <tr>\n",
       "      <th>4007</th>\n",
       "      <td>0</td>\n",
       "      <td>0</td>\n",
       "      <td>0</td>\n",
       "      <td>0</td>\n",
       "      <td>0</td>\n",
       "      <td>0</td>\n",
       "      <td>0</td>\n",
       "      <td>0</td>\n",
       "      <td>0</td>\n",
       "      <td>0</td>\n",
       "      <td>...</td>\n",
       "      <td>0</td>\n",
       "      <td>0</td>\n",
       "      <td>0</td>\n",
       "      <td>0</td>\n",
       "      <td>0</td>\n",
       "      <td>0</td>\n",
       "      <td>0</td>\n",
       "      <td>0</td>\n",
       "      <td>0</td>\n",
       "      <td>0</td>\n",
       "    </tr>\n",
       "    <tr>\n",
       "      <th>1938</th>\n",
       "      <td>0</td>\n",
       "      <td>0</td>\n",
       "      <td>0</td>\n",
       "      <td>0</td>\n",
       "      <td>0</td>\n",
       "      <td>0</td>\n",
       "      <td>0</td>\n",
       "      <td>0</td>\n",
       "      <td>0</td>\n",
       "      <td>0</td>\n",
       "      <td>...</td>\n",
       "      <td>0</td>\n",
       "      <td>0</td>\n",
       "      <td>0</td>\n",
       "      <td>0</td>\n",
       "      <td>0</td>\n",
       "      <td>0</td>\n",
       "      <td>0</td>\n",
       "      <td>0</td>\n",
       "      <td>0</td>\n",
       "      <td>0</td>\n",
       "    </tr>\n",
       "    <tr>\n",
       "      <th>4462</th>\n",
       "      <td>0</td>\n",
       "      <td>0</td>\n",
       "      <td>0</td>\n",
       "      <td>0</td>\n",
       "      <td>0</td>\n",
       "      <td>0</td>\n",
       "      <td>1</td>\n",
       "      <td>0</td>\n",
       "      <td>0</td>\n",
       "      <td>0</td>\n",
       "      <td>...</td>\n",
       "      <td>0</td>\n",
       "      <td>0</td>\n",
       "      <td>0</td>\n",
       "      <td>0</td>\n",
       "      <td>0</td>\n",
       "      <td>0</td>\n",
       "      <td>0</td>\n",
       "      <td>0</td>\n",
       "      <td>0</td>\n",
       "      <td>0</td>\n",
       "    </tr>\n",
       "    <tr>\n",
       "      <th>3227</th>\n",
       "      <td>0</td>\n",
       "      <td>0</td>\n",
       "      <td>0</td>\n",
       "      <td>0</td>\n",
       "      <td>0</td>\n",
       "      <td>0</td>\n",
       "      <td>0</td>\n",
       "      <td>0</td>\n",
       "      <td>0</td>\n",
       "      <td>0</td>\n",
       "      <td>...</td>\n",
       "      <td>0</td>\n",
       "      <td>0</td>\n",
       "      <td>0</td>\n",
       "      <td>0</td>\n",
       "      <td>0</td>\n",
       "      <td>0</td>\n",
       "      <td>0</td>\n",
       "      <td>0</td>\n",
       "      <td>0</td>\n",
       "      <td>0</td>\n",
       "    </tr>\n",
       "    <tr>\n",
       "      <th>3889</th>\n",
       "      <td>0</td>\n",
       "      <td>0</td>\n",
       "      <td>0</td>\n",
       "      <td>0</td>\n",
       "      <td>0</td>\n",
       "      <td>0</td>\n",
       "      <td>0</td>\n",
       "      <td>0</td>\n",
       "      <td>0</td>\n",
       "      <td>0</td>\n",
       "      <td>...</td>\n",
       "      <td>0</td>\n",
       "      <td>0</td>\n",
       "      <td>0</td>\n",
       "      <td>0</td>\n",
       "      <td>0</td>\n",
       "      <td>0</td>\n",
       "      <td>0</td>\n",
       "      <td>0</td>\n",
       "      <td>0</td>\n",
       "      <td>0</td>\n",
       "    </tr>\n",
       "    <tr>\n",
       "      <th>...</th>\n",
       "      <td>...</td>\n",
       "      <td>...</td>\n",
       "      <td>...</td>\n",
       "      <td>...</td>\n",
       "      <td>...</td>\n",
       "      <td>...</td>\n",
       "      <td>...</td>\n",
       "      <td>...</td>\n",
       "      <td>...</td>\n",
       "      <td>...</td>\n",
       "      <td>...</td>\n",
       "      <td>...</td>\n",
       "      <td>...</td>\n",
       "      <td>...</td>\n",
       "      <td>...</td>\n",
       "      <td>...</td>\n",
       "      <td>...</td>\n",
       "      <td>...</td>\n",
       "      <td>...</td>\n",
       "      <td>...</td>\n",
       "      <td>...</td>\n",
       "    </tr>\n",
       "    <tr>\n",
       "      <th>111</th>\n",
       "      <td>0</td>\n",
       "      <td>0</td>\n",
       "      <td>0</td>\n",
       "      <td>0</td>\n",
       "      <td>0</td>\n",
       "      <td>0</td>\n",
       "      <td>0</td>\n",
       "      <td>0</td>\n",
       "      <td>0</td>\n",
       "      <td>0</td>\n",
       "      <td>...</td>\n",
       "      <td>0</td>\n",
       "      <td>0</td>\n",
       "      <td>0</td>\n",
       "      <td>0</td>\n",
       "      <td>0</td>\n",
       "      <td>0</td>\n",
       "      <td>0</td>\n",
       "      <td>0</td>\n",
       "      <td>0</td>\n",
       "      <td>0</td>\n",
       "    </tr>\n",
       "    <tr>\n",
       "      <th>3741</th>\n",
       "      <td>0</td>\n",
       "      <td>0</td>\n",
       "      <td>0</td>\n",
       "      <td>0</td>\n",
       "      <td>0</td>\n",
       "      <td>0</td>\n",
       "      <td>0</td>\n",
       "      <td>0</td>\n",
       "      <td>0</td>\n",
       "      <td>0</td>\n",
       "      <td>...</td>\n",
       "      <td>0</td>\n",
       "      <td>0</td>\n",
       "      <td>0</td>\n",
       "      <td>0</td>\n",
       "      <td>0</td>\n",
       "      <td>0</td>\n",
       "      <td>0</td>\n",
       "      <td>0</td>\n",
       "      <td>0</td>\n",
       "      <td>0</td>\n",
       "    </tr>\n",
       "    <tr>\n",
       "      <th>3280</th>\n",
       "      <td>1</td>\n",
       "      <td>1</td>\n",
       "      <td>1</td>\n",
       "      <td>0</td>\n",
       "      <td>0</td>\n",
       "      <td>0</td>\n",
       "      <td>0</td>\n",
       "      <td>0</td>\n",
       "      <td>0</td>\n",
       "      <td>0</td>\n",
       "      <td>...</td>\n",
       "      <td>0</td>\n",
       "      <td>0</td>\n",
       "      <td>0</td>\n",
       "      <td>0</td>\n",
       "      <td>0</td>\n",
       "      <td>0</td>\n",
       "      <td>0</td>\n",
       "      <td>0</td>\n",
       "      <td>0</td>\n",
       "      <td>0</td>\n",
       "    </tr>\n",
       "    <tr>\n",
       "      <th>3687</th>\n",
       "      <td>0</td>\n",
       "      <td>0</td>\n",
       "      <td>0</td>\n",
       "      <td>0</td>\n",
       "      <td>0</td>\n",
       "      <td>0</td>\n",
       "      <td>0</td>\n",
       "      <td>0</td>\n",
       "      <td>0</td>\n",
       "      <td>0</td>\n",
       "      <td>...</td>\n",
       "      <td>0</td>\n",
       "      <td>0</td>\n",
       "      <td>0</td>\n",
       "      <td>0</td>\n",
       "      <td>0</td>\n",
       "      <td>0</td>\n",
       "      <td>0</td>\n",
       "      <td>0</td>\n",
       "      <td>0</td>\n",
       "      <td>0</td>\n",
       "    </tr>\n",
       "    <tr>\n",
       "      <th>656</th>\n",
       "      <td>0</td>\n",
       "      <td>0</td>\n",
       "      <td>0</td>\n",
       "      <td>0</td>\n",
       "      <td>0</td>\n",
       "      <td>0</td>\n",
       "      <td>0</td>\n",
       "      <td>0</td>\n",
       "      <td>0</td>\n",
       "      <td>0</td>\n",
       "      <td>...</td>\n",
       "      <td>0</td>\n",
       "      <td>0</td>\n",
       "      <td>0</td>\n",
       "      <td>0</td>\n",
       "      <td>0</td>\n",
       "      <td>0</td>\n",
       "      <td>0</td>\n",
       "      <td>0</td>\n",
       "      <td>0</td>\n",
       "      <td>0</td>\n",
       "    </tr>\n",
       "  </tbody>\n",
       "</table>\n",
       "<p>984 rows × 132 columns</p>\n",
       "</div>"
      ],
      "text/plain": [
       "      itching  skin_rash  nodal_skin_eruptions  continuous_sneezing  \\\n",
       "4007        0          0                     0                    0   \n",
       "1938        0          0                     0                    0   \n",
       "4462        0          0                     0                    0   \n",
       "3227        0          0                     0                    0   \n",
       "3889        0          0                     0                    0   \n",
       "...       ...        ...                   ...                  ...   \n",
       "111         0          0                     0                    0   \n",
       "3741        0          0                     0                    0   \n",
       "3280        1          1                     1                    0   \n",
       "3687        0          0                     0                    0   \n",
       "656         0          0                     0                    0   \n",
       "\n",
       "      shivering  chills  joint_pain  stomach_pain  acidity  ulcers_on_tongue  \\\n",
       "4007          0       0           0             0        0                 0   \n",
       "1938          0       0           0             0        0                 0   \n",
       "4462          0       0           1             0        0                 0   \n",
       "3227          0       0           0             0        0                 0   \n",
       "3889          0       0           0             0        0                 0   \n",
       "...         ...     ...         ...           ...      ...               ...   \n",
       "111           0       0           0             0        0                 0   \n",
       "3741          0       0           0             0        0                 0   \n",
       "3280          0       0           0             0        0                 0   \n",
       "3687          0       0           0             0        0                 0   \n",
       "656           0       0           0             0        0                 0   \n",
       "\n",
       "      ...  pus_filled_pimples  blackheads  scurring  skin_peeling  \\\n",
       "4007  ...                   0           0         0             0   \n",
       "1938  ...                   0           0         0             0   \n",
       "4462  ...                   0           0         0             0   \n",
       "3227  ...                   0           0         0             0   \n",
       "3889  ...                   0           0         0             0   \n",
       "...   ...                 ...         ...       ...           ...   \n",
       "111   ...                   0           0         0             0   \n",
       "3741  ...                   0           0         0             0   \n",
       "3280  ...                   0           0         0             0   \n",
       "3687  ...                   0           0         0             0   \n",
       "656   ...                   0           0         0             0   \n",
       "\n",
       "      silver_like_dusting  small_dents_in_nails  inflammatory_nails  blister  \\\n",
       "4007                    0                     0                   0        0   \n",
       "1938                    0                     0                   0        0   \n",
       "4462                    0                     0                   0        0   \n",
       "3227                    0                     0                   0        0   \n",
       "3889                    0                     0                   0        0   \n",
       "...                   ...                   ...                 ...      ...   \n",
       "111                     0                     0                   0        0   \n",
       "3741                    0                     0                   0        0   \n",
       "3280                    0                     0                   0        0   \n",
       "3687                    0                     0                   0        0   \n",
       "656                     0                     0                   0        0   \n",
       "\n",
       "      red_sore_around_nose  yellow_crust_ooze  \n",
       "4007                     0                  0  \n",
       "1938                     0                  0  \n",
       "4462                     0                  0  \n",
       "3227                     0                  0  \n",
       "3889                     0                  0  \n",
       "...                    ...                ...  \n",
       "111                      0                  0  \n",
       "3741                     0                  0  \n",
       "3280                     0                  0  \n",
       "3687                     0                  0  \n",
       "656                      0                  0  \n",
       "\n",
       "[984 rows x 132 columns]"
      ]
     },
     "execution_count": 15,
     "metadata": {},
     "output_type": "execute_result"
    }
   ],
   "source": [
    "X_test"
   ]
  },
  {
   "cell_type": "code",
   "execution_count": 16,
   "metadata": {
    "colab": {
     "base_uri": "https://localhost:8080/"
    },
    "id": "A7znVMrlLCLZ",
    "outputId": "27f1c2f8-3726-4378-c10f-b012be9de9dd"
   },
   "outputs": [
    {
     "data": {
      "text/plain": [
       "132"
      ]
     },
     "execution_count": 16,
     "metadata": {},
     "output_type": "execute_result"
    }
   ],
   "source": [
    "# Number of features\n",
    "FEATURES = X_test.shape[1]\n",
    "FEATURES"
   ]
  },
  {
   "cell_type": "markdown",
   "metadata": {
    "id": "cqzUER9BjKE2"
   },
   "source": [
    "## 2. Model Training"
   ]
  },
  {
   "cell_type": "markdown",
   "metadata": {
    "id": "NShfffVzLCLZ"
   },
   "source": [
    "### Training configuration"
   ]
  },
  {
   "cell_type": "code",
   "execution_count": 17,
   "metadata": {
    "id": "XnZ5boe6LCLa"
   },
   "outputs": [],
   "source": [
    "N_VALIDATION = int(1e3)\n",
    "N_TRAIN = int(1e4)\n",
    "BUFFER_SIZE = int(1e4)\n",
    "BATCH_SIZE = 500\n",
    "STEPS_PER_EPOCH = N_TRAIN//BATCH_SIZE"
   ]
  },
  {
   "cell_type": "markdown",
   "metadata": {
    "id": "lnAgqpHtLCLa"
   },
   "source": [
    "### Create Model"
   ]
  },
  {
   "cell_type": "markdown",
   "metadata": {
    "id": "aSiaCCIMFAzn"
   },
   "source": [
    "### Find the ideal learning rate"
   ]
  },
  {
   "cell_type": "code",
   "execution_count": 18,
   "metadata": {
    "id": "wf55jHGMLCLa"
   },
   "outputs": [],
   "source": [
    "lr_schedule = tf.keras.optimizers.schedules.InverseTimeDecay(\n",
    "  0.001,\n",
    "  decay_steps=STEPS_PER_EPOCH*1000,\n",
    "  decay_rate=1,\n",
    "  staircase=False)\n",
    "\n",
    "def get_optimizer():\n",
    "  return tf.keras.optimizers.Adam(lr_schedule)"
   ]
  },
  {
   "cell_type": "code",
   "execution_count": 19,
   "metadata": {
    "colab": {
     "base_uri": "https://localhost:8080/",
     "height": 279
    },
    "id": "VKq_1EjtLCLa",
    "outputId": "02de7e2c-e806-4d56-b024-7b5b3b410079"
   },
   "outputs": [
    {
     "data": {
      "image/png": "[encoded data removed]",
      "text/plain": [
       "<Figure size 600x400 with 1 Axes>"
      ]
     },
     "metadata": {},
     "output_type": "display_data"
    }
   ],
   "source": [
    "step = np.linspace(0,100000)\n",
    "lr = lr_schedule(step)\n",
    "plt.figure(figsize = (6,4))\n",
    "plt.plot(step/STEPS_PER_EPOCH, lr)\n",
    "plt.ylim([0,max(plt.ylim())])\n",
    "plt.xlabel('Epoch')\n",
    "_ = plt.ylabel('Learning Rate')"
   ]
  },
  {
   "cell_type": "code",
   "execution_count": 20,
   "metadata": {
    "id": "0WZH-g6WFEwO"
   },
   "outputs": [],
   "source": [
    "#lrs = 1e-4 * (10 ** (tf.range(40)/20))\n",
    "#plt.figure(figsize=(6,4))\n",
    "#plt.semilogx(lrs, history.history['loss'])\n",
    "#plt.xlabel(\"Learning Rate\")\n",
    "#plt.ylabel(\"Loss\")\n",
    "#plt.title(\"Learning Rate vs Loss\")"
   ]
  },
  {
   "cell_type": "markdown",
   "metadata": {
    "id": "NK8p0c3nLCLb"
   },
   "source": [
    "### Settings for automation"
   ]
  },
  {
   "cell_type": "code",
   "execution_count": 21,
   "metadata": {
    "id": "VQ97kuVfLCLb"
   },
   "outputs": [],
   "source": [
    "def get_callbacks(name):\n",
    "  return [\n",
    "    tfdocs.modeling.EpochDots(),\n",
    "    tf.keras.callbacks.EarlyStopping(monitor='accuracy', patience=200),\n",
    "    tf.keras.callbacks.TensorBoard(os.path.join(logdir,name)),\n",
    "  ]"
   ]
  },
  {
   "cell_type": "code",
   "execution_count": 22,
   "metadata": {
    "id": "W7ElH1RmLCLb"
   },
   "outputs": [],
   "source": [
    "def compile_and_fit(model, name, loss=None, optimizer=None, metrics = None, max_epochs=10000):\n",
    "  if optimizer is None:\n",
    "    optimizer = get_optimizer()\n",
    "\n",
    "  if loss is None:\n",
    "    loss = tf.keras.losses.BinaryCrossentropy(from_logits=True)\n",
    "  if metrics is None:\n",
    "    metrics = ['accuracy']\n",
    "  model.compile(\n",
    "      optimizer=optimizer,\n",
    "      loss=loss,\n",
    "      metrics=metrics\n",
    "  )\n",
    "\n",
    "  model.summary()\n",
    "\n",
    "  history = model.fit(\n",
    "    X_train,\n",
    "    y_train,\n",
    "    steps_per_epoch = STEPS_PER_EPOCH,\n",
    "    epochs=max_epochs,\n",
    "    validation_split=0.1,\n",
    "    #validation_data=[X_test, y_test],\n",
    "    callbacks=get_callbacks(name),\n",
    "    verbose=0)\n",
    "  return history"
   ]
  },
  {
   "cell_type": "markdown",
   "metadata": {
    "id": "NV0z2Cl6LCLc"
   },
   "source": [
    "### Models"
   ]
  },
  {
   "cell_type": "code",
   "execution_count": 37,
   "metadata": {
    "id": "ITfZLJL8LCLc"
   },
   "outputs": [],
   "source": [
    "size_histories = {}"
   ]
  },
  {
   "cell_type": "markdown",
   "metadata": {
    "id": "5BjBpcrbLCLc"
   },
   "source": [
    "#### Model 1\n",
    "\n",
    "Simple model with 3 layers"
   ]
  },
  {
   "cell_type": "code",
   "execution_count": 41,
   "metadata": {
    "id": "X7fDA2S_LCLd"
   },
   "outputs": [],
   "source": [
    "model1 = tf.keras.Sequential([\n",
    "    layers.Dense(4, activation='elu', input_shape=(FEATURES,)),\n",
    "    layers.Dense(41, activation=tf.keras.activations.softmax)\n",
    "])"
   ]
  },
  {
   "cell_type": "code",
   "execution_count": 42,
   "metadata": {
    "colab": {
     "base_uri": "https://localhost:8080/"
    },
    "id": "LpQoT7eZLCLd",
    "outputId": "dacf5d08-29e0-40f8-a72e-e5b4415a59e7"
   },
   "outputs": [
    {
     "name": "stdout",
     "output_type": "stream",
     "text": [
      "Model: \"sequential_6\"\n",
      "_________________________________________________________________\n",
      " Layer (type)                Output Shape              Param #   \n",
      "=================================================================\n",
      " dense_15 (Dense)            (None, 4)                 532       \n",
      "                                                                 \n",
      " dense_16 (Dense)            (None, 41)                205       \n",
      "                                                                 \n",
      "=================================================================\n",
      "Total params: 737\n",
      "Trainable params: 737\n",
      "Non-trainable params: 0\n",
      "_________________________________________________________________\n",
      "\n",
      "Epoch: 0, accuracy:0.0003,  loss:3.7257,  val_accuracy:0.0000,  val_loss:3.6917,  \n",
      "....................................................................................................\n",
      "Epoch: 100, accuracy:0.9749,  loss:0.3424,  val_accuracy:0.9746,  val_loss:0.3145,  \n",
      "....................................................................................................\n",
      "Epoch: 200, accuracy:0.9960,  loss:0.0595,  val_accuracy:0.9975,  val_loss:0.0545,  \n",
      "....................................................................................................\n",
      "Epoch: 300, accuracy:1.0000,  loss:0.0155,  val_accuracy:1.0000,  val_loss:0.0143,  \n",
      "....................................................................................................\n",
      "Epoch: 400, accuracy:1.0000,  loss:0.0054,  val_accuracy:1.0000,  val_loss:0.0050,  \n",
      "......"
     ]
    }
   ],
   "source": [
    "size_histories['model1'] = compile_and_fit(\n",
    "    model1, \n",
    "    'models/model1', \n",
    "    loss=tf.keras.losses.SparseCategoricalCrossentropy()\n",
    ")"
   ]
  },
  {
   "cell_type": "markdown",
   "metadata": {
    "id": "30oZZIFTLCLd"
   },
   "source": [
    "#### Model 2"
   ]
  },
  {
   "cell_type": "code",
   "execution_count": 43,
   "metadata": {
    "colab": {
     "base_uri": "https://localhost:8080/"
    },
    "id": "fYcXqSJjLCLd",
    "outputId": "8d2becbb-6a59-45fe-d735-ad84e259a033"
   },
   "outputs": [
    {
     "name": "stdout",
     "output_type": "stream",
     "text": [
      "Model: \"sequential_7\"\n",
      "_________________________________________________________________\n",
      " Layer (type)                Output Shape              Param #   \n",
      "=================================================================\n",
      " dense_17 (Dense)            (None, 4)                 532       \n",
      "                                                                 \n",
      " dense_18 (Dense)            (None, 4)                 20        \n",
      "                                                                 \n",
      " dense_19 (Dense)            (None, 41)                205       \n",
      "                                                                 \n",
      "=================================================================\n",
      "Total params: 757\n",
      "Trainable params: 757\n",
      "Non-trainable params: 0\n",
      "_________________________________________________________________\n",
      "\n",
      "Epoch: 0, accuracy:0.0327,  loss:3.6966,  val_accuracy:0.0279,  val_loss:3.6844,  \n",
      "....................................................................................................\n",
      "Epoch: 100, accuracy:0.9944,  loss:0.1794,  val_accuracy:0.9949,  val_loss:0.1489,  \n",
      "....................................................................................................\n",
      "Epoch: 200, accuracy:1.0000,  loss:0.0133,  val_accuracy:1.0000,  val_loss:0.0121,  \n",
      "....................................................................................................\n",
      "Epoch: 300, accuracy:1.0000,  loss:0.0025,  val_accuracy:1.0000,  val_loss:0.0024,  \n",
      "........................"
     ]
    }
   ],
   "source": [
    "model2 = tf.keras.Sequential([\n",
    "     layers.Dense(4, activation=tf.keras.activations.relu, input_shape=(FEATURES,)),\n",
    "    layers.Dense(4, activation=tf.keras.activations.relu),\n",
    "    layers.Dense(41, activation=tf.keras.activations.softmax)\n",
    "])\n",
    "\n",
    "\n",
    "size_histories['model2'] = compile_and_fit(\n",
    "    model2, \n",
    "    'models/model2', \n",
    "    loss=tf.keras.losses.SparseCategoricalCrossentropy()\n",
    ")\n",
    "\n",
    "#model.compile(loss=tf.keras.losses.SparseCategoricalCrossentropy(),\n",
    "#                optimizer = tf.keras.optimizers.Adam(),\n",
    "#                #metrics=['MultiClassConfusionMatrixPlot'])\n",
    "#                metrics=[\"accuracy\"])\n",
    "\n",
    "#scheduler = tf.keras.callbacks.LearningRateScheduler(lambda epoch: 1e-4 * 10 **(epoch/20))\n",
    "\n",
    "#history = model.fit(X_train, y_train, epochs=40, callbacks=[scheduler])"
   ]
  },
  {
   "cell_type": "markdown",
   "metadata": {
    "id": "WLjyeF_2LCLd",
    "tags": []
   },
   "source": [
    "#### Model 3"
   ]
  },
  {
   "cell_type": "code",
   "execution_count": 44,
   "metadata": {},
   "outputs": [
    {
     "name": "stdout",
     "output_type": "stream",
     "text": [
      "Model: \"sequential_8\"\n",
      "_________________________________________________________________\n",
      " Layer (type)                Output Shape              Param #   \n",
      "=================================================================\n",
      " dense_20 (Dense)            (None, 4)                 532       \n",
      "                                                                 \n",
      " dense_21 (Dense)            (None, 4)                 20        \n",
      "                                                                 \n",
      " dense_22 (Dense)            (None, 4)                 20        \n",
      "                                                                 \n",
      " dense_23 (Dense)            (None, 41)                205       \n",
      "                                                                 \n",
      "=================================================================\n",
      "Total params: 777\n",
      "Trainable params: 777\n",
      "Non-trainable params: 0\n",
      "_________________________________________________________________\n",
      "\n",
      "Epoch: 0, accuracy:0.0209,  loss:3.7072,  val_accuracy:0.0178,  val_loss:3.7015,  \n",
      "....................................................................................................\n",
      "Epoch: 100, accuracy:0.8368,  loss:0.6628,  val_accuracy:0.8452,  val_loss:0.6203,  \n",
      "....................................................................................................\n",
      "Epoch: 200, accuracy:0.9760,  loss:0.1849,  val_accuracy:0.9772,  val_loss:0.1798,  \n",
      "....................................................................................................\n",
      "Epoch: 300, accuracy:0.9983,  loss:0.0608,  val_accuracy:0.9975,  val_loss:0.0576,  \n",
      "....................................................................................................\n",
      "Epoch: 400, accuracy:0.9983,  loss:0.0203,  val_accuracy:0.9975,  val_loss:0.0201,  \n",
      "....................................................................................................\n",
      "Epoch: 500, accuracy:0.9992,  loss:0.0096,  val_accuracy:0.9975,  val_loss:0.0102,  \n",
      "....................................................................................................\n",
      "Epoch: 600, accuracy:1.0000,  loss:0.0035,  val_accuracy:1.0000,  val_loss:0.0032,  \n",
      "....................................................................................................\n",
      "Epoch: 700, accuracy:1.0000,  loss:0.0017,  val_accuracy:1.0000,  val_loss:0.0014,  \n",
      "........................."
     ]
    }
   ],
   "source": [
    "model3 = tf.keras.Sequential([\n",
    "     layers.Dense(4, activation=tf.keras.activations.relu, input_shape=(FEATURES,)),\n",
    "    layers.Dense(4, activation=tf.keras.activations.relu),\n",
    "    layers.Dense(4, activation=tf.keras.activations.relu),\n",
    "    layers.Dense(41, activation=tf.keras.activations.softmax)\n",
    "])\n",
    "\n",
    "\n",
    "size_histories['model3'] = compile_and_fit(\n",
    "    model3, \n",
    "    'models/model3', \n",
    "    loss=tf.keras.losses.SparseCategoricalCrossentropy()\n",
    ")"
   ]
  },
  {
   "cell_type": "markdown",
   "metadata": {
    "id": "9ps8ybEALCLe"
   },
   "source": [
    "#### Model 4"
   ]
  },
  {
   "cell_type": "code",
   "execution_count": 45,
   "metadata": {},
   "outputs": [
    {
     "name": "stdout",
     "output_type": "stream",
     "text": [
      "Model: \"sequential_9\"\n",
      "_________________________________________________________________\n",
      " Layer (type)                Output Shape              Param #   \n",
      "=================================================================\n",
      " dense_24 (Dense)            (None, 4)                 532       \n",
      "                                                                 \n",
      " dense_25 (Dense)            (None, 4)                 20        \n",
      "                                                                 \n",
      " dense_26 (Dense)            (None, 4)                 20        \n",
      "                                                                 \n",
      " dense_27 (Dense)            (None, 4)                 20        \n",
      "                                                                 \n",
      " dense_28 (Dense)            (None, 41)                205       \n",
      "                                                                 \n",
      "=================================================================\n",
      "Total params: 797\n",
      "Trainable params: 797\n",
      "Non-trainable params: 0\n",
      "_________________________________________________________________\n",
      "\n",
      "Epoch: 0, accuracy:0.0486,  loss:3.7101,  val_accuracy:0.0203,  val_loss:3.7090,  \n",
      "....................................................................................................\n",
      "Epoch: 100, accuracy:0.9043,  loss:0.3807,  val_accuracy:0.9239,  val_loss:0.3381,  \n",
      "....................................................................................................\n",
      "Epoch: 200, accuracy:1.0000,  loss:0.0256,  val_accuracy:0.9975,  val_loss:0.0213,  \n",
      "....................................................................................................\n",
      "Epoch: 300, accuracy:1.0000,  loss:0.0049,  val_accuracy:1.0000,  val_loss:0.0039,  \n",
      "................................................................................................"
     ]
    }
   ],
   "source": [
    "model4 = tf.keras.Sequential([\n",
    "     layers.Dense(4, activation=tf.keras.activations.relu, input_shape=(FEATURES,)),\n",
    "    layers.Dense(4, activation=tf.keras.activations.relu),\n",
    "    layers.Dense(4, activation=tf.keras.activations.relu),\n",
    "    layers.Dense(4, activation=tf.keras.activations.relu),\n",
    "    layers.Dense(41, activation=tf.keras.activations.softmax)\n",
    "])\n",
    "\n",
    "\n",
    "size_histories['model4'] = compile_and_fit(\n",
    "    model4, \n",
    "    'models/model4', \n",
    "    loss=tf.keras.losses.SparseCategoricalCrossentropy()\n",
    ")"
   ]
  },
  {
   "cell_type": "markdown",
   "metadata": {
    "id": "LvCmEw1cLCLe"
   },
   "source": [
    "#### Model 5"
   ]
  },
  {
   "cell_type": "code",
   "execution_count": 46,
   "metadata": {},
   "outputs": [
    {
     "name": "stdout",
     "output_type": "stream",
     "text": [
      "Model: \"sequential_10\"\n",
      "_________________________________________________________________\n",
      " Layer (type)                Output Shape              Param #   \n",
      "=================================================================\n",
      " dense_29 (Dense)            (None, 4)                 532       \n",
      "                                                                 \n",
      " dense_30 (Dense)            (None, 4)                 20        \n",
      "                                                                 \n",
      " dense_31 (Dense)            (None, 4)                 20        \n",
      "                                                                 \n",
      " dense_32 (Dense)            (None, 4)                 20        \n",
      "                                                                 \n",
      " dense_33 (Dense)            (None, 4)                 20        \n",
      "                                                                 \n",
      " dense_34 (Dense)            (None, 41)                205       \n",
      "                                                                 \n",
      "=================================================================\n",
      "Total params: 817\n",
      "Trainable params: 817\n",
      "Non-trainable params: 0\n",
      "_________________________________________________________________\n",
      "\n",
      "Epoch: 0, accuracy:0.0359,  loss:3.7098,  val_accuracy:0.0355,  val_loss:3.7037,  \n",
      "....................................................................................................\n",
      "Epoch: 100, accuracy:0.8882,  loss:0.4829,  val_accuracy:0.9188,  val_loss:0.4728,  \n",
      "....................................................................................................\n",
      "Epoch: 200, accuracy:0.9862,  loss:0.1413,  val_accuracy:0.9873,  val_loss:0.1283,  \n",
      "....................................................................................................\n",
      "Epoch: 300, accuracy:0.9927,  loss:0.0594,  val_accuracy:0.9949,  val_loss:0.0497,  \n",
      "....................................................................................................\n",
      "Epoch: 400, accuracy:0.9946,  loss:0.0306,  val_accuracy:0.9975,  val_loss:0.0275,  \n",
      "....................................................................................................\n",
      "Epoch: 500, accuracy:0.9960,  loss:0.0191,  val_accuracy:0.9975,  val_loss:0.0184,  \n",
      "....................................................................................................\n",
      "Epoch: 600, accuracy:0.9983,  loss:0.0116,  val_accuracy:0.9975,  val_loss:0.0111,  \n",
      "....................................................................................................\n",
      "Epoch: 700, accuracy:0.9941,  loss:0.0281,  val_accuracy:0.9975,  val_loss:0.0136,  \n",
      "....................................................................................................\n",
      "Epoch: 800, accuracy:0.9997,  loss:0.0060,  val_accuracy:1.0000,  val_loss:0.0050,  \n",
      "....................................................................................................\n",
      "Epoch: 900, accuracy:0.9997,  loss:0.0045,  val_accuracy:1.0000,  val_loss:0.0038,  \n",
      "..........................................."
     ]
    }
   ],
   "source": [
    "model5 = tf.keras.Sequential([\n",
    "     layers.Dense(4, activation=tf.keras.activations.relu, input_shape=(FEATURES,)),\n",
    "    layers.Dense(4, activation=tf.keras.activations.relu),\n",
    "    layers.Dense(4, activation=tf.keras.activations.relu),\n",
    "    layers.Dense(4, activation=tf.keras.activations.relu),\n",
    "    layers.Dense(4, activation=tf.keras.activations.relu),\n",
    "    layers.Dense(41, activation=tf.keras.activations.softmax)\n",
    "])\n",
    "\n",
    "\n",
    "size_histories['model5'] = compile_and_fit(\n",
    "    model5, \n",
    "    'models/model5', \n",
    "    loss=tf.keras.losses.SparseCategoricalCrossentropy()\n",
    ")"
   ]
  },
  {
   "cell_type": "markdown",
   "metadata": {
    "id": "jYdbNB_tGtak"
   },
   "source": [
    "### 3. Evaluate Model"
   ]
  },
  {
   "cell_type": "markdown",
   "metadata": {
    "id": "D-HLBIrDIi8E"
   },
   "source": [
    "#### Evaluate with test data"
   ]
  },
  {
   "cell_type": "code",
   "execution_count": 54,
   "metadata": {
    "colab": {
     "base_uri": "https://localhost:8080/"
    },
    "id": "pvcKrMrFGtuW",
    "outputId": "a5e75dfd-c819-48cd-a062-8a05bf187541"
   },
   "outputs": [
    {
     "name": "stdout",
     "output_type": "stream",
     "text": [
      "31/31 [==============================] - 0s 3ms/step - loss: 0.0054 - accuracy: 1.0000\n",
      "31/31 [==============================] - 0s 2ms/step - loss: 0.0021 - accuracy: 1.0000\n",
      "31/31 [==============================] - 0s 2ms/step - loss: 0.0018 - accuracy: 1.0000\n",
      "31/31 [==============================] - 0s 2ms/step - loss: 0.0015 - accuracy: 1.0000\n",
      "31/31 [==============================] - 0s 2ms/step - loss: 0.0052 - accuracy: 1.0000\n",
      "Evaluation with Test Data\n",
      "Model 1 - Loss: 0.005404375493526459\t\tAccuracy: 1.0\n",
      "Model 2 - Loss: 0.002117353491485119\t\tAccuracy: 1.0\n",
      "Model 3 - Loss: 0.0017746961675584316\t\tAccuracy: 1.0\n",
      "Model 4 - Loss: 0.0015167257515713573\t\tAccuracy: 1.0\n",
      "Model 5 - Loss: 0.0051766568794846535\t\tAccuracy: 1.0\n"
     ]
    }
   ],
   "source": [
    "loss1, acc1 = model1.evaluate(X_test, y_test)\n",
    "loss2, acc2 = model2.evaluate(X_test, y_test)\n",
    "loss3, acc3 = model3.evaluate(X_test, y_test)\n",
    "loss4, acc4 = model4.evaluate(X_test, y_test)\n",
    "loss5, acc5 = model5.evaluate(X_test, y_test)\n",
    "\n",
    "print(\"Evaluation with Test Data\")\n",
    "print(f\"Model 1 - Loss: {loss1}\\t\\tAccuracy: {acc1}\")\n",
    "print(f\"Model 2 - Loss: {loss2}\\t\\tAccuracy: {acc2}\")\n",
    "print(f\"Model 3 - Loss: {loss3}\\t\\tAccuracy: {acc3}\")\n",
    "print(f\"Model 4 - Loss: {loss4}\\t\\tAccuracy: {acc4}\")\n",
    "print(f\"Model 5 - Loss: {loss5}\\t\\tAccuracy: {acc5}\")"
   ]
  },
  {
   "cell_type": "markdown",
   "metadata": {
    "id": "FyqLRD8tIqaO"
   },
   "source": [
    "#### Evaluate with unseen data"
   ]
  },
  {
   "cell_type": "code",
   "execution_count": 53,
   "metadata": {
    "colab": {
     "base_uri": "https://localhost:8080/"
    },
    "id": "5berObg_IsXF",
    "outputId": "362e2e80-e01a-4c7b-d1f5-627f25e5d8ef"
   },
   "outputs": [
    {
     "name": "stdout",
     "output_type": "stream",
     "text": [
      "2/2 [==============================] - 0s 7ms/step - loss: 0.0978 - accuracy: 0.9762\n",
      "2/2 [==============================] - 0s 8ms/step - loss: 1.6777 - accuracy: 0.9762\n",
      "2/2 [==============================] - 0s 4ms/step - loss: 17.1648 - accuracy: 0.9762\n",
      "2/2 [==============================] - 0s 6ms/step - loss: 1.1754 - accuracy: 0.9762\n",
      "2/2 [==============================] - 0s 5ms/step - loss: 6.0973 - accuracy: 0.9762\n",
      "Evaluation with Unseen Data\n",
      "Model 1 - Loss: 0.09777934104204178\t\tAccuracy: 0.976190447807312\n",
      "Model 2 - Loss: 1.6776987314224243\t\tAccuracy: 0.976190447807312\n",
      "Model 3 - Loss: 17.164823532104492\t\tAccuracy: 0.976190447807312\n",
      "Model 4 - Loss: 1.1753827333450317\t\tAccuracy: 0.976190447807312\n",
      "Model 5 - Loss: 6.097318172454834\t\tAccuracy: 0.976190447807312\n"
     ]
    }
   ],
   "source": [
    "loss1, acc1 = model1.evaluate(X_unseen, y_unseen)\n",
    "loss2, acc2 = model2.evaluate(X_unseen, y_unseen)\n",
    "loss3, acc3 = model3.evaluate(X_unseen, y_unseen)\n",
    "loss4, acc4 = model4.evaluate(X_unseen, y_unseen)\n",
    "loss5, acc5 = model5.evaluate(X_unseen, y_unseen)\n",
    "\n",
    "print(\"Evaluation with Unseen Data\")\n",
    "print(f\"Model 1 - Loss: {loss1}\\t\\tAccuracy: {acc1}\")\n",
    "print(f\"Model 2 - Loss: {loss2}\\t\\tAccuracy: {acc2}\")\n",
    "print(f\"Model 3 - Loss: {loss3}\\t\\tAccuracy: {acc3}\")\n",
    "print(f\"Model 4 - Loss: {loss4}\\t\\tAccuracy: {acc4}\")\n",
    "print(f\"Model 5 - Loss: {loss5}\\t\\tAccuracy: {acc5}\")\n"
   ]
  },
  {
   "cell_type": "markdown",
   "metadata": {
    "id": "ltyV6aoxFPVI"
   },
   "source": [
    "## 3. Testing"
   ]
  },
  {
   "cell_type": "markdown",
   "metadata": {
    "id": "uT95QTFQFZdy"
   },
   "source": [
    "#### Test Set"
   ]
  },
  {
   "cell_type": "code",
   "execution_count": 29,
   "metadata": {
    "colab": {
     "base_uri": "https://localhost:8080/"
    },
    "id": "4LASSB5oFR86",
    "outputId": "779b4700-aaf0-4d8b-a10f-9867b7a4727e"
   },
   "outputs": [
    {
     "name": "stdout",
     "output_type": "stream",
     "text": [
      "31/31 [==============================] - 0s 2ms/step\n"
     ]
    },
    {
     "data": {
      "text/plain": [
       "array([2.5301304e-04, 2.5893132e-15, 8.4063089e-05, 1.4330211e-11,\n",
       "       0.0000000e+00, 4.2347853e-07, 0.0000000e+00, 3.9203764e-30,\n",
       "       3.2112940e-25, 3.9324502e-37, 2.4990379e-09, 5.2772130e-08,\n",
       "       1.3467908e-09, 0.0000000e+00, 7.8897852e-18, 2.9640277e-12,\n",
       "       1.3345304e-34, 4.2721467e-06, 1.0904525e-16, 0.0000000e+00,\n",
       "       0.0000000e+00, 2.6528463e-19, 0.0000000e+00, 3.5753124e-20,\n",
       "       4.1500390e-16, 1.0626681e-23, 4.2614261e-22, 2.5239294e-34,\n",
       "       5.6086579e-15, 2.2281823e-04, 3.1720890e-18, 6.5380279e-15,\n",
       "       8.1269396e-14, 5.0723707e-25, 2.0533247e-28, 8.9256185e-09,\n",
       "       6.0668117e-30, 3.9567071e-14, 2.2331934e-14, 9.9943525e-01,\n",
       "       6.4493970e-15], dtype=float32)"
      ]
     },
     "execution_count": 29,
     "metadata": {},
     "output_type": "execute_result"
    }
   ],
   "source": [
    "### Test set\n",
    "predictions = model.predict(X_test)\n",
    "predictions[0]"
   ]
  },
  {
   "cell_type": "code",
   "execution_count": 30,
   "metadata": {
    "id": "nar-gUFaFwFI"
   },
   "outputs": [],
   "source": [
    "result = class_names[tf.argmax(predictions, axis=1)]\n"
   ]
  },
  {
   "cell_type": "markdown",
   "metadata": {
    "id": "TzrwsdBoISwK"
   },
   "source": [
    "#### Unseen Test Data"
   ]
  },
  {
   "cell_type": "code",
   "execution_count": 31,
   "metadata": {
    "colab": {
     "base_uri": "https://localhost:8080/"
    },
    "id": "L_WPT2W_IUMl",
    "outputId": "a7db2030-46c1-4690-d32a-0f7cba71e3e1"
   },
   "outputs": [
    {
     "name": "stdout",
     "output_type": "stream",
     "text": [
      "2/2 [==============================] - 0s 5ms/step\n"
     ]
    },
    {
     "data": {
      "text/plain": [
       "array([[2.27151021e-22, 2.70056538e-04, 1.18071692e-21, ...,\n",
       "        1.05994945e-06, 4.70097797e-14, 2.10339406e-14],\n",
       "       [5.83977704e-26, 6.68785618e-34, 0.00000000e+00, ...,\n",
       "        4.76583616e-13, 3.58510025e-31, 5.92769389e-10],\n",
       "       [9.72190910e-31, 0.00000000e+00, 0.00000000e+00, ...,\n",
       "        1.21842017e-29, 0.00000000e+00, 2.47972805e-11],\n",
       "       ...,\n",
       "       [5.78185718e-04, 1.08618469e-29, 2.43855947e-19, ...,\n",
       "        3.99975397e-04, 6.30807517e-10, 4.40923934e-04],\n",
       "       [4.64461826e-25, 0.00000000e+00, 0.00000000e+00, ...,\n",
       "        4.00633338e-21, 2.98467661e-38, 1.29408050e-07],\n",
       "       [1.83729010e-09, 3.67553456e-32, 1.80565260e-23, ...,\n",
       "        1.03237162e-05, 1.04921536e-20, 1.74206571e-06]], dtype=float32)"
      ]
     },
     "execution_count": 31,
     "metadata": {},
     "output_type": "execute_result"
    }
   ],
   "source": [
    "prediction_unseen_data = model.predict(X_unseen)"
   ]
  },
  {
   "cell_type": "code",
   "execution_count": 32,
   "metadata": {
    "colab": {
     "base_uri": "https://localhost:8080/"
    },
    "id": "HfzRfrZFK3ij",
    "outputId": "45e257b3-a729-4f5f-b6fc-75308619158b"
   },
   "outputs": [
    {
     "data": {
      "text/plain": [
       "array(['Fungal infection', 'Allergy', 'GERD', 'Chronic cholestasis',\n",
       "       'Drug Reaction', 'Peptic ulcer diseae', 'AIDS', 'Diabetes ',\n",
       "       'Gastroenteritis', 'Bronchial Asthma', 'Hypertension ', 'Migraine',\n",
       "       'Cervical spondylosis', 'Paralysis (brain hemorrhage)', 'Jaundice',\n",
       "       'Malaria', 'Chicken pox', 'Dengue', 'Typhoid', 'hepatitis A',\n",
       "       'Hepatitis B', 'Hepatitis C', 'Hepatitis D', 'Hepatitis E',\n",
       "       'Alcoholic hepatitis', 'Tuberculosis', 'Common Cold', 'Pneumonia',\n",
       "       'Dimorphic hemmorhoids(piles)', 'Heart attack', 'Varicose veins',\n",
       "       'Hypothyroidism', 'Hyperthyroidism', 'Hypoglycemia',\n",
       "       'Osteoarthristis', 'Arthritis',\n",
       "       '(vertigo) Paroymsal  Positional Vertigo', 'Acne',\n",
       "       'Urinary tract infection', 'Psoriasis', 'Impetigo', 'Chicken pox'],\n",
       "      dtype=object)"
      ]
     },
     "execution_count": 32,
     "metadata": {},
     "output_type": "execute_result"
    }
   ],
   "source": [
    "result = class_names[tf.argmax(prediction_unseen_data, axis=1)]\n",
    "result"
   ]
  },
  {
   "cell_type": "markdown",
   "metadata": {
    "id": "T9ZkcLmlFcri"
   },
   "source": [
    "### Correlation Matrix"
   ]
  },
  {
   "cell_type": "code",
   "execution_count": 33,
   "metadata": {
    "id": "Qu8R1mz2FeYK"
   },
   "outputs": [],
   "source": [
    "#plt.figure(figsize=(25,12))\n",
    "\n",
    "#sns.heatmap(disease_training.corr().abs(), annot=True)\n"
   ]
  },
  {
   "cell_type": "code",
   "execution_count": null,
   "metadata": {
    "id": "-9MRBbsKLCLi"
   },
   "outputs": [],
   "source": []
  },
  {
   "cell_type": "code",
   "execution_count": null,
   "metadata": {
    "id": "YCesGWZaLCLi"
   },
   "outputs": [],
   "source": []
  }
 ],
 "metadata": {
  "colab": {
   "include_colab_link": true,
   "provenance": []
  },
  "kernelspec": {
   "display_name": "Python 3 (ipykernel)",
   "language": "python",
   "name": "python3"
  },
  "language_info": {
   "codemirror_mode": {
    "name": "ipython",
    "version": 3
   },
   "file_extension": ".py",
   "mimetype": "text/x-python",
   "name": "python",
   "nbconvert_exporter": "python",
   "pygments_lexer": "ipython3",
   "version": "3.9.13"
  }
 },
 "nbformat": 4,
 "nbformat_minor": 4
}
