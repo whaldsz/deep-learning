{
 "cells": [
  {
   "cell_type": "markdown",
   "id": "42ed0c54-cc91-43af-a9d1-256070e67d6e",
   "metadata": {},
   "source": [
    "# Activation Functions"
   ]
  },
  {
   "cell_type": "code",
   "execution_count": 1,
   "id": "b28f320e-85eb-4e94-84ad-5fc9eb74d6ac",
   "metadata": {},
   "outputs": [],
   "source": [
    "import numpy as np\n",
    "import matplotlib.pyplot as plt\n",
    "import tensorflow as tf"
   ]
  },
  {
   "cell_type": "markdown",
   "id": "be13bfab-c468-49d3-8883-01135314bb1b",
   "metadata": {},
   "source": [
    "## ELU"
   ]
  },
  {
   "cell_type": "code",
   "execution_count": null,
   "id": "901c421e-a177-4e77-ab4b-6526f28b85b0",
   "metadata": {},
   "outputs": [],
   "source": [
    "a = np.arange(-5, 5, 0.01)\n",
    "b = tf.keras.activations.elu(a)\n",
    "plt.plot(a,b)\n",
    "\n",
    "plt.title('ELU Activation Function')\n",
    "plt.xlabel('Input')\n",
    "plt.ylabel('Output');"
   ]
  },
  {
   "cell_type": "markdown",
   "id": "e5e26e5a-4c4a-46bd-ba54-368db88a7fea",
   "metadata": {},
   "source": [
    "# ReLU"
   ]
  },
  {
   "cell_type": "code",
   "execution_count": null,
   "id": "fd49d736-e8fd-44af-b51b-d784b596a43d",
   "metadata": {},
   "outputs": [],
   "source": [
    "a = np.arange(-5, 5, 0.01)\n",
    "b = tf.keras.activations.relu(a)\n",
    "plt.plot(a,b)\n",
    "\n",
    "plt.title('ReLU Activation Function')\n",
    "plt.xlabel('Input')\n",
    "plt.ylabel('Output');"
   ]
  },
  {
   "cell_type": "code",
   "execution_count": null,
   "id": "54e66692-6a2e-4b19-b699-d1a18c93f043",
   "metadata": {},
   "outputs": [],
   "source": [
    "# SOFTMAX\n"
   ]
  },
  {
   "cell_type": "code",
   "execution_count": null,
   "id": "7447381e-b22e-4c06-ae9a-c0eb1f2b26e4",
   "metadata": {},
   "outputs": [],
   "source": [
    "import seaborn as sns\n",
    "\n",
    "def softmax_stable(x):\n",
    "    return(np.exp(x - np.max(x)) / np.exp(x - np.max(x)).sum())\n",
    "\n",
    "\n",
    "inputs = np.linspace(start = 0, stop = 10, num = 11)\n",
    "outputs = softmax_stable(inputs)\n",
    "#tf.reduce_sum(outputs[0, :])\n",
    "#plt.plot(inputs,outputs)\n",
    "sns.lineplot(x = inputs, y = outputs)\n",
    "\n",
    "plt.title('Softmax Activation Function')\n",
    "plt.xlabel('Input')\n",
    "plt.ylabel('Output');"
   ]
  },
  {
   "cell_type": "markdown",
   "id": "c6d29f02-5efd-44b3-b7af-64ddfa3cbf70",
   "metadata": {},
   "source": [
    "# Sigmoid"
   ]
  },
  {
   "cell_type": "code",
   "execution_count": null,
   "id": "66c8eaaa-4d8c-4caa-a936-36637a37aa38",
   "metadata": {},
   "outputs": [],
   "source": [
    "#\n",
    "\n",
    "a = np.arange(-5, 5, 0.01)\n",
    "b = tf.keras.activations.sigmoid(a)\n",
    "plt.plot(a,b)\n",
    "\n",
    "plt.title('Sigmoid Activation Function')\n",
    "plt.xlabel('Input')\n",
    "plt.ylabel('Output');\n"
   ]
  },
  {
   "cell_type": "code",
   "execution_count": null,
   "id": "31497886-405e-4e65-b7c9-ad18aed0760f",
   "metadata": {},
   "outputs": [],
   "source": [
    "a = np.arange(-5, 5, 0.01)\n",
    "b = tf.keras.activations.elu(a)\n",
    "plt.plot(a,b)\n",
    "\n",
    "plt.title('Sigmoid Activation Function')\n",
    "plt.xlabel('Input')\n",
    "plt.ylabel('Output');"
   ]
  },
  {
   "cell_type": "code",
   "execution_count": null,
   "id": "29f20589-30c4-4421-b879-8e5c25c24737",
   "metadata": {},
   "outputs": [],
   "source": []
  }
 ],
 "metadata": {
  "kernelspec": {
   "display_name": "Python 3 (ipykernel)",
   "language": "python",
   "name": "python3"
  },
  "language_info": {
   "codemirror_mode": {
    "name": "ipython",
    "version": 3
   },
   "file_extension": ".py",
   "mimetype": "text/x-python",
   "name": "python",
   "nbconvert_exporter": "python",
   "pygments_lexer": "ipython3",
   "version": "3.9.16"
  }
 },
 "nbformat": 4,
 "nbformat_minor": 5
}
